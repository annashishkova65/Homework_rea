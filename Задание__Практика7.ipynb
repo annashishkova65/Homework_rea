{
  "nbformat": 4,
  "nbformat_minor": 0,
  "metadata": {
    "colab": {
      "provenance": []
    },
    "kernelspec": {
      "name": "python3",
      "display_name": "Python 3"
    },
    "language_info": {
      "name": "python"
    }
  },
  "cells": [
    {
      "cell_type": "markdown",
      "source": [
        "1"
      ],
      "metadata": {
        "id": "25zPnwn6zhot"
      }
    },
    {
      "cell_type": "code",
      "execution_count": null,
      "metadata": {
        "id": "IVLDNS6Pyp0T"
      },
      "outputs": [],
      "source": [
        "from tabulate import tabulate\n",
        "table = [[\"По Цельсию\"], [\"По Фаренгейту\"]]\n",
        "j = 0\n",
        "for i in range(11):\n",
        "    table[0].append(j)\n",
        "    table[1].append(9*j/5 + 32)\n",
        "    j += 10\n",
        "print(tabulate(table))"
      ]
    },
    {
      "cell_type": "markdown",
      "source": [
        "2"
      ],
      "metadata": {
        "id": "GP57e2jKzzuE"
      }
    },
    {
      "cell_type": "code",
      "source": [
        "y = input(\"Введите возраст: \")\n",
        "k = 0\n",
        "\n",
        "while y != '':\n",
        "  if 3 < int(y) < 12:\n",
        "    k+=14\n",
        "  elif 13 < int(y) < 65:\n",
        "    k+=23\n",
        "  elif int(y) >=65:\n",
        "    k+=18\n",
        "  else:\n",
        "    k+=0\n",
        "  y = input(\"Введите возраст:\")\n",
        "print(\"Общая стоимость:\", format(k, '.2f'), sep='')"
      ],
      "metadata": {
        "id": "8WbC39Nfz3lj",
        "colab": {
          "base_uri": "https://localhost:8080/"
        },
        "outputId": "2041462b-a4a4-42fd-d825-34549598c637"
      },
      "execution_count": null,
      "outputs": [
        {
          "output_type": "stream",
          "name": "stdout",
          "text": [
            "Введите возраст: 2\n",
            "Введите возраст:11\n",
            "Введите возраст:65\n",
            "Введите возраст:\n",
            "Общая стоимость:32.00\n"
          ]
        }
      ]
    },
    {
      "cell_type": "markdown",
      "source": [
        "3"
      ],
      "metadata": {
        "id": "3gzwRtbMz33r"
      }
    },
    {
      "cell_type": "code",
      "source": [
        "x = int(input())\n",
        "guess = x / 2\n",
        "while abs(guess * guess - x) > 10**(-12):\n",
        "  guess = (guess + (x / guess)) / 2\n",
        "print(guess)"
      ],
      "metadata": {
        "id": "End9k5sVz4ba",
        "colab": {
          "base_uri": "https://localhost:8080/"
        },
        "outputId": "a2f918e5-8fd6-4f31-89ed-fe6b09081d56"
      },
      "execution_count": null,
      "outputs": [
        {
          "output_type": "stream",
          "name": "stdout",
          "text": [
            "2\n",
            "1.0\n"
          ]
        }
      ]
    },
    {
      "cell_type": "markdown",
      "source": [
        "4"
      ],
      "metadata": {
        "id": "pwnGr2BIz4ty"
      }
    },
    {
      "cell_type": "code",
      "source": [
        "n = int(input())\n",
        "m = int(input())\n",
        "if n <= m:\n",
        "  d = m\n",
        "else:\n",
        "  d = n\n",
        "while n%d != 0 or m%d != 0:\n",
        "  d = d-1\n",
        "print(d)"
      ],
      "metadata": {
        "id": "y6Z2mtUiz5IT"
      },
      "execution_count": null,
      "outputs": []
    },
    {
      "cell_type": "markdown",
      "source": [
        "5"
      ],
      "metadata": {
        "id": "ASJe196Mz5Vb"
      }
    },
    {
      "cell_type": "code",
      "source": [
        "l = []\n",
        "for i in iter(input, \"\"):\n",
        "    l.append(int(i))\n",
        "\n",
        "s = 0\n",
        "for i in l:\n",
        "    s += i\n",
        "m = s / len(l)\n",
        "less_n = []\n",
        "grater_n = []\n",
        "equal_n = []\n",
        "for i in l:\n",
        "    if i > m:\n",
        "        grater_n.append(i)\n",
        "    if i == m:\n",
        "        equal_n.append(i)\n",
        "    if i < m:\n",
        "        less_n.append(i)\n",
        "print(\"среднее:\", m)\n",
        "if less_n != []:\n",
        "    print(\"ниже среднего:\", *less_n)\n",
        "if equal_n != []:\n",
        "    print(\"равные среднему:\", *equal_n)\n",
        "if grater_n != []:\n",
        "    print(\"выше среднего:\", *grater_n)"
      ],
      "metadata": {
        "id": "QTmT-j7Yz54D"
      },
      "execution_count": null,
      "outputs": []
    },
    {
      "cell_type": "markdown",
      "source": [
        "6"
      ],
      "metadata": {
        "id": "sGiW-yC0z6D6"
      }
    },
    {
      "cell_type": "code",
      "source": [
        "def reverseLookup(dictionary, value):\n",
        "  keys = []\n",
        "  for key in dictionary:\n",
        "    if dictionary[key] == value:\n",
        "      keys.append(key)\n",
        "      return keys\n",
        "if __name__==\"__main__\":\n",
        "  myDictionary = {\"a\":\"cat\", \"b\":\"dog\", \"c\":\"cow\", \"d\":\"horse\", \"e\":\"fox\"}\n",
        "  keys = reverseLookup(myDictionary, \"fox\")\n",
        "  print(keys)"
      ],
      "metadata": {
        "id": "VAJV3CW-z6mM",
        "colab": {
          "base_uri": "https://localhost:8080/"
        },
        "outputId": "5ec31ab7-0d15-431e-b5b8-ed4ed9661b35"
      },
      "execution_count": null,
      "outputs": [
        {
          "output_type": "stream",
          "name": "stdout",
          "text": [
            "['e']\n"
          ]
        }
      ]
    },
    {
      "cell_type": "markdown",
      "source": [
        "7"
      ],
      "metadata": {
        "id": "u55ZbOcuz636"
      }
    },
    {
      "cell_type": "code",
      "source": [
        "d = {'AEILONRSTU': 1, 'DG': 2, 'BCMP': 3, 'FHVWY': 4, 'K': 5, 'JX': 8, 'QZ': 10}\n",
        "word = input()\n",
        "summa = 0\n",
        "while len(word):\n",
        "  for key in d:\n",
        "    if word[-1] in key:\n",
        "      summa += d[key]\n",
        "  word = word.replace(word[-1], '', 1)\n",
        "print(summa)"
      ],
      "metadata": {
        "id": "RqrapdUHz7MT"
      },
      "execution_count": null,
      "outputs": []
    },
    {
      "cell_type": "markdown",
      "source": [
        "8"
      ],
      "metadata": {
        "id": "B-CW_TFAz7V6"
      }
    },
    {
      "cell_type": "code",
      "source": [
        "def sq(n, guess=1):\n",
        "  if abs(guess*guess - n) < 10**(-12):\n",
        "    return guess\n",
        "  else:\n",
        "    return sq(n, ((guess + (n / guess)) / 2))\n",
        "print(sq(16))\n",
        "print(sq(16, 3))\n",
        "print(sq(14, 2))\n",
        "print(sq(3, 5))"
      ],
      "metadata": {
        "id": "xq3iYuhLz7zL"
      },
      "execution_count": null,
      "outputs": []
    },
    {
      "cell_type": "markdown",
      "source": [
        "9"
      ],
      "metadata": {
        "id": "MGCGgGRrz7-6"
      }
    },
    {
      "cell_type": "code",
      "source": [
        "def decoding(l):\n",
        "    s = \"\"\n",
        "    i = 0\n",
        "    while i < len(l):\n",
        "        s = s + (l[i]*l[i+1])\n",
        "        i += 2\n",
        "    l2 = []\n",
        "    for i in s:\n",
        "        l2.append(i)\n",
        "    return l2\n",
        "\n",
        "print(decoding([\"A\", 12, \"В\", 4, \"A\", 6, \"В\", 1]))"
      ],
      "metadata": {
        "id": "s-m4v8Zbz8_K"
      },
      "execution_count": null,
      "outputs": []
    }
  ]
}