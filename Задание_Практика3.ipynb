{
  "nbformat": 4,
  "nbformat_minor": 0,
  "metadata": {
    "colab": {
      "provenance": []
    },
    "kernelspec": {
      "name": "python3",
      "display_name": "Python 3"
    },
    "language_info": {
      "name": "python"
    }
  },
  "cells": [
    {
      "cell_type": "markdown",
      "source": [
        "2.\tНапишите программу, запрашивающую у пользователя число и подсчитывающую сумму натуральных положительных чисел от 1 до введенного пользователем значения. Сумма первых n положительных чисел может быть рассчитана по формуле:\n",
        "\n"
      ],
      "metadata": {
        "id": "qF3iQIzMv7yq"
      }
    },
    {
      "cell_type": "code",
      "execution_count": null,
      "metadata": {
        "colab": {
          "base_uri": "https://localhost:8080/"
        },
        "id": "eU29cELnvt59",
        "outputId": "a07356ab-f076-4def-f1ea-a3dcc67fb5f7"
      },
      "outputs": [
        {
          "output_type": "stream",
          "name": "stdout",
          "text": [
            "25\n",
            "325\n"
          ]
        }
      ],
      "source": [
        "n = int(input())\n",
        "summa = 0\n",
        "for i in range(1, n+1):\n",
        "  summa += i\n",
        "print(summa)"
      ]
    },
    {
      "cell_type": "markdown",
      "source": [
        "4.\tНапишите программу, которая будет запрашивать у пользователя радиус и сохранять его в переменной r. После этого она должна вычислить площадь круга с заданным радиусом и объем шара с тем же радиусом. Используйте в своих вычислениях константу pi из модуля math."
      ],
      "metadata": {
        "id": "wGb5wbIKwy40"
      }
    },
    {
      "cell_type": "code",
      "source": [
        "from math import *\n",
        "r = int(input())\n",
        "Sr = pi * r**2\n",
        "Vr = (4 * pi * r**3) / 3\n",
        "print('Площадь круга =', Sr)\n",
        "print('Объем шара =', Vr)\n"
      ],
      "metadata": {
        "colab": {
          "base_uri": "https://localhost:8080/"
        },
        "id": "NPLq6l_1wnNk",
        "outputId": "5b47b548-dcd8-42ca-8eef-8d26ed42f15e"
      },
      "execution_count": null,
      "outputs": [
        {
          "output_type": "stream",
          "name": "stdout",
          "text": [
            "2\n",
            "Площадь круга = 12.566370614359172\n",
            "Объем шара = 33.510321638291124\n"
          ]
        }
      ]
    },
    {
      "cell_type": "markdown",
      "source": [
        "6.\tКлетки на шахматной доске идентифицируются буквой и цифрой. Буква определяет положение клетки по горизонтали, а цифра – по вертикали, как показано на рис. 2.1. Ваша программа должна запрашивать у пользователя координаты клетки. Используйте условное выражение для определения того, с какой клетки – белой или черной – начинается столбец. Затем при помощи обычной арифметики необходимо определить цвет конкретной клетки. Например, если пользователь ввел a1, программа должна определить, что клетка с этими координатами черная. Если d5 – белая. Проверку на ошибочность ввода координат клетки выполнять не нужно."
      ],
      "metadata": {
        "id": "JqvY5opmxzS5"
      }
    },
    {
      "cell_type": "code",
      "source": [
        "cell = input()\n",
        "letter = cell[0]\n",
        "number = int(cell[-1])\n",
        "if number % 2 == 0:\n",
        "  if letter in 'aceg':\n",
        "    print('Белая')\n",
        "  else:\n",
        "    print('Черная')\n",
        "else:\n",
        "  if letter in 'aceg':\n",
        "    print('Черная')\n",
        "  else:\n",
        "    print('Белая')"
      ],
      "metadata": {
        "colab": {
          "base_uri": "https://localhost:8080/"
        },
        "id": "oHbZdTkAx58Z",
        "outputId": "ec8ef271-ff15-4ea2-a22c-abba5c3edad6"
      },
      "execution_count": null,
      "outputs": [
        {
          "output_type": "stream",
          "name": "stdout",
          "text": [
            "b7\n",
            "Белая\n"
          ]
        }
      ]
    },
    {
      "cell_type": "markdown",
      "source": [
        "8.\tПредставьте, что сумма за пользование услугами такси складывается из базового тарифа в  размере $4,00 плюс $0,25 за каждые 140 м поездки. Напишите функцию, принимающую в качестве единственного параметра расстояние поездки в километрах и возвращающую итоговую сумму оплаты такси. В  основной программе должен демонстрироваться результат вызова функции"
      ],
      "metadata": {
        "id": "y0xaw4gA0LyY"
      }
    },
    {
      "cell_type": "code",
      "source": [
        "def rout_price(km):\n",
        "  rout = km*1000 // 140\n",
        "  return 4 + 0.25*rout\n",
        "km = float(input())\n",
        "print(rout_price(km))"
      ],
      "metadata": {
        "colab": {
          "base_uri": "https://localhost:8080/"
        },
        "id": "J0asHlOF0Stf",
        "outputId": "81086f26-1419-4678-bbf6-a8b44050fca9"
      },
      "execution_count": null,
      "outputs": [
        {
          "output_type": "stream",
          "name": "stdout",
          "text": [
            "0.156\n",
            "4.25\n"
          ]
        }
      ]
    },
    {
      "cell_type": "markdown",
      "source": [
        "10.\tРешето Эратосфена – алгоритм, изобретенный более 2000 лет назад и служащий для нахождения всех простых чисел от 2 до некоторого целого числа n. Описание этого алгоритма приведено ниже.\n",
        "\n",
        "\n",
        "\n",
        "Мы знаем, что вычеркнутые числа на листочке не являются простыми, но физически они никуда с листа не деваются и должны участвовать в дальнейшем алгоритме. Так что и в компьютерной симуляции не стоит «вычеркивать» элемент путем его удаления из списка – вместо этого лучше будет присвоить ему значение 0. После завершения алгоритма все ненулевые числа в списке и будут простыми. Напишите программу на Python, реализующую указанный выше алгоритм для отображения простых чисел в интервале от двух до значения, введенного пользователем.\n"
      ],
      "metadata": {
        "id": "bH2gYP8t2Orv"
      }
    },
    {
      "cell_type": "code",
      "source": [
        "n = int(input())\n",
        "a = []\n",
        "for i in range(2, n+1):\n",
        "  a.append(i)\n",
        "print(a)\n",
        "p = 2\n",
        "while p < n:\n",
        "  for i in range(len(a)):\n",
        "    if (a[i] % p == 0) and (p != a[i]) and (a[i] != 0):\n",
        "      a[i] = 0\n",
        "  p += 1\n",
        "print(a)\n",
        "\n"
      ],
      "metadata": {
        "colab": {
          "base_uri": "https://localhost:8080/"
        },
        "id": "fQePTp4c2Soo",
        "outputId": "d6bda02d-d689-481e-db66-f6454282fb88"
      },
      "execution_count": null,
      "outputs": [
        {
          "output_type": "stream",
          "name": "stdout",
          "text": [
            "12\n",
            "[2, 3, 4, 5, 6, 7, 8, 9, 10, 11, 12]\n",
            "[2, 3, 0, 5, 0, 7, 0, 0, 0, 11, 0]\n"
          ]
        }
      ]
    }
  ]
}