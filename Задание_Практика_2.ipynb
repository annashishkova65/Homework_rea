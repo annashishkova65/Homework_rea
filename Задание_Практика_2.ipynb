{
  "nbformat": 4,
  "nbformat_minor": 0,
  "metadata": {
    "colab": {
      "provenance": []
    },
    "kernelspec": {
      "name": "python3",
      "display_name": "Python 3"
    },
    "language_info": {
      "name": "python"
    }
  },
  "cells": [
    {
      "cell_type": "code",
      "execution_count": null,
      "metadata": {
        "colab": {
          "base_uri": "https://localhost:8080/",
          "height": 556
        },
        "id": "8tkzz5ymsqeq",
        "outputId": "8f8c94f2-9ba7-436b-e2eb-a87a8635e825"
      },
      "outputs": [
        {
          "output_type": "stream",
          "name": "stdout",
          "text": [
            "Looking in indexes: https://pypi.org/simple, https://us-python.pkg.dev/colab-wheels/public/simple/\n",
            "Requirement already satisfied: ColabTurtle in /usr/local/lib/python3.8/dist-packages (2.1.0)\n"
          ]
        },
        {
          "output_type": "display_data",
          "data": {
            "text/plain": [
              "<IPython.core.display.HTML object>"
            ],
            "text/html": [
              "\n",
              "      <svg width=\"800\" height=\"500\">\n",
              "        <rect width=\"100%\" height=\"100%\" fill=\"black\"/>\n",
              "        <line x1=\"200\" y1=\"300\" x2=\"200.0\" y2=\"100.0\" stroke-linecap=\"round\" style=\"stroke:white;stroke-width:5\"/><line x1=\"200.0\" y1=\"100.0\" x2=\"300.0\" y2=\"100.0\" stroke-linecap=\"round\" style=\"stroke:white;stroke-width:5\"/><line x1=\"300.0\" y1=\"100.0\" x2=\"300.0\" y2=\"200.0\" stroke-linecap=\"round\" style=\"stroke:white;stroke-width:5\"/><line x1=\"300.0\" y1=\"200.0\" x2=\"200.0\" y2=\"200.0\" stroke-linecap=\"round\" style=\"stroke:white;stroke-width:5\"/><line x1=\"350\" y1=\"300\" x2=\"450.0\" y2=\"300.0\" stroke-linecap=\"round\" style=\"stroke:white;stroke-width:5\"/><line x1=\"450.0\" y1=\"300.0\" x2=\"450.0\" y2=\"200.0\" stroke-linecap=\"round\" style=\"stroke:white;stroke-width:5\"/><line x1=\"450.0\" y1=\"200.0\" x2=\"350.0\" y2=\"200.0\" stroke-linecap=\"round\" style=\"stroke:white;stroke-width:5\"/><line x1=\"450\" y1=\"200\" x2=\"450.0\" y2=\"100.0\" stroke-linecap=\"round\" style=\"stroke:white;stroke-width:5\"/><line x1=\"450.0\" y1=\"100.0\" x2=\"350.0\" y2=\"100.0\" stroke-linecap=\"round\" style=\"stroke:white;stroke-width:5\"/><line x1=\"500\" y1=\"100\" x2=\"500.0\" y2=\"200.0\" stroke-linecap=\"round\" style=\"stroke:white;stroke-width:5\"/><line x1=\"500.0\" y1=\"200.0\" x2=\"600.0\" y2=\"200.0\" stroke-linecap=\"round\" style=\"stroke:white;stroke-width:5\"/><line x1=\"600.0\" y1=\"200.0\" x2=\"600.0\" y2=\"100.0\" stroke-linecap=\"round\" style=\"stroke:white;stroke-width:5\"/><line x1=\"600.0\" y1=\"100.0\" x2=\"600.0\" y2=\"300.0\" stroke-linecap=\"round\" style=\"stroke:white;stroke-width:5\"/><line x1=\"600.0\" y1=\"300.0\" x2=\"500.0\" y2=\"300.0\" stroke-linecap=\"round\" style=\"stroke:white;stroke-width:5\"/>\n",
              "        <g visibility=visible transform=\"rotate(270,500.0,300.0) translate(482.0, 282.0)\">\n",
              "<path style=\" stroke:none;fill-rule:evenodd;fill:white;fill-opacity:1;\" d=\"M 18.214844 0.632812 C 16.109375 1.800781 15.011719 4.074219 15.074219 7.132812 L 15.085938 7.652344 L 14.785156 7.496094 C 13.476562 6.824219 11.957031 6.671875 10.40625 7.066406 C 8.46875 7.550781 6.515625 9.15625 4.394531 11.992188 C 3.0625 13.777344 2.679688 14.636719 3.042969 15.027344 L 3.15625 15.152344 L 3.519531 15.152344 C 4.238281 15.152344 4.828125 14.886719 8.1875 13.039062 C 9.386719 12.378906 10.371094 11.839844 10.378906 11.839844 C 10.386719 11.839844 10.355469 11.929688 10.304688 12.035156 C 9.832031 13.09375 9.257812 14.820312 8.96875 16.078125 C 7.914062 20.652344 8.617188 24.53125 11.070312 27.660156 C 11.351562 28.015625 11.363281 27.914062 10.972656 28.382812 C 8.925781 30.84375 7.945312 33.28125 8.238281 35.1875 C 8.289062 35.527344 8.28125 35.523438 8.917969 35.523438 C 10.941406 35.523438 13.074219 34.207031 15.136719 31.6875 C 15.359375 31.417969 15.328125 31.425781 15.5625 31.574219 C 16.292969 32.042969 18.023438 32.964844 18.175781 32.964844 C 18.335938 32.964844 19.941406 32.210938 20.828125 31.71875 C 20.996094 31.625 21.136719 31.554688 21.136719 31.558594 C 21.203125 31.664062 21.898438 32.414062 22.222656 32.730469 C 23.835938 34.300781 25.5625 35.132812 27.582031 35.300781 C 27.90625 35.328125 27.9375 35.308594 28.007812 34.984375 C 28.382812 33.242188 27.625 30.925781 25.863281 28.425781 L 25.542969 27.96875 L 25.699219 27.785156 C 28.945312 23.960938 29.132812 18.699219 26.257812 11.96875 L 26.207031 11.84375 L 27.945312 12.703125 C 31.53125 14.476562 32.316406 14.800781 33.03125 14.800781 C 33.976562 14.800781 33.78125 13.9375 32.472656 12.292969 C 28.519531 7.355469 25.394531 5.925781 21.921875 7.472656 L 21.558594 7.636719 L 21.578125 7.542969 C 21.699219 6.992188 21.761719 5.742188 21.699219 5.164062 C 21.496094 3.296875 20.664062 1.964844 19.003906 0.855469 C 18.480469 0.503906 18.457031 0.5 18.214844 0.632812\"/>\n",
              "</g>\n",
              "      </svg>\n",
              "    "
            ]
          },
          "metadata": {}
        }
      ],
      "source": [
        "!pip install ColabTurtle\n",
        "from ColabTurtle.Turtle import *\n",
        "initializeTurtle()\n",
        "speed(9)\n",
        "penup()\n",
        "goto(200, 300)\n",
        "pendown()\n",
        "\n",
        "pensize(5)\n",
        "\n",
        "forward(200)\n",
        "i = 0\n",
        "while i < 3:\n",
        "    right(90)\n",
        "    forward(100)\n",
        "    i += 1\n",
        "\n",
        "penup()\n",
        "goto(350, 300)\n",
        "pendown()\n",
        "right(180)\n",
        "\n",
        "i = 0\n",
        "while i < 5:\n",
        "  forward(100)\n",
        "  left(90)\n",
        "  if i == 2:\n",
        "    penup()\n",
        "    goto(450, 200)\n",
        "    pendown()\n",
        "    right(180)\n",
        "  i += 1\n",
        "\n",
        "penup()\n",
        "goto(500, 100)\n",
        "pendown()\n",
        "\n",
        "i = 0\n",
        "while i < 3:\n",
        "  forward(100)\n",
        "  left(90)\n",
        "  i += 1\n",
        "left(90)\n",
        "forward(200)\n",
        "right(90)\n",
        "forward(100)\n",
        "\n"
      ]
    },
    {
      "cell_type": "code",
      "source": [
        "from ColabTurtle.Turtle import *\n",
        "initializeTurtle()\n",
        "speed(9)\n",
        "penup()\n",
        "goto(200, 300)\n",
        "pendown()\n",
        "\n",
        "pensize(5)\n",
        "\n",
        "i = 0\n",
        "while i < 6:\n",
        "  forward(50)\n",
        "  right(60)\n",
        "  i += 1"
      ],
      "metadata": {
        "colab": {
          "base_uri": "https://localhost:8080/",
          "height": 521
        },
        "id": "sL0bYBpPyl3g",
        "outputId": "814148cd-b8c7-4527-f8b0-cb6512709ab0"
      },
      "execution_count": null,
      "outputs": [
        {
          "output_type": "display_data",
          "data": {
            "text/plain": [
              "<IPython.core.display.HTML object>"
            ],
            "text/html": [
              "\n",
              "      <svg width=\"800\" height=\"500\">\n",
              "        <rect width=\"100%\" height=\"100%\" fill=\"black\"/>\n",
              "        <line x1=\"200\" y1=\"300\" x2=\"200.0\" y2=\"250.0\" stroke-linecap=\"round\" style=\"stroke:white;stroke-width:5\"/><line x1=\"200.0\" y1=\"250.0\" x2=\"243.301\" y2=\"225.0\" stroke-linecap=\"round\" style=\"stroke:white;stroke-width:5\"/><line x1=\"243.301\" y1=\"225.0\" x2=\"286.602\" y2=\"250.0\" stroke-linecap=\"round\" style=\"stroke:white;stroke-width:5\"/><line x1=\"286.602\" y1=\"250.0\" x2=\"286.602\" y2=\"300.0\" stroke-linecap=\"round\" style=\"stroke:white;stroke-width:5\"/><line x1=\"286.602\" y1=\"300.0\" x2=\"243.301\" y2=\"325.0\" stroke-linecap=\"round\" style=\"stroke:white;stroke-width:5\"/><line x1=\"243.301\" y1=\"325.0\" x2=\"200.0\" y2=\"300.0\" stroke-linecap=\"round\" style=\"stroke:white;stroke-width:5\"/>\n",
              "        <g visibility=visible transform=\"rotate(360,200.0,300.0) translate(182.0, 282.0)\">\n",
              "<path style=\" stroke:none;fill-rule:evenodd;fill:white;fill-opacity:1;\" d=\"M 18.214844 0.632812 C 16.109375 1.800781 15.011719 4.074219 15.074219 7.132812 L 15.085938 7.652344 L 14.785156 7.496094 C 13.476562 6.824219 11.957031 6.671875 10.40625 7.066406 C 8.46875 7.550781 6.515625 9.15625 4.394531 11.992188 C 3.0625 13.777344 2.679688 14.636719 3.042969 15.027344 L 3.15625 15.152344 L 3.519531 15.152344 C 4.238281 15.152344 4.828125 14.886719 8.1875 13.039062 C 9.386719 12.378906 10.371094 11.839844 10.378906 11.839844 C 10.386719 11.839844 10.355469 11.929688 10.304688 12.035156 C 9.832031 13.09375 9.257812 14.820312 8.96875 16.078125 C 7.914062 20.652344 8.617188 24.53125 11.070312 27.660156 C 11.351562 28.015625 11.363281 27.914062 10.972656 28.382812 C 8.925781 30.84375 7.945312 33.28125 8.238281 35.1875 C 8.289062 35.527344 8.28125 35.523438 8.917969 35.523438 C 10.941406 35.523438 13.074219 34.207031 15.136719 31.6875 C 15.359375 31.417969 15.328125 31.425781 15.5625 31.574219 C 16.292969 32.042969 18.023438 32.964844 18.175781 32.964844 C 18.335938 32.964844 19.941406 32.210938 20.828125 31.71875 C 20.996094 31.625 21.136719 31.554688 21.136719 31.558594 C 21.203125 31.664062 21.898438 32.414062 22.222656 32.730469 C 23.835938 34.300781 25.5625 35.132812 27.582031 35.300781 C 27.90625 35.328125 27.9375 35.308594 28.007812 34.984375 C 28.382812 33.242188 27.625 30.925781 25.863281 28.425781 L 25.542969 27.96875 L 25.699219 27.785156 C 28.945312 23.960938 29.132812 18.699219 26.257812 11.96875 L 26.207031 11.84375 L 27.945312 12.703125 C 31.53125 14.476562 32.316406 14.800781 33.03125 14.800781 C 33.976562 14.800781 33.78125 13.9375 32.472656 12.292969 C 28.519531 7.355469 25.394531 5.925781 21.921875 7.472656 L 21.558594 7.636719 L 21.578125 7.542969 C 21.699219 6.992188 21.761719 5.742188 21.699219 5.164062 C 21.496094 3.296875 20.664062 1.964844 19.003906 0.855469 C 18.480469 0.503906 18.457031 0.5 18.214844 0.632812\"/>\n",
              "</g>\n",
              "      </svg>\n",
              "    "
            ]
          },
          "metadata": {}
        }
      ]
    },
    {
      "cell_type": "code",
      "source": [
        "from math import *\n",
        "from ColabTurtle.Turtle import *\n",
        "initializeTurtle()\n",
        "speed(9)\n",
        "penup()\n",
        "goto(200, 300)\n",
        "pendown()\n",
        "\n",
        "pensize(2)\n",
        "a = 250\n",
        "for j in range(7):\n",
        "  for i in range(4):\n",
        "    forward(a)\n",
        "    right(90)\n",
        "\n",
        "  forward(a/4)\n",
        "  right(degrees(atan(1/3)))\n",
        "  for i in range(4):\n",
        "    forward(sqrt((a/4)**2 + ((3*a)/4)**2))\n",
        "    right(90)\n",
        "  a = sqrt((a/4)**2 + ((3*a)/4)**2)\n"
      ],
      "metadata": {
        "colab": {
          "base_uri": "https://localhost:8080/",
          "height": 521
        },
        "id": "4krfe-9U0VoE",
        "outputId": "8529b2c0-daaa-4797-951f-c5e71690165f"
      },
      "execution_count": null,
      "outputs": [
        {
          "output_type": "display_data",
          "data": {
            "text/plain": [
              "<IPython.core.display.HTML object>"
            ],
            "text/html": [
              "\n",
              "      <svg width=\"800\" height=\"500\">\n",
              "        <rect width=\"100%\" height=\"100%\" fill=\"black\"/>\n",
              "        <line x1=\"200\" y1=\"300\" x2=\"200.0\" y2=\"50.0\" stroke-linecap=\"round\" style=\"stroke:white;stroke-width:2\"/><line x1=\"200.0\" y1=\"50.0\" x2=\"450.0\" y2=\"50.0\" stroke-linecap=\"round\" style=\"stroke:white;stroke-width:2\"/><line x1=\"450.0\" y1=\"50.0\" x2=\"450.0\" y2=\"300.0\" stroke-linecap=\"round\" style=\"stroke:white;stroke-width:2\"/><line x1=\"450.0\" y1=\"300.0\" x2=\"200.0\" y2=\"300.0\" stroke-linecap=\"round\" style=\"stroke:white;stroke-width:2\"/><line x1=\"200.0\" y1=\"300.0\" x2=\"200.0\" y2=\"237.5\" stroke-linecap=\"round\" style=\"stroke:white;stroke-width:2\"/><line x1=\"200.0\" y1=\"237.5\" x2=\"262.5\" y2=\"50.0\" stroke-linecap=\"round\" style=\"stroke:white;stroke-width:2\"/><line x1=\"262.5\" y1=\"50.0\" x2=\"450.0\" y2=\"112.5\" stroke-linecap=\"round\" style=\"stroke:white;stroke-width:2\"/><line x1=\"450.0\" y1=\"112.5\" x2=\"387.5\" y2=\"300.0\" stroke-linecap=\"round\" style=\"stroke:white;stroke-width:2\"/><line x1=\"387.5\" y1=\"300.0\" x2=\"200.0\" y2=\"237.5\" stroke-linecap=\"round\" style=\"stroke:white;stroke-width:2\"/><line x1=\"200.0\" y1=\"237.5\" x2=\"262.5\" y2=\"50.0\" stroke-linecap=\"round\" style=\"stroke:white;stroke-width:2\"/><line x1=\"262.5\" y1=\"50.0\" x2=\"450.0\" y2=\"112.5\" stroke-linecap=\"round\" style=\"stroke:white;stroke-width:2\"/><line x1=\"450.0\" y1=\"112.5\" x2=\"387.5\" y2=\"300.0\" stroke-linecap=\"round\" style=\"stroke:white;stroke-width:2\"/><line x1=\"387.5\" y1=\"300.0\" x2=\"200.0\" y2=\"237.5\" stroke-linecap=\"round\" style=\"stroke:white;stroke-width:2\"/><line x1=\"200.0\" y1=\"237.5\" x2=\"215.625\" y2=\"190.625\" stroke-linecap=\"round\" style=\"stroke:white;stroke-width:2\"/><line x1=\"215.625\" y1=\"190.625\" x2=\"309.375\" y2=\"65.625\" stroke-linecap=\"round\" style=\"stroke:white;stroke-width:2\"/><line x1=\"309.375\" y1=\"65.625\" x2=\"434.375\" y2=\"159.375\" stroke-linecap=\"round\" style=\"stroke:white;stroke-width:2\"/><line x1=\"434.375\" y1=\"159.375\" x2=\"340.625\" y2=\"284.375\" stroke-linecap=\"round\" style=\"stroke:white;stroke-width:2\"/><line x1=\"340.625\" y1=\"284.375\" x2=\"215.625\" y2=\"190.625\" stroke-linecap=\"round\" style=\"stroke:white;stroke-width:2\"/><line x1=\"215.625\" y1=\"190.625\" x2=\"309.375\" y2=\"65.625\" stroke-linecap=\"round\" style=\"stroke:white;stroke-width:2\"/><line x1=\"309.375\" y1=\"65.625\" x2=\"434.375\" y2=\"159.375\" stroke-linecap=\"round\" style=\"stroke:white;stroke-width:2\"/><line x1=\"434.375\" y1=\"159.375\" x2=\"340.625\" y2=\"284.375\" stroke-linecap=\"round\" style=\"stroke:white;stroke-width:2\"/><line x1=\"340.625\" y1=\"284.375\" x2=\"215.625\" y2=\"190.625\" stroke-linecap=\"round\" style=\"stroke:white;stroke-width:2\"/><line x1=\"215.625\" y1=\"190.625\" x2=\"239.063\" y2=\"159.375\" stroke-linecap=\"round\" style=\"stroke:white;stroke-width:2\"/><line x1=\"239.063\" y1=\"159.375\" x2=\"340.625\" y2=\"89.063\" stroke-linecap=\"round\" style=\"stroke:white;stroke-width:2\"/><line x1=\"340.625\" y1=\"89.063\" x2=\"410.937\" y2=\"190.626\" stroke-linecap=\"round\" style=\"stroke:white;stroke-width:2\"/><line x1=\"410.937\" y1=\"190.626\" x2=\"309.374\" y2=\"260.938\" stroke-linecap=\"round\" style=\"stroke:white;stroke-width:2\"/><line x1=\"309.374\" y1=\"260.938\" x2=\"239.062\" y2=\"159.375\" stroke-linecap=\"round\" style=\"stroke:white;stroke-width:2\"/><line x1=\"239.062\" y1=\"159.375\" x2=\"340.625\" y2=\"89.063\" stroke-linecap=\"round\" style=\"stroke:white;stroke-width:2\"/><line x1=\"340.625\" y1=\"89.063\" x2=\"410.937\" y2=\"190.626\" stroke-linecap=\"round\" style=\"stroke:white;stroke-width:2\"/><line x1=\"410.937\" y1=\"190.626\" x2=\"309.374\" y2=\"260.938\" stroke-linecap=\"round\" style=\"stroke:white;stroke-width:2\"/><line x1=\"309.374\" y1=\"260.938\" x2=\"239.062\" y2=\"159.375\" stroke-linecap=\"round\" style=\"stroke:white;stroke-width:2\"/><line x1=\"239.062\" y1=\"159.375\" x2=\"264.453\" y2=\"141.797\" stroke-linecap=\"round\" style=\"stroke:white;stroke-width:2\"/><line x1=\"264.453\" y1=\"141.797\" x2=\"358.203\" y2=\"114.453\" stroke-linecap=\"round\" style=\"stroke:white;stroke-width:2\"/><line x1=\"358.203\" y1=\"114.453\" x2=\"385.547\" y2=\"208.203\" stroke-linecap=\"round\" style=\"stroke:white;stroke-width:2\"/><line x1=\"385.547\" y1=\"208.203\" x2=\"291.797\" y2=\"235.547\" stroke-linecap=\"round\" style=\"stroke:white;stroke-width:2\"/><line x1=\"291.797\" y1=\"235.547\" x2=\"264.453\" y2=\"141.797\" stroke-linecap=\"round\" style=\"stroke:white;stroke-width:2\"/><line x1=\"264.453\" y1=\"141.797\" x2=\"358.203\" y2=\"114.453\" stroke-linecap=\"round\" style=\"stroke:white;stroke-width:2\"/><line x1=\"358.203\" y1=\"114.453\" x2=\"385.547\" y2=\"208.203\" stroke-linecap=\"round\" style=\"stroke:white;stroke-width:2\"/><line x1=\"385.547\" y1=\"208.203\" x2=\"291.797\" y2=\"235.547\" stroke-linecap=\"round\" style=\"stroke:white;stroke-width:2\"/><line x1=\"291.797\" y1=\"235.547\" x2=\"264.453\" y2=\"141.797\" stroke-linecap=\"round\" style=\"stroke:white;stroke-width:2\"/><line x1=\"264.453\" y1=\"141.797\" x2=\"287.89\" y2=\"134.961\" stroke-linecap=\"round\" style=\"stroke:white;stroke-width:2\"/><line x1=\"287.89\" y1=\"134.961\" x2=\"365.038\" y2=\"137.891\" stroke-linecap=\"round\" style=\"stroke:white;stroke-width:2\"/><line x1=\"365.038\" y1=\"137.891\" x2=\"362.108\" y2=\"215.039\" stroke-linecap=\"round\" style=\"stroke:white;stroke-width:2\"/><line x1=\"362.108\" y1=\"215.039\" x2=\"284.96\" y2=\"212.109\" stroke-linecap=\"round\" style=\"stroke:white;stroke-width:2\"/><line x1=\"284.96\" y1=\"212.109\" x2=\"287.89\" y2=\"134.961\" stroke-linecap=\"round\" style=\"stroke:white;stroke-width:2\"/><line x1=\"287.89\" y1=\"134.961\" x2=\"365.038\" y2=\"137.891\" stroke-linecap=\"round\" style=\"stroke:white;stroke-width:2\"/><line x1=\"365.038\" y1=\"137.891\" x2=\"362.108\" y2=\"215.039\" stroke-linecap=\"round\" style=\"stroke:white;stroke-width:2\"/><line x1=\"362.108\" y1=\"215.039\" x2=\"284.96\" y2=\"212.109\" stroke-linecap=\"round\" style=\"stroke:white;stroke-width:2\"/><line x1=\"284.96\" y1=\"212.109\" x2=\"287.89\" y2=\"134.961\" stroke-linecap=\"round\" style=\"stroke:white;stroke-width:2\"/><line x1=\"287.89\" y1=\"134.961\" x2=\"307.177\" y2=\"135.693\" stroke-linecap=\"round\" style=\"stroke:white;stroke-width:2\"/><line x1=\"307.177\" y1=\"135.693\" x2=\"364.306\" y2=\"157.177\" stroke-linecap=\"round\" style=\"stroke:white;stroke-width:2\"/><line x1=\"364.306\" y1=\"157.177\" x2=\"342.822\" y2=\"214.306\" stroke-linecap=\"round\" style=\"stroke:white;stroke-width:2\"/><line x1=\"342.822\" y1=\"214.306\" x2=\"285.693\" y2=\"192.822\" stroke-linecap=\"round\" style=\"stroke:white;stroke-width:2\"/><line x1=\"285.693\" y1=\"192.822\" x2=\"307.177\" y2=\"135.693\" stroke-linecap=\"round\" style=\"stroke:white;stroke-width:2\"/><line x1=\"307.177\" y1=\"135.693\" x2=\"364.306\" y2=\"157.177\" stroke-linecap=\"round\" style=\"stroke:white;stroke-width:2\"/><line x1=\"364.306\" y1=\"157.177\" x2=\"342.822\" y2=\"214.306\" stroke-linecap=\"round\" style=\"stroke:white;stroke-width:2\"/><line x1=\"342.822\" y1=\"214.306\" x2=\"285.693\" y2=\"192.822\" stroke-linecap=\"round\" style=\"stroke:white;stroke-width:2\"/><line x1=\"285.693\" y1=\"192.822\" x2=\"307.177\" y2=\"135.693\" stroke-linecap=\"round\" style=\"stroke:white;stroke-width:2\"/><line x1=\"307.177\" y1=\"135.693\" x2=\"321.459\" y2=\"141.064\" stroke-linecap=\"round\" style=\"stroke:white;stroke-width:2\"/><line x1=\"321.459\" y1=\"141.064\" x2=\"358.935\" y2=\"171.46\" stroke-linecap=\"round\" style=\"stroke:white;stroke-width:2\"/><line x1=\"358.935\" y1=\"171.46\" x2=\"328.539\" y2=\"208.936\" stroke-linecap=\"round\" style=\"stroke:white;stroke-width:2\"/><line x1=\"328.539\" y1=\"208.936\" x2=\"291.063\" y2=\"178.54\" stroke-linecap=\"round\" style=\"stroke:white;stroke-width:2\"/><line x1=\"291.063\" y1=\"178.54\" x2=\"321.459\" y2=\"141.064\" stroke-linecap=\"round\" style=\"stroke:white;stroke-width:2\"/>\n",
              "        <g visibility=visible transform=\"rotate(129.04464176045417,321.459,141.064) translate(303.459, 123.064)\">\n",
              "<path style=\" stroke:none;fill-rule:evenodd;fill:white;fill-opacity:1;\" d=\"M 18.214844 0.632812 C 16.109375 1.800781 15.011719 4.074219 15.074219 7.132812 L 15.085938 7.652344 L 14.785156 7.496094 C 13.476562 6.824219 11.957031 6.671875 10.40625 7.066406 C 8.46875 7.550781 6.515625 9.15625 4.394531 11.992188 C 3.0625 13.777344 2.679688 14.636719 3.042969 15.027344 L 3.15625 15.152344 L 3.519531 15.152344 C 4.238281 15.152344 4.828125 14.886719 8.1875 13.039062 C 9.386719 12.378906 10.371094 11.839844 10.378906 11.839844 C 10.386719 11.839844 10.355469 11.929688 10.304688 12.035156 C 9.832031 13.09375 9.257812 14.820312 8.96875 16.078125 C 7.914062 20.652344 8.617188 24.53125 11.070312 27.660156 C 11.351562 28.015625 11.363281 27.914062 10.972656 28.382812 C 8.925781 30.84375 7.945312 33.28125 8.238281 35.1875 C 8.289062 35.527344 8.28125 35.523438 8.917969 35.523438 C 10.941406 35.523438 13.074219 34.207031 15.136719 31.6875 C 15.359375 31.417969 15.328125 31.425781 15.5625 31.574219 C 16.292969 32.042969 18.023438 32.964844 18.175781 32.964844 C 18.335938 32.964844 19.941406 32.210938 20.828125 31.71875 C 20.996094 31.625 21.136719 31.554688 21.136719 31.558594 C 21.203125 31.664062 21.898438 32.414062 22.222656 32.730469 C 23.835938 34.300781 25.5625 35.132812 27.582031 35.300781 C 27.90625 35.328125 27.9375 35.308594 28.007812 34.984375 C 28.382812 33.242188 27.625 30.925781 25.863281 28.425781 L 25.542969 27.96875 L 25.699219 27.785156 C 28.945312 23.960938 29.132812 18.699219 26.257812 11.96875 L 26.207031 11.84375 L 27.945312 12.703125 C 31.53125 14.476562 32.316406 14.800781 33.03125 14.800781 C 33.976562 14.800781 33.78125 13.9375 32.472656 12.292969 C 28.519531 7.355469 25.394531 5.925781 21.921875 7.472656 L 21.558594 7.636719 L 21.578125 7.542969 C 21.699219 6.992188 21.761719 5.742188 21.699219 5.164062 C 21.496094 3.296875 20.664062 1.964844 19.003906 0.855469 C 18.480469 0.503906 18.457031 0.5 18.214844 0.632812\"/>\n",
              "</g>\n",
              "      </svg>\n",
              "    "
            ]
          },
          "metadata": {}
        }
      ]
    },
    {
      "cell_type": "code",
      "source": [],
      "metadata": {
        "id": "Pn6CX5Kj5qTG"
      },
      "execution_count": null,
      "outputs": []
    }
  ]
}