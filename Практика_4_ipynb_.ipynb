{
  "nbformat": 4,
  "nbformat_minor": 0,
  "metadata": {
    "colab": {
      "provenance": []
    },
    "kernelspec": {
      "name": "python3",
      "display_name": "Python 3"
    },
    "language_info": {
      "name": "python"
    }
  },
  "cells": [
    {
      "cell_type": "markdown",
      "source": [
        "График Area (совместный)"
      ],
      "metadata": {
        "id": "igQuWzPn9Etc"
      }
    },
    {
      "cell_type": "code",
      "source": [
        "# Создание общей базы для трех компаний по значению цены на момент открытия торгов по данным за год с шагом в неделю\n",
        "data = {'date': list(enph_y['Date']),\n",
        "        'ENPH': list(enph_y['Open']),\n",
        "        'SHLS': list(shls_y['Open']),\n",
        "        'FSLR': list(fslr_y['Open'])}\n",
        "df = pd.DataFrame(data)"
      ],
      "metadata": {
        "id": "z_Ye-43HwJaz"
      },
      "execution_count": null,
      "outputs": []
    },
    {
      "cell_type": "code",
      "source": [
        "# Создание совместного графика изменения цен на открытии торгов\n",
        "fig = px.area(df,x= 'date',y = ['ENPH','SHLS','FSLR'],title = 'Изменение цены')\n",
        "fig.show()"
      ],
      "metadata": {
        "id": "-KKlQ0wR2v7m",
        "colab": {
          "base_uri": "https://localhost:8080/",
          "height": 542
        },
        "outputId": "7a67ea9f-b7cf-448e-d32f-1821b6396517"
      },
      "execution_count": null,
      "outputs": [
        {
          "output_type": "display_data",
          "data": {
            "text/html": [
              "<html>\n",
              "<head><meta charset=\"utf-8\" /></head>\n",
              "<body>\n",
              "    <div>            <script src=\"https://cdnjs.cloudflare.com/ajax/libs/mathjax/2.7.5/MathJax.js?config=TeX-AMS-MML_SVG\"></script><script type=\"text/javascript\">if (window.MathJax && window.MathJax.Hub && window.MathJax.Hub.Config) {window.MathJax.Hub.Config({SVG: {font: \"STIX-Web\"}});}</script>                <script type=\"text/javascript\">window.PlotlyConfig = {MathJaxConfig: 'local'};</script>\n",
              "        <script src=\"https://cdn.plot.ly/plotly-2.18.2.min.js\"></script>                <div id=\"8d24c377-7ec2-40b4-b259-eadccb4fd958\" class=\"plotly-graph-div\" style=\"height:525px; width:100%;\"></div>            <script type=\"text/javascript\">                                    window.PLOTLYENV=window.PLOTLYENV || {};                                    if (document.getElementById(\"8d24c377-7ec2-40b4-b259-eadccb4fd958\")) {                    Plotly.newPlot(                        \"8d24c377-7ec2-40b4-b259-eadccb4fd958\",                        [{\"fillpattern\":{\"shape\":\"\"},\"hovertemplate\":\"variable=ENPH<br>date=%{x}<br>value=%{y}<extra></extra>\",\"legendgroup\":\"ENPH\",\"line\":{\"color\":\"#636efa\"},\"marker\":{\"symbol\":\"circle\"},\"mode\":\"lines\",\"name\":\"ENPH\",\"orientation\":\"v\",\"showlegend\":true,\"stackgroup\":\"1\",\"x\":[\"2022-05-16T00:00:00-04:00\",\"2022-05-23T00:00:00-04:00\",\"2022-05-30T00:00:00-04:00\",\"2022-06-06T00:00:00-04:00\",\"2022-06-13T00:00:00-04:00\",\"2022-06-20T00:00:00-04:00\",\"2022-06-27T00:00:00-04:00\",\"2022-07-04T00:00:00-04:00\",\"2022-07-11T00:00:00-04:00\",\"2022-07-18T00:00:00-04:00\",\"2022-07-25T00:00:00-04:00\",\"2022-08-01T00:00:00-04:00\",\"2022-08-08T00:00:00-04:00\",\"2022-08-15T00:00:00-04:00\",\"2022-08-22T00:00:00-04:00\",\"2022-08-29T00:00:00-04:00\",\"2022-09-05T00:00:00-04:00\",\"2022-09-12T00:00:00-04:00\",\"2022-09-19T00:00:00-04:00\",\"2022-09-26T00:00:00-04:00\",\"2022-10-03T00:00:00-04:00\",\"2022-10-10T00:00:00-04:00\",\"2022-10-17T00:00:00-04:00\",\"2022-10-24T00:00:00-04:00\",\"2022-10-31T00:00:00-04:00\",\"2022-11-07T00:00:00-05:00\",\"2022-11-14T00:00:00-05:00\",\"2022-11-21T00:00:00-05:00\",\"2022-11-28T00:00:00-05:00\",\"2022-12-05T00:00:00-05:00\",\"2022-12-12T00:00:00-05:00\",\"2022-12-19T00:00:00-05:00\",\"2022-12-26T00:00:00-05:00\",\"2023-01-02T00:00:00-05:00\",\"2023-01-09T00:00:00-05:00\",\"2023-01-16T00:00:00-05:00\",\"2023-01-23T00:00:00-05:00\",\"2023-01-30T00:00:00-05:00\",\"2023-02-06T00:00:00-05:00\",\"2023-02-13T00:00:00-05:00\",\"2023-02-20T00:00:00-05:00\",\"2023-02-27T00:00:00-05:00\",\"2023-03-06T00:00:00-05:00\",\"2023-03-13T00:00:00-04:00\",\"2023-03-20T00:00:00-04:00\",\"2023-03-27T00:00:00-04:00\",\"2023-04-03T00:00:00-04:00\",\"2023-04-10T00:00:00-04:00\",\"2023-04-17T00:00:00-04:00\",\"2023-04-24T00:00:00-04:00\",\"2023-05-01T00:00:00-04:00\",\"2023-05-08T00:00:00-04:00\"],\"xaxis\":\"x\",\"y\":[154.1999969482422,168.5800018310547,188.97000122070312,211.0,182.5800018310547,187.91000366210938,201.9199981689453,190.07000732421875,214.61000061035156,199.61000061035156,213.49000549316406,282.9100036621094,305.1199951171875,295.75,276.04998779296875,284.25,282.9100036621094,304.2699890136719,313.0,277.8599853515625,279.5400085449219,252.5399932861328,244.89999389648438,253.10000610351562,301.1099853515625,282.30999755859375,299.07000732421875,308.29998779296875,316.5799865722656,334.010009765625,315.4599914550781,308.1099853515625,292.4200134277344,269.1700134277344,236.36000061035156,249.0800018310547,223.5800018310547,208.42999267578125,224.1300048828125,212.8800048828125,203.69000244140625,205.47000122070312,218.57000732421875,209.1699981689453,189.58999633789062,199.36000061035156,213.97999572753906,189.08999633789062,215.0,223.61000061035156,164.0,161.6999969482422],\"yaxis\":\"y\",\"type\":\"scatter\"},{\"fillpattern\":{\"shape\":\"\"},\"hovertemplate\":\"variable=SHLS<br>date=%{x}<br>value=%{y}<extra></extra>\",\"legendgroup\":\"SHLS\",\"line\":{\"color\":\"#EF553B\"},\"marker\":{\"symbol\":\"circle\"},\"mode\":\"lines\",\"name\":\"SHLS\",\"orientation\":\"v\",\"showlegend\":true,\"stackgroup\":\"1\",\"x\":[\"2022-05-16T00:00:00-04:00\",\"2022-05-23T00:00:00-04:00\",\"2022-05-30T00:00:00-04:00\",\"2022-06-06T00:00:00-04:00\",\"2022-06-13T00:00:00-04:00\",\"2022-06-20T00:00:00-04:00\",\"2022-06-27T00:00:00-04:00\",\"2022-07-04T00:00:00-04:00\",\"2022-07-11T00:00:00-04:00\",\"2022-07-18T00:00:00-04:00\",\"2022-07-25T00:00:00-04:00\",\"2022-08-01T00:00:00-04:00\",\"2022-08-08T00:00:00-04:00\",\"2022-08-15T00:00:00-04:00\",\"2022-08-22T00:00:00-04:00\",\"2022-08-29T00:00:00-04:00\",\"2022-09-05T00:00:00-04:00\",\"2022-09-12T00:00:00-04:00\",\"2022-09-19T00:00:00-04:00\",\"2022-09-26T00:00:00-04:00\",\"2022-10-03T00:00:00-04:00\",\"2022-10-10T00:00:00-04:00\",\"2022-10-17T00:00:00-04:00\",\"2022-10-24T00:00:00-04:00\",\"2022-10-31T00:00:00-04:00\",\"2022-11-07T00:00:00-05:00\",\"2022-11-14T00:00:00-05:00\",\"2022-11-21T00:00:00-05:00\",\"2022-11-28T00:00:00-05:00\",\"2022-12-05T00:00:00-05:00\",\"2022-12-12T00:00:00-05:00\",\"2022-12-19T00:00:00-05:00\",\"2022-12-26T00:00:00-05:00\",\"2023-01-02T00:00:00-05:00\",\"2023-01-09T00:00:00-05:00\",\"2023-01-16T00:00:00-05:00\",\"2023-01-23T00:00:00-05:00\",\"2023-01-30T00:00:00-05:00\",\"2023-02-06T00:00:00-05:00\",\"2023-02-13T00:00:00-05:00\",\"2023-02-20T00:00:00-05:00\",\"2023-02-27T00:00:00-05:00\",\"2023-03-06T00:00:00-05:00\",\"2023-03-13T00:00:00-04:00\",\"2023-03-20T00:00:00-04:00\",\"2023-03-27T00:00:00-04:00\",\"2023-04-03T00:00:00-04:00\",\"2023-04-10T00:00:00-04:00\",\"2023-04-17T00:00:00-04:00\",\"2023-04-24T00:00:00-04:00\",\"2023-05-01T00:00:00-04:00\",\"2023-05-08T00:00:00-04:00\"],\"xaxis\":\"x\",\"y\":[12.399999618530273,15.149999618530273,16.280000686645508,18.56999969482422,16.809999465942383,20.059999465942383,17.600000381469727,15.878000259399414,18.06999969482422,16.739999771118164,17.690000534057617,22.989999771118164,24.290000915527344,25.719999313354492,24.5939998626709,24.989999771118164,25.219999313354492,26.719999313354492,23.579999923706055,20.260000228881836,21.8700008392334,22.059999465942383,20.610000610351562,20.219999313354492,22.270000457763672,20.3799991607666,22.84000015258789,29.93000030517578,30.700000762939453,24.790000915527344,23.450000762939453,26.739999771118164,24.790000915527344,25.270000457763672,24.030000686645508,28.770000457763672,27.549999237060547,26.93000030517578,25.559999465942383,24.809999465942383,25.360000610351562,24.049999237060547,26.209999084472656,21.06100082397461,20.270000457763672,21.70599937438965,22.790000915527344,21.3799991607666,23.6200008392334,21.770000457763672,20.719999313354492,19.190000534057617],\"yaxis\":\"y\",\"type\":\"scatter\"},{\"fillpattern\":{\"shape\":\"\"},\"hovertemplate\":\"variable=FSLR<br>date=%{x}<br>value=%{y}<extra></extra>\",\"legendgroup\":\"FSLR\",\"line\":{\"color\":\"#00cc96\"},\"marker\":{\"symbol\":\"circle\"},\"mode\":\"lines\",\"name\":\"FSLR\",\"orientation\":\"v\",\"showlegend\":true,\"stackgroup\":\"1\",\"x\":[\"2022-05-16T00:00:00-04:00\",\"2022-05-23T00:00:00-04:00\",\"2022-05-30T00:00:00-04:00\",\"2022-06-06T00:00:00-04:00\",\"2022-06-13T00:00:00-04:00\",\"2022-06-20T00:00:00-04:00\",\"2022-06-27T00:00:00-04:00\",\"2022-07-04T00:00:00-04:00\",\"2022-07-11T00:00:00-04:00\",\"2022-07-18T00:00:00-04:00\",\"2022-07-25T00:00:00-04:00\",\"2022-08-01T00:00:00-04:00\",\"2022-08-08T00:00:00-04:00\",\"2022-08-15T00:00:00-04:00\",\"2022-08-22T00:00:00-04:00\",\"2022-08-29T00:00:00-04:00\",\"2022-09-05T00:00:00-04:00\",\"2022-09-12T00:00:00-04:00\",\"2022-09-19T00:00:00-04:00\",\"2022-09-26T00:00:00-04:00\",\"2022-10-03T00:00:00-04:00\",\"2022-10-10T00:00:00-04:00\",\"2022-10-17T00:00:00-04:00\",\"2022-10-24T00:00:00-04:00\",\"2022-10-31T00:00:00-04:00\",\"2022-11-07T00:00:00-05:00\",\"2022-11-14T00:00:00-05:00\",\"2022-11-21T00:00:00-05:00\",\"2022-11-28T00:00:00-05:00\",\"2022-12-05T00:00:00-05:00\",\"2022-12-12T00:00:00-05:00\",\"2022-12-19T00:00:00-05:00\",\"2022-12-26T00:00:00-05:00\",\"2023-01-02T00:00:00-05:00\",\"2023-01-09T00:00:00-05:00\",\"2023-01-16T00:00:00-05:00\",\"2023-01-23T00:00:00-05:00\",\"2023-01-30T00:00:00-05:00\",\"2023-02-06T00:00:00-05:00\",\"2023-02-13T00:00:00-05:00\",\"2023-02-20T00:00:00-05:00\",\"2023-02-27T00:00:00-05:00\",\"2023-03-06T00:00:00-05:00\",\"2023-03-13T00:00:00-04:00\",\"2023-03-20T00:00:00-04:00\",\"2023-03-27T00:00:00-04:00\",\"2023-04-03T00:00:00-04:00\",\"2023-04-10T00:00:00-04:00\",\"2023-04-17T00:00:00-04:00\",\"2023-04-24T00:00:00-04:00\",\"2023-05-01T00:00:00-04:00\",\"2023-05-08T00:00:00-04:00\"],\"xaxis\":\"x\",\"y\":[63.7400016784668,66.20999908447266,72.1500015258789,76.72000122070312,65.13999938964844,68.19000244140625,70.37999725341797,66.87000274658203,71.44999694824219,66.30000305175781,72.29000091552734,98.97000122070312,109.19999694824219,117.41000366210938,112.25,119.61000061035156,126.19999694824219,134.6199951171875,135.1199951171875,129.89999389648438,132.6999969482422,128.5,125.68000030517578,123.1500015258789,133.97999572753906,154.8300018310547,151.38999938964844,165.6999969482422,167.50999450683594,168.0,149.77000427246094,155.97999572753906,156.3300018310547,151.00999450683594,157.5500030517578,181.0,168.33999633789062,177.38999938964844,167.38999938964844,165.8000030517578,162.2100067138672,163.4499969482422,211.69000244140625,204.60000610351562,200.69000244140625,212.77000427246094,217.27999877929688,202.99000549316406,208.1999969482422,209.50999450683594,182.5800018310547,179.6999969482422],\"yaxis\":\"y\",\"type\":\"scatter\"}],                        {\"template\":{\"data\":{\"histogram2dcontour\":[{\"type\":\"histogram2dcontour\",\"colorbar\":{\"outlinewidth\":0,\"ticks\":\"\"},\"colorscale\":[[0.0,\"#0d0887\"],[0.1111111111111111,\"#46039f\"],[0.2222222222222222,\"#7201a8\"],[0.3333333333333333,\"#9c179e\"],[0.4444444444444444,\"#bd3786\"],[0.5555555555555556,\"#d8576b\"],[0.6666666666666666,\"#ed7953\"],[0.7777777777777778,\"#fb9f3a\"],[0.8888888888888888,\"#fdca26\"],[1.0,\"#f0f921\"]]}],\"choropleth\":[{\"type\":\"choropleth\",\"colorbar\":{\"outlinewidth\":0,\"ticks\":\"\"}}],\"histogram2d\":[{\"type\":\"histogram2d\",\"colorbar\":{\"outlinewidth\":0,\"ticks\":\"\"},\"colorscale\":[[0.0,\"#0d0887\"],[0.1111111111111111,\"#46039f\"],[0.2222222222222222,\"#7201a8\"],[0.3333333333333333,\"#9c179e\"],[0.4444444444444444,\"#bd3786\"],[0.5555555555555556,\"#d8576b\"],[0.6666666666666666,\"#ed7953\"],[0.7777777777777778,\"#fb9f3a\"],[0.8888888888888888,\"#fdca26\"],[1.0,\"#f0f921\"]]}],\"heatmap\":[{\"type\":\"heatmap\",\"colorbar\":{\"outlinewidth\":0,\"ticks\":\"\"},\"colorscale\":[[0.0,\"#0d0887\"],[0.1111111111111111,\"#46039f\"],[0.2222222222222222,\"#7201a8\"],[0.3333333333333333,\"#9c179e\"],[0.4444444444444444,\"#bd3786\"],[0.5555555555555556,\"#d8576b\"],[0.6666666666666666,\"#ed7953\"],[0.7777777777777778,\"#fb9f3a\"],[0.8888888888888888,\"#fdca26\"],[1.0,\"#f0f921\"]]}],\"heatmapgl\":[{\"type\":\"heatmapgl\",\"colorbar\":{\"outlinewidth\":0,\"ticks\":\"\"},\"colorscale\":[[0.0,\"#0d0887\"],[0.1111111111111111,\"#46039f\"],[0.2222222222222222,\"#7201a8\"],[0.3333333333333333,\"#9c179e\"],[0.4444444444444444,\"#bd3786\"],[0.5555555555555556,\"#d8576b\"],[0.6666666666666666,\"#ed7953\"],[0.7777777777777778,\"#fb9f3a\"],[0.8888888888888888,\"#fdca26\"],[1.0,\"#f0f921\"]]}],\"contourcarpet\":[{\"type\":\"contourcarpet\",\"colorbar\":{\"outlinewidth\":0,\"ticks\":\"\"}}],\"contour\":[{\"type\":\"contour\",\"colorbar\":{\"outlinewidth\":0,\"ticks\":\"\"},\"colorscale\":[[0.0,\"#0d0887\"],[0.1111111111111111,\"#46039f\"],[0.2222222222222222,\"#7201a8\"],[0.3333333333333333,\"#9c179e\"],[0.4444444444444444,\"#bd3786\"],[0.5555555555555556,\"#d8576b\"],[0.6666666666666666,\"#ed7953\"],[0.7777777777777778,\"#fb9f3a\"],[0.8888888888888888,\"#fdca26\"],[1.0,\"#f0f921\"]]}],\"surface\":[{\"type\":\"surface\",\"colorbar\":{\"outlinewidth\":0,\"ticks\":\"\"},\"colorscale\":[[0.0,\"#0d0887\"],[0.1111111111111111,\"#46039f\"],[0.2222222222222222,\"#7201a8\"],[0.3333333333333333,\"#9c179e\"],[0.4444444444444444,\"#bd3786\"],[0.5555555555555556,\"#d8576b\"],[0.6666666666666666,\"#ed7953\"],[0.7777777777777778,\"#fb9f3a\"],[0.8888888888888888,\"#fdca26\"],[1.0,\"#f0f921\"]]}],\"mesh3d\":[{\"type\":\"mesh3d\",\"colorbar\":{\"outlinewidth\":0,\"ticks\":\"\"}}],\"scatter\":[{\"fillpattern\":{\"fillmode\":\"overlay\",\"size\":10,\"solidity\":0.2},\"type\":\"scatter\"}],\"parcoords\":[{\"type\":\"parcoords\",\"line\":{\"colorbar\":{\"outlinewidth\":0,\"ticks\":\"\"}}}],\"scatterpolargl\":[{\"type\":\"scatterpolargl\",\"marker\":{\"colorbar\":{\"outlinewidth\":0,\"ticks\":\"\"}}}],\"bar\":[{\"error_x\":{\"color\":\"#2a3f5f\"},\"error_y\":{\"color\":\"#2a3f5f\"},\"marker\":{\"line\":{\"color\":\"#E5ECF6\",\"width\":0.5},\"pattern\":{\"fillmode\":\"overlay\",\"size\":10,\"solidity\":0.2}},\"type\":\"bar\"}],\"scattergeo\":[{\"type\":\"scattergeo\",\"marker\":{\"colorbar\":{\"outlinewidth\":0,\"ticks\":\"\"}}}],\"scatterpolar\":[{\"type\":\"scatterpolar\",\"marker\":{\"colorbar\":{\"outlinewidth\":0,\"ticks\":\"\"}}}],\"histogram\":[{\"marker\":{\"pattern\":{\"fillmode\":\"overlay\",\"size\":10,\"solidity\":0.2}},\"type\":\"histogram\"}],\"scattergl\":[{\"type\":\"scattergl\",\"marker\":{\"colorbar\":{\"outlinewidth\":0,\"ticks\":\"\"}}}],\"scatter3d\":[{\"type\":\"scatter3d\",\"line\":{\"colorbar\":{\"outlinewidth\":0,\"ticks\":\"\"}},\"marker\":{\"colorbar\":{\"outlinewidth\":0,\"ticks\":\"\"}}}],\"scattermapbox\":[{\"type\":\"scattermapbox\",\"marker\":{\"colorbar\":{\"outlinewidth\":0,\"ticks\":\"\"}}}],\"scatterternary\":[{\"type\":\"scatterternary\",\"marker\":{\"colorbar\":{\"outlinewidth\":0,\"ticks\":\"\"}}}],\"scattercarpet\":[{\"type\":\"scattercarpet\",\"marker\":{\"colorbar\":{\"outlinewidth\":0,\"ticks\":\"\"}}}],\"carpet\":[{\"aaxis\":{\"endlinecolor\":\"#2a3f5f\",\"gridcolor\":\"white\",\"linecolor\":\"white\",\"minorgridcolor\":\"white\",\"startlinecolor\":\"#2a3f5f\"},\"baxis\":{\"endlinecolor\":\"#2a3f5f\",\"gridcolor\":\"white\",\"linecolor\":\"white\",\"minorgridcolor\":\"white\",\"startlinecolor\":\"#2a3f5f\"},\"type\":\"carpet\"}],\"table\":[{\"cells\":{\"fill\":{\"color\":\"#EBF0F8\"},\"line\":{\"color\":\"white\"}},\"header\":{\"fill\":{\"color\":\"#C8D4E3\"},\"line\":{\"color\":\"white\"}},\"type\":\"table\"}],\"barpolar\":[{\"marker\":{\"line\":{\"color\":\"#E5ECF6\",\"width\":0.5},\"pattern\":{\"fillmode\":\"overlay\",\"size\":10,\"solidity\":0.2}},\"type\":\"barpolar\"}],\"pie\":[{\"automargin\":true,\"type\":\"pie\"}]},\"layout\":{\"autotypenumbers\":\"strict\",\"colorway\":[\"#636efa\",\"#EF553B\",\"#00cc96\",\"#ab63fa\",\"#FFA15A\",\"#19d3f3\",\"#FF6692\",\"#B6E880\",\"#FF97FF\",\"#FECB52\"],\"font\":{\"color\":\"#2a3f5f\"},\"hovermode\":\"closest\",\"hoverlabel\":{\"align\":\"left\"},\"paper_bgcolor\":\"white\",\"plot_bgcolor\":\"#E5ECF6\",\"polar\":{\"bgcolor\":\"#E5ECF6\",\"angularaxis\":{\"gridcolor\":\"white\",\"linecolor\":\"white\",\"ticks\":\"\"},\"radialaxis\":{\"gridcolor\":\"white\",\"linecolor\":\"white\",\"ticks\":\"\"}},\"ternary\":{\"bgcolor\":\"#E5ECF6\",\"aaxis\":{\"gridcolor\":\"white\",\"linecolor\":\"white\",\"ticks\":\"\"},\"baxis\":{\"gridcolor\":\"white\",\"linecolor\":\"white\",\"ticks\":\"\"},\"caxis\":{\"gridcolor\":\"white\",\"linecolor\":\"white\",\"ticks\":\"\"}},\"coloraxis\":{\"colorbar\":{\"outlinewidth\":0,\"ticks\":\"\"}},\"colorscale\":{\"sequential\":[[0.0,\"#0d0887\"],[0.1111111111111111,\"#46039f\"],[0.2222222222222222,\"#7201a8\"],[0.3333333333333333,\"#9c179e\"],[0.4444444444444444,\"#bd3786\"],[0.5555555555555556,\"#d8576b\"],[0.6666666666666666,\"#ed7953\"],[0.7777777777777778,\"#fb9f3a\"],[0.8888888888888888,\"#fdca26\"],[1.0,\"#f0f921\"]],\"sequentialminus\":[[0.0,\"#0d0887\"],[0.1111111111111111,\"#46039f\"],[0.2222222222222222,\"#7201a8\"],[0.3333333333333333,\"#9c179e\"],[0.4444444444444444,\"#bd3786\"],[0.5555555555555556,\"#d8576b\"],[0.6666666666666666,\"#ed7953\"],[0.7777777777777778,\"#fb9f3a\"],[0.8888888888888888,\"#fdca26\"],[1.0,\"#f0f921\"]],\"diverging\":[[0,\"#8e0152\"],[0.1,\"#c51b7d\"],[0.2,\"#de77ae\"],[0.3,\"#f1b6da\"],[0.4,\"#fde0ef\"],[0.5,\"#f7f7f7\"],[0.6,\"#e6f5d0\"],[0.7,\"#b8e186\"],[0.8,\"#7fbc41\"],[0.9,\"#4d9221\"],[1,\"#276419\"]]},\"xaxis\":{\"gridcolor\":\"white\",\"linecolor\":\"white\",\"ticks\":\"\",\"title\":{\"standoff\":15},\"zerolinecolor\":\"white\",\"automargin\":true,\"zerolinewidth\":2},\"yaxis\":{\"gridcolor\":\"white\",\"linecolor\":\"white\",\"ticks\":\"\",\"title\":{\"standoff\":15},\"zerolinecolor\":\"white\",\"automargin\":true,\"zerolinewidth\":2},\"scene\":{\"xaxis\":{\"backgroundcolor\":\"#E5ECF6\",\"gridcolor\":\"white\",\"linecolor\":\"white\",\"showbackground\":true,\"ticks\":\"\",\"zerolinecolor\":\"white\",\"gridwidth\":2},\"yaxis\":{\"backgroundcolor\":\"#E5ECF6\",\"gridcolor\":\"white\",\"linecolor\":\"white\",\"showbackground\":true,\"ticks\":\"\",\"zerolinecolor\":\"white\",\"gridwidth\":2},\"zaxis\":{\"backgroundcolor\":\"#E5ECF6\",\"gridcolor\":\"white\",\"linecolor\":\"white\",\"showbackground\":true,\"ticks\":\"\",\"zerolinecolor\":\"white\",\"gridwidth\":2}},\"shapedefaults\":{\"line\":{\"color\":\"#2a3f5f\"}},\"annotationdefaults\":{\"arrowcolor\":\"#2a3f5f\",\"arrowhead\":0,\"arrowwidth\":1},\"geo\":{\"bgcolor\":\"white\",\"landcolor\":\"#E5ECF6\",\"subunitcolor\":\"white\",\"showland\":true,\"showlakes\":true,\"lakecolor\":\"white\"},\"title\":{\"x\":0.05},\"mapbox\":{\"style\":\"light\"}}},\"xaxis\":{\"anchor\":\"y\",\"domain\":[0.0,1.0],\"title\":{\"text\":\"date\"}},\"yaxis\":{\"anchor\":\"x\",\"domain\":[0.0,1.0],\"title\":{\"text\":\"value\"}},\"legend\":{\"title\":{\"text\":\"variable\"},\"tracegroupgap\":0},\"title\":{\"text\":\"\\u0418\\u0437\\u043c\\u0435\\u043d\\u0435\\u043d\\u0438\\u0435 \\u0446\\u0435\\u043d\\u044b\"}},                        {\"responsive\": true}                    ).then(function(){\n",
              "                            \n",
              "var gd = document.getElementById('8d24c377-7ec2-40b4-b259-eadccb4fd958');\n",
              "var x = new MutationObserver(function (mutations, observer) {{\n",
              "        var display = window.getComputedStyle(gd).display;\n",
              "        if (!display || display === 'none') {{\n",
              "            console.log([gd, 'removed!']);\n",
              "            Plotly.purge(gd);\n",
              "            observer.disconnect();\n",
              "        }}\n",
              "}});\n",
              "\n",
              "// Listen for the removal of the full notebook cells\n",
              "var notebookContainer = gd.closest('#notebook-container');\n",
              "if (notebookContainer) {{\n",
              "    x.observe(notebookContainer, {childList: true});\n",
              "}}\n",
              "\n",
              "// Listen for the clearing of the current output cell\n",
              "var outputEl = gd.closest('.output');\n",
              "if (outputEl) {{\n",
              "    x.observe(outputEl, {childList: true});\n",
              "}}\n",
              "\n",
              "                        })                };                            </script>        </div>\n",
              "</body>\n",
              "</html>"
            ]
          },
          "metadata": {}
        }
      ]
    },
    {
      "cell_type": "markdown",
      "source": [
        "#Графики с Investing.com"
      ],
      "metadata": {
        "id": "-qewIJTK9bWb"
      }
    },
    {
      "cell_type": "markdown",
      "source": [
        "График Bar"
      ],
      "metadata": {
        "id": "qac8SEQA9rjT"
      }
    },
    {
      "cell_type": "code",
      "source": [
        "# Создание столбчатого графика процентного изменения стоимости биржевого товара компании Solana по данным за год с шагом в день\n",
        "fig = px.bar(sol_1y, x = 'Date', y = 'Change %')\n",
        "fig.show()"
      ],
      "metadata": {
        "id": "gX3lWsci9hJl",
        "colab": {
          "base_uri": "https://localhost:8080/",
          "height": 542
        },
        "outputId": "80518e35-4381-4272-9756-076f6ca6c329"
      },
      "execution_count": null,
      "outputs": [
        {
          "output_type": "display_data",
          "data": {
            "text/html": [
              "<html>\n",
              "<head><meta charset=\"utf-8\" /></head>\n",
              "<body>\n",
              "    <div>            <script src=\"https://cdnjs.cloudflare.com/ajax/libs/mathjax/2.7.5/MathJax.js?config=TeX-AMS-MML_SVG\"></script><script type=\"text/javascript\">if (window.MathJax && window.MathJax.Hub && window.MathJax.Hub.Config) {window.MathJax.Hub.Config({SVG: {font: \"STIX-Web\"}});}</script>                <script type=\"text/javascript\">window.PlotlyConfig = {MathJaxConfig: 'local'};</script>\n",
              "        <script src=\"https://cdn.plot.ly/plotly-2.18.2.min.js\"></script>                <div id=\"961d46f8-7c56-4a6e-b77e-b8547043d0f3\" class=\"plotly-graph-div\" style=\"height:525px; width:100%;\"></div>            <script type=\"text/javascript\">                                    window.PLOTLYENV=window.PLOTLYENV || {};                                    if (document.getElementById(\"961d46f8-7c56-4a6e-b77e-b8547043d0f3\")) {                    Plotly.newPlot(                        \"961d46f8-7c56-4a6e-b77e-b8547043d0f3\",                        [{\"alignmentgroup\":\"True\",\"hovertemplate\":\"Date=%{x}<br>Change %=%{y}<extra></extra>\",\"legendgroup\":\"\",\"marker\":{\"color\":\"#636efa\",\"pattern\":{\"shape\":\"\"}},\"name\":\"\",\"offsetgroup\":\"\",\"orientation\":\"v\",\"showlegend\":false,\"textposition\":\"auto\",\"x\":[\"May 14, 2023\",\"May 13, 2023\",\"May 12, 2023\",\"May 11, 2023\",\"May 10, 2023\",\"May 09, 2023\",\"May 08, 2023\",\"May 07, 2023\",\"May 06, 2023\",\"May 05, 2023\",\"May 04, 2023\",\"May 03, 2023\",\"May 02, 2023\",\"May 01, 2023\",\"Apr 30, 2023\",\"Apr 29, 2023\",\"Apr 28, 2023\",\"Apr 27, 2023\",\"Apr 26, 2023\",\"Apr 25, 2023\",\"Apr 24, 2023\",\"Apr 23, 2023\",\"Apr 22, 2023\",\"Apr 21, 2023\",\"Apr 20, 2023\",\"Apr 19, 2023\",\"Apr 18, 2023\",\"Apr 17, 2023\",\"Apr 16, 2023\",\"Apr 15, 2023\",\"Apr 14, 2023\"],\"xaxis\":\"x\",\"y\":[\"1.10%\",\"-0.35%\",\"3.57%\",\"-3.57%\",\"1.26%\",\"0.19%\",\"-4.72%\",\"-1.25%\",\"-3.93%\",\"4.99%\",\"-2.16%\",\"-0.14%\",\"1.26%\",\"-3.36%\",\"-1.93%\",\"-0.69%\",\"4.55%\",\"4.92%\",\"-2.90%\",\"2.53%\",\"-0.42%\",\"-1.49%\",\"2.48%\",\"-4.13%\",\"-2.20%\",\"-8.62%\",\"1.03%\",\"-3.12%\",\"5.46%\",\"-2.73%\",\"1.17%\"],\"yaxis\":\"y\",\"type\":\"bar\"}],                        {\"template\":{\"data\":{\"histogram2dcontour\":[{\"type\":\"histogram2dcontour\",\"colorbar\":{\"outlinewidth\":0,\"ticks\":\"\"},\"colorscale\":[[0.0,\"#0d0887\"],[0.1111111111111111,\"#46039f\"],[0.2222222222222222,\"#7201a8\"],[0.3333333333333333,\"#9c179e\"],[0.4444444444444444,\"#bd3786\"],[0.5555555555555556,\"#d8576b\"],[0.6666666666666666,\"#ed7953\"],[0.7777777777777778,\"#fb9f3a\"],[0.8888888888888888,\"#fdca26\"],[1.0,\"#f0f921\"]]}],\"choropleth\":[{\"type\":\"choropleth\",\"colorbar\":{\"outlinewidth\":0,\"ticks\":\"\"}}],\"histogram2d\":[{\"type\":\"histogram2d\",\"colorbar\":{\"outlinewidth\":0,\"ticks\":\"\"},\"colorscale\":[[0.0,\"#0d0887\"],[0.1111111111111111,\"#46039f\"],[0.2222222222222222,\"#7201a8\"],[0.3333333333333333,\"#9c179e\"],[0.4444444444444444,\"#bd3786\"],[0.5555555555555556,\"#d8576b\"],[0.6666666666666666,\"#ed7953\"],[0.7777777777777778,\"#fb9f3a\"],[0.8888888888888888,\"#fdca26\"],[1.0,\"#f0f921\"]]}],\"heatmap\":[{\"type\":\"heatmap\",\"colorbar\":{\"outlinewidth\":0,\"ticks\":\"\"},\"colorscale\":[[0.0,\"#0d0887\"],[0.1111111111111111,\"#46039f\"],[0.2222222222222222,\"#7201a8\"],[0.3333333333333333,\"#9c179e\"],[0.4444444444444444,\"#bd3786\"],[0.5555555555555556,\"#d8576b\"],[0.6666666666666666,\"#ed7953\"],[0.7777777777777778,\"#fb9f3a\"],[0.8888888888888888,\"#fdca26\"],[1.0,\"#f0f921\"]]}],\"heatmapgl\":[{\"type\":\"heatmapgl\",\"colorbar\":{\"outlinewidth\":0,\"ticks\":\"\"},\"colorscale\":[[0.0,\"#0d0887\"],[0.1111111111111111,\"#46039f\"],[0.2222222222222222,\"#7201a8\"],[0.3333333333333333,\"#9c179e\"],[0.4444444444444444,\"#bd3786\"],[0.5555555555555556,\"#d8576b\"],[0.6666666666666666,\"#ed7953\"],[0.7777777777777778,\"#fb9f3a\"],[0.8888888888888888,\"#fdca26\"],[1.0,\"#f0f921\"]]}],\"contourcarpet\":[{\"type\":\"contourcarpet\",\"colorbar\":{\"outlinewidth\":0,\"ticks\":\"\"}}],\"contour\":[{\"type\":\"contour\",\"colorbar\":{\"outlinewidth\":0,\"ticks\":\"\"},\"colorscale\":[[0.0,\"#0d0887\"],[0.1111111111111111,\"#46039f\"],[0.2222222222222222,\"#7201a8\"],[0.3333333333333333,\"#9c179e\"],[0.4444444444444444,\"#bd3786\"],[0.5555555555555556,\"#d8576b\"],[0.6666666666666666,\"#ed7953\"],[0.7777777777777778,\"#fb9f3a\"],[0.8888888888888888,\"#fdca26\"],[1.0,\"#f0f921\"]]}],\"surface\":[{\"type\":\"surface\",\"colorbar\":{\"outlinewidth\":0,\"ticks\":\"\"},\"colorscale\":[[0.0,\"#0d0887\"],[0.1111111111111111,\"#46039f\"],[0.2222222222222222,\"#7201a8\"],[0.3333333333333333,\"#9c179e\"],[0.4444444444444444,\"#bd3786\"],[0.5555555555555556,\"#d8576b\"],[0.6666666666666666,\"#ed7953\"],[0.7777777777777778,\"#fb9f3a\"],[0.8888888888888888,\"#fdca26\"],[1.0,\"#f0f921\"]]}],\"mesh3d\":[{\"type\":\"mesh3d\",\"colorbar\":{\"outlinewidth\":0,\"ticks\":\"\"}}],\"scatter\":[{\"fillpattern\":{\"fillmode\":\"overlay\",\"size\":10,\"solidity\":0.2},\"type\":\"scatter\"}],\"parcoords\":[{\"type\":\"parcoords\",\"line\":{\"colorbar\":{\"outlinewidth\":0,\"ticks\":\"\"}}}],\"scatterpolargl\":[{\"type\":\"scatterpolargl\",\"marker\":{\"colorbar\":{\"outlinewidth\":0,\"ticks\":\"\"}}}],\"bar\":[{\"error_x\":{\"color\":\"#2a3f5f\"},\"error_y\":{\"color\":\"#2a3f5f\"},\"marker\":{\"line\":{\"color\":\"#E5ECF6\",\"width\":0.5},\"pattern\":{\"fillmode\":\"overlay\",\"size\":10,\"solidity\":0.2}},\"type\":\"bar\"}],\"scattergeo\":[{\"type\":\"scattergeo\",\"marker\":{\"colorbar\":{\"outlinewidth\":0,\"ticks\":\"\"}}}],\"scatterpolar\":[{\"type\":\"scatterpolar\",\"marker\":{\"colorbar\":{\"outlinewidth\":0,\"ticks\":\"\"}}}],\"histogram\":[{\"marker\":{\"pattern\":{\"fillmode\":\"overlay\",\"size\":10,\"solidity\":0.2}},\"type\":\"histogram\"}],\"scattergl\":[{\"type\":\"scattergl\",\"marker\":{\"colorbar\":{\"outlinewidth\":0,\"ticks\":\"\"}}}],\"scatter3d\":[{\"type\":\"scatter3d\",\"line\":{\"colorbar\":{\"outlinewidth\":0,\"ticks\":\"\"}},\"marker\":{\"colorbar\":{\"outlinewidth\":0,\"ticks\":\"\"}}}],\"scattermapbox\":[{\"type\":\"scattermapbox\",\"marker\":{\"colorbar\":{\"outlinewidth\":0,\"ticks\":\"\"}}}],\"scatterternary\":[{\"type\":\"scatterternary\",\"marker\":{\"colorbar\":{\"outlinewidth\":0,\"ticks\":\"\"}}}],\"scattercarpet\":[{\"type\":\"scattercarpet\",\"marker\":{\"colorbar\":{\"outlinewidth\":0,\"ticks\":\"\"}}}],\"carpet\":[{\"aaxis\":{\"endlinecolor\":\"#2a3f5f\",\"gridcolor\":\"white\",\"linecolor\":\"white\",\"minorgridcolor\":\"white\",\"startlinecolor\":\"#2a3f5f\"},\"baxis\":{\"endlinecolor\":\"#2a3f5f\",\"gridcolor\":\"white\",\"linecolor\":\"white\",\"minorgridcolor\":\"white\",\"startlinecolor\":\"#2a3f5f\"},\"type\":\"carpet\"}],\"table\":[{\"cells\":{\"fill\":{\"color\":\"#EBF0F8\"},\"line\":{\"color\":\"white\"}},\"header\":{\"fill\":{\"color\":\"#C8D4E3\"},\"line\":{\"color\":\"white\"}},\"type\":\"table\"}],\"barpolar\":[{\"marker\":{\"line\":{\"color\":\"#E5ECF6\",\"width\":0.5},\"pattern\":{\"fillmode\":\"overlay\",\"size\":10,\"solidity\":0.2}},\"type\":\"barpolar\"}],\"pie\":[{\"automargin\":true,\"type\":\"pie\"}]},\"layout\":{\"autotypenumbers\":\"strict\",\"colorway\":[\"#636efa\",\"#EF553B\",\"#00cc96\",\"#ab63fa\",\"#FFA15A\",\"#19d3f3\",\"#FF6692\",\"#B6E880\",\"#FF97FF\",\"#FECB52\"],\"font\":{\"color\":\"#2a3f5f\"},\"hovermode\":\"closest\",\"hoverlabel\":{\"align\":\"left\"},\"paper_bgcolor\":\"white\",\"plot_bgcolor\":\"#E5ECF6\",\"polar\":{\"bgcolor\":\"#E5ECF6\",\"angularaxis\":{\"gridcolor\":\"white\",\"linecolor\":\"white\",\"ticks\":\"\"},\"radialaxis\":{\"gridcolor\":\"white\",\"linecolor\":\"white\",\"ticks\":\"\"}},\"ternary\":{\"bgcolor\":\"#E5ECF6\",\"aaxis\":{\"gridcolor\":\"white\",\"linecolor\":\"white\",\"ticks\":\"\"},\"baxis\":{\"gridcolor\":\"white\",\"linecolor\":\"white\",\"ticks\":\"\"},\"caxis\":{\"gridcolor\":\"white\",\"linecolor\":\"white\",\"ticks\":\"\"}},\"coloraxis\":{\"colorbar\":{\"outlinewidth\":0,\"ticks\":\"\"}},\"colorscale\":{\"sequential\":[[0.0,\"#0d0887\"],[0.1111111111111111,\"#46039f\"],[0.2222222222222222,\"#7201a8\"],[0.3333333333333333,\"#9c179e\"],[0.4444444444444444,\"#bd3786\"],[0.5555555555555556,\"#d8576b\"],[0.6666666666666666,\"#ed7953\"],[0.7777777777777778,\"#fb9f3a\"],[0.8888888888888888,\"#fdca26\"],[1.0,\"#f0f921\"]],\"sequentialminus\":[[0.0,\"#0d0887\"],[0.1111111111111111,\"#46039f\"],[0.2222222222222222,\"#7201a8\"],[0.3333333333333333,\"#9c179e\"],[0.4444444444444444,\"#bd3786\"],[0.5555555555555556,\"#d8576b\"],[0.6666666666666666,\"#ed7953\"],[0.7777777777777778,\"#fb9f3a\"],[0.8888888888888888,\"#fdca26\"],[1.0,\"#f0f921\"]],\"diverging\":[[0,\"#8e0152\"],[0.1,\"#c51b7d\"],[0.2,\"#de77ae\"],[0.3,\"#f1b6da\"],[0.4,\"#fde0ef\"],[0.5,\"#f7f7f7\"],[0.6,\"#e6f5d0\"],[0.7,\"#b8e186\"],[0.8,\"#7fbc41\"],[0.9,\"#4d9221\"],[1,\"#276419\"]]},\"xaxis\":{\"gridcolor\":\"white\",\"linecolor\":\"white\",\"ticks\":\"\",\"title\":{\"standoff\":15},\"zerolinecolor\":\"white\",\"automargin\":true,\"zerolinewidth\":2},\"yaxis\":{\"gridcolor\":\"white\",\"linecolor\":\"white\",\"ticks\":\"\",\"title\":{\"standoff\":15},\"zerolinecolor\":\"white\",\"automargin\":true,\"zerolinewidth\":2},\"scene\":{\"xaxis\":{\"backgroundcolor\":\"#E5ECF6\",\"gridcolor\":\"white\",\"linecolor\":\"white\",\"showbackground\":true,\"ticks\":\"\",\"zerolinecolor\":\"white\",\"gridwidth\":2},\"yaxis\":{\"backgroundcolor\":\"#E5ECF6\",\"gridcolor\":\"white\",\"linecolor\":\"white\",\"showbackground\":true,\"ticks\":\"\",\"zerolinecolor\":\"white\",\"gridwidth\":2},\"zaxis\":{\"backgroundcolor\":\"#E5ECF6\",\"gridcolor\":\"white\",\"linecolor\":\"white\",\"showbackground\":true,\"ticks\":\"\",\"zerolinecolor\":\"white\",\"gridwidth\":2}},\"shapedefaults\":{\"line\":{\"color\":\"#2a3f5f\"}},\"annotationdefaults\":{\"arrowcolor\":\"#2a3f5f\",\"arrowhead\":0,\"arrowwidth\":1},\"geo\":{\"bgcolor\":\"white\",\"landcolor\":\"#E5ECF6\",\"subunitcolor\":\"white\",\"showland\":true,\"showlakes\":true,\"lakecolor\":\"white\"},\"title\":{\"x\":0.05},\"mapbox\":{\"style\":\"light\"}}},\"xaxis\":{\"anchor\":\"y\",\"domain\":[0.0,1.0],\"title\":{\"text\":\"Date\"}},\"yaxis\":{\"anchor\":\"x\",\"domain\":[0.0,1.0],\"title\":{\"text\":\"Change %\"}},\"legend\":{\"tracegroupgap\":0},\"margin\":{\"t\":60},\"barmode\":\"relative\"},                        {\"responsive\": true}                    ).then(function(){\n",
              "                            \n",
              "var gd = document.getElementById('961d46f8-7c56-4a6e-b77e-b8547043d0f3');\n",
              "var x = new MutationObserver(function (mutations, observer) {{\n",
              "        var display = window.getComputedStyle(gd).display;\n",
              "        if (!display || display === 'none') {{\n",
              "            console.log([gd, 'removed!']);\n",
              "            Plotly.purge(gd);\n",
              "            observer.disconnect();\n",
              "        }}\n",
              "}});\n",
              "\n",
              "// Listen for the removal of the full notebook cells\n",
              "var notebookContainer = gd.closest('#notebook-container');\n",
              "if (notebookContainer) {{\n",
              "    x.observe(notebookContainer, {childList: true});\n",
              "}}\n",
              "\n",
              "// Listen for the clearing of the current output cell\n",
              "var outputEl = gd.closest('.output');\n",
              "if (outputEl) {{\n",
              "    x.observe(outputEl, {childList: true});\n",
              "}}\n",
              "\n",
              "                        })                };                            </script>        </div>\n",
              "</body>\n",
              "</html>"
            ]
          },
          "metadata": {}
        }
      ]
    },
    {
      "cell_type": "code",
      "source": [
        "# Создание столбчатого графика изменения цены на момент открытия биржевого товара компании PancakeSwap по данным за год с шагом в день\n",
        "fig = px.bar(ps_1y, x = 'Date', y = 'Open')\n",
        "fig.show()"
      ],
      "metadata": {
        "id": "Ibg9nKT8N4ZU",
        "colab": {
          "base_uri": "https://localhost:8080/",
          "height": 542
        },
        "outputId": "59c1ebb7-8a2d-441f-d071-76b99a51ffd9"
      },
      "execution_count": null,
      "outputs": [
        {
          "output_type": "display_data",
          "data": {
            "text/html": [
              "<html>\n",
              "<head><meta charset=\"utf-8\" /></head>\n",
              "<body>\n",
              "    <div>            <script src=\"https://cdnjs.cloudflare.com/ajax/libs/mathjax/2.7.5/MathJax.js?config=TeX-AMS-MML_SVG\"></script><script type=\"text/javascript\">if (window.MathJax && window.MathJax.Hub && window.MathJax.Hub.Config) {window.MathJax.Hub.Config({SVG: {font: \"STIX-Web\"}});}</script>                <script type=\"text/javascript\">window.PlotlyConfig = {MathJaxConfig: 'local'};</script>\n",
              "        <script src=\"https://cdn.plot.ly/plotly-2.18.2.min.js\"></script>                <div id=\"0463bbfb-1aee-4b96-99d2-cf47080b7483\" class=\"plotly-graph-div\" style=\"height:525px; width:100%;\"></div>            <script type=\"text/javascript\">                                    window.PLOTLYENV=window.PLOTLYENV || {};                                    if (document.getElementById(\"0463bbfb-1aee-4b96-99d2-cf47080b7483\")) {                    Plotly.newPlot(                        \"0463bbfb-1aee-4b96-99d2-cf47080b7483\",                        [{\"alignmentgroup\":\"True\",\"hovertemplate\":\"Date=%{x}<br>Open=%{y}<extra></extra>\",\"legendgroup\":\"\",\"marker\":{\"color\":\"#636efa\",\"pattern\":{\"shape\":\"\"}},\"name\":\"\",\"offsetgroup\":\"\",\"orientation\":\"v\",\"showlegend\":false,\"textposition\":\"auto\",\"x\":[\"May 14, 2023\",\"May 13, 2023\",\"May 12, 2023\",\"May 11, 2023\",\"May 10, 2023\",\"May 09, 2023\",\"May 08, 2023\",\"May 07, 2023\",\"May 06, 2023\",\"May 05, 2023\",\"May 04, 2023\",\"May 03, 2023\",\"May 02, 2023\",\"May 01, 2023\",\"Apr 30, 2023\",\"Apr 29, 2023\",\"Apr 28, 2023\",\"Apr 27, 2023\",\"Apr 26, 2023\",\"Apr 25, 2023\",\"Apr 24, 2023\",\"Apr 23, 2023\",\"Apr 22, 2023\",\"Apr 21, 2023\",\"Apr 20, 2023\",\"Apr 19, 2023\",\"Apr 18, 2023\",\"Apr 17, 2023\",\"Apr 16, 2023\",\"Apr 15, 2023\",\"Apr 14, 2023\"],\"xaxis\":\"x\",\"y\":[1.845,1.814,1.857,1.921,1.886,1.847,2.035,2.201,2.431,2.511,2.539,2.533,2.548,2.672,2.69,2.755,2.636,2.612,2.77,2.88,3.348,3.4,3.348,3.358,3.424,3.63,3.586,3.67,3.64,3.624,3.633],\"yaxis\":\"y\",\"type\":\"bar\"}],                        {\"template\":{\"data\":{\"histogram2dcontour\":[{\"type\":\"histogram2dcontour\",\"colorbar\":{\"outlinewidth\":0,\"ticks\":\"\"},\"colorscale\":[[0.0,\"#0d0887\"],[0.1111111111111111,\"#46039f\"],[0.2222222222222222,\"#7201a8\"],[0.3333333333333333,\"#9c179e\"],[0.4444444444444444,\"#bd3786\"],[0.5555555555555556,\"#d8576b\"],[0.6666666666666666,\"#ed7953\"],[0.7777777777777778,\"#fb9f3a\"],[0.8888888888888888,\"#fdca26\"],[1.0,\"#f0f921\"]]}],\"choropleth\":[{\"type\":\"choropleth\",\"colorbar\":{\"outlinewidth\":0,\"ticks\":\"\"}}],\"histogram2d\":[{\"type\":\"histogram2d\",\"colorbar\":{\"outlinewidth\":0,\"ticks\":\"\"},\"colorscale\":[[0.0,\"#0d0887\"],[0.1111111111111111,\"#46039f\"],[0.2222222222222222,\"#7201a8\"],[0.3333333333333333,\"#9c179e\"],[0.4444444444444444,\"#bd3786\"],[0.5555555555555556,\"#d8576b\"],[0.6666666666666666,\"#ed7953\"],[0.7777777777777778,\"#fb9f3a\"],[0.8888888888888888,\"#fdca26\"],[1.0,\"#f0f921\"]]}],\"heatmap\":[{\"type\":\"heatmap\",\"colorbar\":{\"outlinewidth\":0,\"ticks\":\"\"},\"colorscale\":[[0.0,\"#0d0887\"],[0.1111111111111111,\"#46039f\"],[0.2222222222222222,\"#7201a8\"],[0.3333333333333333,\"#9c179e\"],[0.4444444444444444,\"#bd3786\"],[0.5555555555555556,\"#d8576b\"],[0.6666666666666666,\"#ed7953\"],[0.7777777777777778,\"#fb9f3a\"],[0.8888888888888888,\"#fdca26\"],[1.0,\"#f0f921\"]]}],\"heatmapgl\":[{\"type\":\"heatmapgl\",\"colorbar\":{\"outlinewidth\":0,\"ticks\":\"\"},\"colorscale\":[[0.0,\"#0d0887\"],[0.1111111111111111,\"#46039f\"],[0.2222222222222222,\"#7201a8\"],[0.3333333333333333,\"#9c179e\"],[0.4444444444444444,\"#bd3786\"],[0.5555555555555556,\"#d8576b\"],[0.6666666666666666,\"#ed7953\"],[0.7777777777777778,\"#fb9f3a\"],[0.8888888888888888,\"#fdca26\"],[1.0,\"#f0f921\"]]}],\"contourcarpet\":[{\"type\":\"contourcarpet\",\"colorbar\":{\"outlinewidth\":0,\"ticks\":\"\"}}],\"contour\":[{\"type\":\"contour\",\"colorbar\":{\"outlinewidth\":0,\"ticks\":\"\"},\"colorscale\":[[0.0,\"#0d0887\"],[0.1111111111111111,\"#46039f\"],[0.2222222222222222,\"#7201a8\"],[0.3333333333333333,\"#9c179e\"],[0.4444444444444444,\"#bd3786\"],[0.5555555555555556,\"#d8576b\"],[0.6666666666666666,\"#ed7953\"],[0.7777777777777778,\"#fb9f3a\"],[0.8888888888888888,\"#fdca26\"],[1.0,\"#f0f921\"]]}],\"surface\":[{\"type\":\"surface\",\"colorbar\":{\"outlinewidth\":0,\"ticks\":\"\"},\"colorscale\":[[0.0,\"#0d0887\"],[0.1111111111111111,\"#46039f\"],[0.2222222222222222,\"#7201a8\"],[0.3333333333333333,\"#9c179e\"],[0.4444444444444444,\"#bd3786\"],[0.5555555555555556,\"#d8576b\"],[0.6666666666666666,\"#ed7953\"],[0.7777777777777778,\"#fb9f3a\"],[0.8888888888888888,\"#fdca26\"],[1.0,\"#f0f921\"]]}],\"mesh3d\":[{\"type\":\"mesh3d\",\"colorbar\":{\"outlinewidth\":0,\"ticks\":\"\"}}],\"scatter\":[{\"fillpattern\":{\"fillmode\":\"overlay\",\"size\":10,\"solidity\":0.2},\"type\":\"scatter\"}],\"parcoords\":[{\"type\":\"parcoords\",\"line\":{\"colorbar\":{\"outlinewidth\":0,\"ticks\":\"\"}}}],\"scatterpolargl\":[{\"type\":\"scatterpolargl\",\"marker\":{\"colorbar\":{\"outlinewidth\":0,\"ticks\":\"\"}}}],\"bar\":[{\"error_x\":{\"color\":\"#2a3f5f\"},\"error_y\":{\"color\":\"#2a3f5f\"},\"marker\":{\"line\":{\"color\":\"#E5ECF6\",\"width\":0.5},\"pattern\":{\"fillmode\":\"overlay\",\"size\":10,\"solidity\":0.2}},\"type\":\"bar\"}],\"scattergeo\":[{\"type\":\"scattergeo\",\"marker\":{\"colorbar\":{\"outlinewidth\":0,\"ticks\":\"\"}}}],\"scatterpolar\":[{\"type\":\"scatterpolar\",\"marker\":{\"colorbar\":{\"outlinewidth\":0,\"ticks\":\"\"}}}],\"histogram\":[{\"marker\":{\"pattern\":{\"fillmode\":\"overlay\",\"size\":10,\"solidity\":0.2}},\"type\":\"histogram\"}],\"scattergl\":[{\"type\":\"scattergl\",\"marker\":{\"colorbar\":{\"outlinewidth\":0,\"ticks\":\"\"}}}],\"scatter3d\":[{\"type\":\"scatter3d\",\"line\":{\"colorbar\":{\"outlinewidth\":0,\"ticks\":\"\"}},\"marker\":{\"colorbar\":{\"outlinewidth\":0,\"ticks\":\"\"}}}],\"scattermapbox\":[{\"type\":\"scattermapbox\",\"marker\":{\"colorbar\":{\"outlinewidth\":0,\"ticks\":\"\"}}}],\"scatterternary\":[{\"type\":\"scatterternary\",\"marker\":{\"colorbar\":{\"outlinewidth\":0,\"ticks\":\"\"}}}],\"scattercarpet\":[{\"type\":\"scattercarpet\",\"marker\":{\"colorbar\":{\"outlinewidth\":0,\"ticks\":\"\"}}}],\"carpet\":[{\"aaxis\":{\"endlinecolor\":\"#2a3f5f\",\"gridcolor\":\"white\",\"linecolor\":\"white\",\"minorgridcolor\":\"white\",\"startlinecolor\":\"#2a3f5f\"},\"baxis\":{\"endlinecolor\":\"#2a3f5f\",\"gridcolor\":\"white\",\"linecolor\":\"white\",\"minorgridcolor\":\"white\",\"startlinecolor\":\"#2a3f5f\"},\"type\":\"carpet\"}],\"table\":[{\"cells\":{\"fill\":{\"color\":\"#EBF0F8\"},\"line\":{\"color\":\"white\"}},\"header\":{\"fill\":{\"color\":\"#C8D4E3\"},\"line\":{\"color\":\"white\"}},\"type\":\"table\"}],\"barpolar\":[{\"marker\":{\"line\":{\"color\":\"#E5ECF6\",\"width\":0.5},\"pattern\":{\"fillmode\":\"overlay\",\"size\":10,\"solidity\":0.2}},\"type\":\"barpolar\"}],\"pie\":[{\"automargin\":true,\"type\":\"pie\"}]},\"layout\":{\"autotypenumbers\":\"strict\",\"colorway\":[\"#636efa\",\"#EF553B\",\"#00cc96\",\"#ab63fa\",\"#FFA15A\",\"#19d3f3\",\"#FF6692\",\"#B6E880\",\"#FF97FF\",\"#FECB52\"],\"font\":{\"color\":\"#2a3f5f\"},\"hovermode\":\"closest\",\"hoverlabel\":{\"align\":\"left\"},\"paper_bgcolor\":\"white\",\"plot_bgcolor\":\"#E5ECF6\",\"polar\":{\"bgcolor\":\"#E5ECF6\",\"angularaxis\":{\"gridcolor\":\"white\",\"linecolor\":\"white\",\"ticks\":\"\"},\"radialaxis\":{\"gridcolor\":\"white\",\"linecolor\":\"white\",\"ticks\":\"\"}},\"ternary\":{\"bgcolor\":\"#E5ECF6\",\"aaxis\":{\"gridcolor\":\"white\",\"linecolor\":\"white\",\"ticks\":\"\"},\"baxis\":{\"gridcolor\":\"white\",\"linecolor\":\"white\",\"ticks\":\"\"},\"caxis\":{\"gridcolor\":\"white\",\"linecolor\":\"white\",\"ticks\":\"\"}},\"coloraxis\":{\"colorbar\":{\"outlinewidth\":0,\"ticks\":\"\"}},\"colorscale\":{\"sequential\":[[0.0,\"#0d0887\"],[0.1111111111111111,\"#46039f\"],[0.2222222222222222,\"#7201a8\"],[0.3333333333333333,\"#9c179e\"],[0.4444444444444444,\"#bd3786\"],[0.5555555555555556,\"#d8576b\"],[0.6666666666666666,\"#ed7953\"],[0.7777777777777778,\"#fb9f3a\"],[0.8888888888888888,\"#fdca26\"],[1.0,\"#f0f921\"]],\"sequentialminus\":[[0.0,\"#0d0887\"],[0.1111111111111111,\"#46039f\"],[0.2222222222222222,\"#7201a8\"],[0.3333333333333333,\"#9c179e\"],[0.4444444444444444,\"#bd3786\"],[0.5555555555555556,\"#d8576b\"],[0.6666666666666666,\"#ed7953\"],[0.7777777777777778,\"#fb9f3a\"],[0.8888888888888888,\"#fdca26\"],[1.0,\"#f0f921\"]],\"diverging\":[[0,\"#8e0152\"],[0.1,\"#c51b7d\"],[0.2,\"#de77ae\"],[0.3,\"#f1b6da\"],[0.4,\"#fde0ef\"],[0.5,\"#f7f7f7\"],[0.6,\"#e6f5d0\"],[0.7,\"#b8e186\"],[0.8,\"#7fbc41\"],[0.9,\"#4d9221\"],[1,\"#276419\"]]},\"xaxis\":{\"gridcolor\":\"white\",\"linecolor\":\"white\",\"ticks\":\"\",\"title\":{\"standoff\":15},\"zerolinecolor\":\"white\",\"automargin\":true,\"zerolinewidth\":2},\"yaxis\":{\"gridcolor\":\"white\",\"linecolor\":\"white\",\"ticks\":\"\",\"title\":{\"standoff\":15},\"zerolinecolor\":\"white\",\"automargin\":true,\"zerolinewidth\":2},\"scene\":{\"xaxis\":{\"backgroundcolor\":\"#E5ECF6\",\"gridcolor\":\"white\",\"linecolor\":\"white\",\"showbackground\":true,\"ticks\":\"\",\"zerolinecolor\":\"white\",\"gridwidth\":2},\"yaxis\":{\"backgroundcolor\":\"#E5ECF6\",\"gridcolor\":\"white\",\"linecolor\":\"white\",\"showbackground\":true,\"ticks\":\"\",\"zerolinecolor\":\"white\",\"gridwidth\":2},\"zaxis\":{\"backgroundcolor\":\"#E5ECF6\",\"gridcolor\":\"white\",\"linecolor\":\"white\",\"showbackground\":true,\"ticks\":\"\",\"zerolinecolor\":\"white\",\"gridwidth\":2}},\"shapedefaults\":{\"line\":{\"color\":\"#2a3f5f\"}},\"annotationdefaults\":{\"arrowcolor\":\"#2a3f5f\",\"arrowhead\":0,\"arrowwidth\":1},\"geo\":{\"bgcolor\":\"white\",\"landcolor\":\"#E5ECF6\",\"subunitcolor\":\"white\",\"showland\":true,\"showlakes\":true,\"lakecolor\":\"white\"},\"title\":{\"x\":0.05},\"mapbox\":{\"style\":\"light\"}}},\"xaxis\":{\"anchor\":\"y\",\"domain\":[0.0,1.0],\"title\":{\"text\":\"Date\"}},\"yaxis\":{\"anchor\":\"x\",\"domain\":[0.0,1.0],\"title\":{\"text\":\"Open\"}},\"legend\":{\"tracegroupgap\":0},\"margin\":{\"t\":60},\"barmode\":\"relative\"},                        {\"responsive\": true}                    ).then(function(){\n",
              "                            \n",
              "var gd = document.getElementById('0463bbfb-1aee-4b96-99d2-cf47080b7483');\n",
              "var x = new MutationObserver(function (mutations, observer) {{\n",
              "        var display = window.getComputedStyle(gd).display;\n",
              "        if (!display || display === 'none') {{\n",
              "            console.log([gd, 'removed!']);\n",
              "            Plotly.purge(gd);\n",
              "            observer.disconnect();\n",
              "        }}\n",
              "}});\n",
              "\n",
              "// Listen for the removal of the full notebook cells\n",
              "var notebookContainer = gd.closest('#notebook-container');\n",
              "if (notebookContainer) {{\n",
              "    x.observe(notebookContainer, {childList: true});\n",
              "}}\n",
              "\n",
              "// Listen for the clearing of the current output cell\n",
              "var outputEl = gd.closest('.output');\n",
              "if (outputEl) {{\n",
              "    x.observe(outputEl, {childList: true});\n",
              "}}\n",
              "\n",
              "                        })                };                            </script>        </div>\n",
              "</body>\n",
              "</html>"
            ]
          },
          "metadata": {}
        }
      ]
    },
    {
      "cell_type": "code",
      "source": [
        "# Создание столбчатого графика изменения стоимости биржевого товара компании PancakeSwap по данным за два года с шагом в неделю\n",
        "fig = px.bar(ps_2y, x = 'Date', y = 'Price')\n",
        "fig.show()"
      ],
      "metadata": {
        "id": "d1jo1_6B-Pcm",
        "colab": {
          "base_uri": "https://localhost:8080/",
          "height": 542
        },
        "outputId": "daeb7223-24ab-43b6-b08d-bdffff4d951c"
      },
      "execution_count": null,
      "outputs": [
        {
          "output_type": "display_data",
          "data": {
            "text/html": [
              "<html>\n",
              "<head><meta charset=\"utf-8\" /></head>\n",
              "<body>\n",
              "    <div>            <script src=\"https://cdnjs.cloudflare.com/ajax/libs/mathjax/2.7.5/MathJax.js?config=TeX-AMS-MML_SVG\"></script><script type=\"text/javascript\">if (window.MathJax && window.MathJax.Hub && window.MathJax.Hub.Config) {window.MathJax.Hub.Config({SVG: {font: \"STIX-Web\"}});}</script>                <script type=\"text/javascript\">window.PlotlyConfig = {MathJaxConfig: 'local'};</script>\n",
              "        <script src=\"https://cdn.plot.ly/plotly-2.18.2.min.js\"></script>                <div id=\"378440c1-cb4e-4f76-b682-e73431a248e1\" class=\"plotly-graph-div\" style=\"height:525px; width:100%;\"></div>            <script type=\"text/javascript\">                                    window.PLOTLYENV=window.PLOTLYENV || {};                                    if (document.getElementById(\"378440c1-cb4e-4f76-b682-e73431a248e1\")) {                    Plotly.newPlot(                        \"378440c1-cb4e-4f76-b682-e73431a248e1\",                        [{\"alignmentgroup\":\"True\",\"hovertemplate\":\"Date=%{x}<br>Price=%{y}<extra></extra>\",\"legendgroup\":\"\",\"marker\":{\"color\":\"#636efa\",\"pattern\":{\"shape\":\"\"}},\"name\":\"\",\"offsetgroup\":\"\",\"orientation\":\"v\",\"showlegend\":false,\"textposition\":\"auto\",\"x\":[\"May 14, 2023\",\"May 07, 2023\",\"Apr 30, 2023\",\"Apr 23, 2023\",\"Apr 16, 2023\",\"Apr 09, 2023\",\"Apr 02, 2023\",\"Mar 26, 2023\",\"Mar 19, 2023\",\"Mar 12, 2023\",\"Mar 05, 2023\",\"Feb 26, 2023\",\"Feb 19, 2023\",\"Feb 12, 2023\",\"Feb 05, 2023\",\"Jan 29, 2023\",\"Jan 22, 2023\",\"Jan 15, 2023\",\"Jan 08, 2023\",\"Jan 01, 2023\",\"Dec 25, 2022\",\"Dec 18, 2022\",\"Dec 11, 2022\",\"Dec 04, 2022\",\"Nov 27, 2022\",\"Nov 20, 2022\",\"Nov 13, 2022\",\"Nov 06, 2022\",\"Oct 30, 2022\",\"Oct 23, 2022\",\"Oct 16, 2022\",\"Oct 09, 2022\",\"Oct 02, 2022\",\"Sep 25, 2022\",\"Sep 18, 2022\",\"Sep 11, 2022\",\"Sep 04, 2022\",\"Aug 28, 2022\",\"Aug 21, 2022\",\"Aug 14, 2022\",\"Aug 07, 2022\",\"Jul 31, 2022\",\"Jul 24, 2022\",\"Jul 17, 2022\",\"Jul 10, 2022\",\"Jul 03, 2022\",\"Jun 26, 2022\",\"Jun 19, 2022\",\"Jun 12, 2022\",\"Jun 05, 2022\",\"May 29, 2022\",\"May 22, 2022\",\"May 15, 2022\",\"May 08, 2022\",\"May 01, 2022\",\"Apr 24, 2022\",\"Apr 17, 2022\",\"Apr 10, 2022\",\"Apr 03, 2022\",\"Mar 27, 2022\",\"Mar 20, 2022\",\"Mar 13, 2022\",\"Mar 06, 2022\",\"Feb 27, 2022\",\"Feb 20, 2022\",\"Feb 13, 2022\",\"Feb 06, 2022\",\"Jan 30, 2022\",\"Jan 23, 2022\",\"Jan 16, 2022\",\"Jan 09, 2022\",\"Jan 02, 2022\",\"Dec 26, 2021\",\"Dec 19, 2021\",\"Dec 12, 2021\",\"Dec 05, 2021\",\"Nov 28, 2021\",\"Nov 21, 2021\",\"Nov 14, 2021\",\"Nov 07, 2021\",\"Oct 31, 2021\",\"Oct 24, 2021\",\"Oct 17, 2021\",\"Oct 10, 2021\",\"Oct 03, 2021\",\"Sep 26, 2021\",\"Sep 19, 2021\"],\"xaxis\":\"x\",\"y\":[1.853,1.845,2.201,2.69,3.4,3.641,3.638,3.729,3.688,3.787,3.497,3.803,4.007,4.215,4.196,4.521,4.001,3.743,3.769,3.314,3.176,3.381,3.357,3.98,4.0,4.007,3.824,3.988,4.828,4.636,4.39,4.453,4.516,4.52,4.495,4.367,4.339,4.025,3.732,3.745,4.426,4.159,3.925,3.329,3.253,3.203,3.041,3.365,2.668,3.992,4.267,4.345,4.577,4.309,7.276,7.225,9.28,8.22,8.64,8.99,7.33,6.46,5.95,6.2,6.499,7.76,7.811,7.92,7.23,7.52,11.72,10.22,12.049,12.28,12.669,11.3,11.6,13.11,15.87,18.44,19.21,18.01,19.88,19.73,19.67,19.96,18.49],\"yaxis\":\"y\",\"type\":\"bar\"}],                        {\"template\":{\"data\":{\"histogram2dcontour\":[{\"type\":\"histogram2dcontour\",\"colorbar\":{\"outlinewidth\":0,\"ticks\":\"\"},\"colorscale\":[[0.0,\"#0d0887\"],[0.1111111111111111,\"#46039f\"],[0.2222222222222222,\"#7201a8\"],[0.3333333333333333,\"#9c179e\"],[0.4444444444444444,\"#bd3786\"],[0.5555555555555556,\"#d8576b\"],[0.6666666666666666,\"#ed7953\"],[0.7777777777777778,\"#fb9f3a\"],[0.8888888888888888,\"#fdca26\"],[1.0,\"#f0f921\"]]}],\"choropleth\":[{\"type\":\"choropleth\",\"colorbar\":{\"outlinewidth\":0,\"ticks\":\"\"}}],\"histogram2d\":[{\"type\":\"histogram2d\",\"colorbar\":{\"outlinewidth\":0,\"ticks\":\"\"},\"colorscale\":[[0.0,\"#0d0887\"],[0.1111111111111111,\"#46039f\"],[0.2222222222222222,\"#7201a8\"],[0.3333333333333333,\"#9c179e\"],[0.4444444444444444,\"#bd3786\"],[0.5555555555555556,\"#d8576b\"],[0.6666666666666666,\"#ed7953\"],[0.7777777777777778,\"#fb9f3a\"],[0.8888888888888888,\"#fdca26\"],[1.0,\"#f0f921\"]]}],\"heatmap\":[{\"type\":\"heatmap\",\"colorbar\":{\"outlinewidth\":0,\"ticks\":\"\"},\"colorscale\":[[0.0,\"#0d0887\"],[0.1111111111111111,\"#46039f\"],[0.2222222222222222,\"#7201a8\"],[0.3333333333333333,\"#9c179e\"],[0.4444444444444444,\"#bd3786\"],[0.5555555555555556,\"#d8576b\"],[0.6666666666666666,\"#ed7953\"],[0.7777777777777778,\"#fb9f3a\"],[0.8888888888888888,\"#fdca26\"],[1.0,\"#f0f921\"]]}],\"heatmapgl\":[{\"type\":\"heatmapgl\",\"colorbar\":{\"outlinewidth\":0,\"ticks\":\"\"},\"colorscale\":[[0.0,\"#0d0887\"],[0.1111111111111111,\"#46039f\"],[0.2222222222222222,\"#7201a8\"],[0.3333333333333333,\"#9c179e\"],[0.4444444444444444,\"#bd3786\"],[0.5555555555555556,\"#d8576b\"],[0.6666666666666666,\"#ed7953\"],[0.7777777777777778,\"#fb9f3a\"],[0.8888888888888888,\"#fdca26\"],[1.0,\"#f0f921\"]]}],\"contourcarpet\":[{\"type\":\"contourcarpet\",\"colorbar\":{\"outlinewidth\":0,\"ticks\":\"\"}}],\"contour\":[{\"type\":\"contour\",\"colorbar\":{\"outlinewidth\":0,\"ticks\":\"\"},\"colorscale\":[[0.0,\"#0d0887\"],[0.1111111111111111,\"#46039f\"],[0.2222222222222222,\"#7201a8\"],[0.3333333333333333,\"#9c179e\"],[0.4444444444444444,\"#bd3786\"],[0.5555555555555556,\"#d8576b\"],[0.6666666666666666,\"#ed7953\"],[0.7777777777777778,\"#fb9f3a\"],[0.8888888888888888,\"#fdca26\"],[1.0,\"#f0f921\"]]}],\"surface\":[{\"type\":\"surface\",\"colorbar\":{\"outlinewidth\":0,\"ticks\":\"\"},\"colorscale\":[[0.0,\"#0d0887\"],[0.1111111111111111,\"#46039f\"],[0.2222222222222222,\"#7201a8\"],[0.3333333333333333,\"#9c179e\"],[0.4444444444444444,\"#bd3786\"],[0.5555555555555556,\"#d8576b\"],[0.6666666666666666,\"#ed7953\"],[0.7777777777777778,\"#fb9f3a\"],[0.8888888888888888,\"#fdca26\"],[1.0,\"#f0f921\"]]}],\"mesh3d\":[{\"type\":\"mesh3d\",\"colorbar\":{\"outlinewidth\":0,\"ticks\":\"\"}}],\"scatter\":[{\"fillpattern\":{\"fillmode\":\"overlay\",\"size\":10,\"solidity\":0.2},\"type\":\"scatter\"}],\"parcoords\":[{\"type\":\"parcoords\",\"line\":{\"colorbar\":{\"outlinewidth\":0,\"ticks\":\"\"}}}],\"scatterpolargl\":[{\"type\":\"scatterpolargl\",\"marker\":{\"colorbar\":{\"outlinewidth\":0,\"ticks\":\"\"}}}],\"bar\":[{\"error_x\":{\"color\":\"#2a3f5f\"},\"error_y\":{\"color\":\"#2a3f5f\"},\"marker\":{\"line\":{\"color\":\"#E5ECF6\",\"width\":0.5},\"pattern\":{\"fillmode\":\"overlay\",\"size\":10,\"solidity\":0.2}},\"type\":\"bar\"}],\"scattergeo\":[{\"type\":\"scattergeo\",\"marker\":{\"colorbar\":{\"outlinewidth\":0,\"ticks\":\"\"}}}],\"scatterpolar\":[{\"type\":\"scatterpolar\",\"marker\":{\"colorbar\":{\"outlinewidth\":0,\"ticks\":\"\"}}}],\"histogram\":[{\"marker\":{\"pattern\":{\"fillmode\":\"overlay\",\"size\":10,\"solidity\":0.2}},\"type\":\"histogram\"}],\"scattergl\":[{\"type\":\"scattergl\",\"marker\":{\"colorbar\":{\"outlinewidth\":0,\"ticks\":\"\"}}}],\"scatter3d\":[{\"type\":\"scatter3d\",\"line\":{\"colorbar\":{\"outlinewidth\":0,\"ticks\":\"\"}},\"marker\":{\"colorbar\":{\"outlinewidth\":0,\"ticks\":\"\"}}}],\"scattermapbox\":[{\"type\":\"scattermapbox\",\"marker\":{\"colorbar\":{\"outlinewidth\":0,\"ticks\":\"\"}}}],\"scatterternary\":[{\"type\":\"scatterternary\",\"marker\":{\"colorbar\":{\"outlinewidth\":0,\"ticks\":\"\"}}}],\"scattercarpet\":[{\"type\":\"scattercarpet\",\"marker\":{\"colorbar\":{\"outlinewidth\":0,\"ticks\":\"\"}}}],\"carpet\":[{\"aaxis\":{\"endlinecolor\":\"#2a3f5f\",\"gridcolor\":\"white\",\"linecolor\":\"white\",\"minorgridcolor\":\"white\",\"startlinecolor\":\"#2a3f5f\"},\"baxis\":{\"endlinecolor\":\"#2a3f5f\",\"gridcolor\":\"white\",\"linecolor\":\"white\",\"minorgridcolor\":\"white\",\"startlinecolor\":\"#2a3f5f\"},\"type\":\"carpet\"}],\"table\":[{\"cells\":{\"fill\":{\"color\":\"#EBF0F8\"},\"line\":{\"color\":\"white\"}},\"header\":{\"fill\":{\"color\":\"#C8D4E3\"},\"line\":{\"color\":\"white\"}},\"type\":\"table\"}],\"barpolar\":[{\"marker\":{\"line\":{\"color\":\"#E5ECF6\",\"width\":0.5},\"pattern\":{\"fillmode\":\"overlay\",\"size\":10,\"solidity\":0.2}},\"type\":\"barpolar\"}],\"pie\":[{\"automargin\":true,\"type\":\"pie\"}]},\"layout\":{\"autotypenumbers\":\"strict\",\"colorway\":[\"#636efa\",\"#EF553B\",\"#00cc96\",\"#ab63fa\",\"#FFA15A\",\"#19d3f3\",\"#FF6692\",\"#B6E880\",\"#FF97FF\",\"#FECB52\"],\"font\":{\"color\":\"#2a3f5f\"},\"hovermode\":\"closest\",\"hoverlabel\":{\"align\":\"left\"},\"paper_bgcolor\":\"white\",\"plot_bgcolor\":\"#E5ECF6\",\"polar\":{\"bgcolor\":\"#E5ECF6\",\"angularaxis\":{\"gridcolor\":\"white\",\"linecolor\":\"white\",\"ticks\":\"\"},\"radialaxis\":{\"gridcolor\":\"white\",\"linecolor\":\"white\",\"ticks\":\"\"}},\"ternary\":{\"bgcolor\":\"#E5ECF6\",\"aaxis\":{\"gridcolor\":\"white\",\"linecolor\":\"white\",\"ticks\":\"\"},\"baxis\":{\"gridcolor\":\"white\",\"linecolor\":\"white\",\"ticks\":\"\"},\"caxis\":{\"gridcolor\":\"white\",\"linecolor\":\"white\",\"ticks\":\"\"}},\"coloraxis\":{\"colorbar\":{\"outlinewidth\":0,\"ticks\":\"\"}},\"colorscale\":{\"sequential\":[[0.0,\"#0d0887\"],[0.1111111111111111,\"#46039f\"],[0.2222222222222222,\"#7201a8\"],[0.3333333333333333,\"#9c179e\"],[0.4444444444444444,\"#bd3786\"],[0.5555555555555556,\"#d8576b\"],[0.6666666666666666,\"#ed7953\"],[0.7777777777777778,\"#fb9f3a\"],[0.8888888888888888,\"#fdca26\"],[1.0,\"#f0f921\"]],\"sequentialminus\":[[0.0,\"#0d0887\"],[0.1111111111111111,\"#46039f\"],[0.2222222222222222,\"#7201a8\"],[0.3333333333333333,\"#9c179e\"],[0.4444444444444444,\"#bd3786\"],[0.5555555555555556,\"#d8576b\"],[0.6666666666666666,\"#ed7953\"],[0.7777777777777778,\"#fb9f3a\"],[0.8888888888888888,\"#fdca26\"],[1.0,\"#f0f921\"]],\"diverging\":[[0,\"#8e0152\"],[0.1,\"#c51b7d\"],[0.2,\"#de77ae\"],[0.3,\"#f1b6da\"],[0.4,\"#fde0ef\"],[0.5,\"#f7f7f7\"],[0.6,\"#e6f5d0\"],[0.7,\"#b8e186\"],[0.8,\"#7fbc41\"],[0.9,\"#4d9221\"],[1,\"#276419\"]]},\"xaxis\":{\"gridcolor\":\"white\",\"linecolor\":\"white\",\"ticks\":\"\",\"title\":{\"standoff\":15},\"zerolinecolor\":\"white\",\"automargin\":true,\"zerolinewidth\":2},\"yaxis\":{\"gridcolor\":\"white\",\"linecolor\":\"white\",\"ticks\":\"\",\"title\":{\"standoff\":15},\"zerolinecolor\":\"white\",\"automargin\":true,\"zerolinewidth\":2},\"scene\":{\"xaxis\":{\"backgroundcolor\":\"#E5ECF6\",\"gridcolor\":\"white\",\"linecolor\":\"white\",\"showbackground\":true,\"ticks\":\"\",\"zerolinecolor\":\"white\",\"gridwidth\":2},\"yaxis\":{\"backgroundcolor\":\"#E5ECF6\",\"gridcolor\":\"white\",\"linecolor\":\"white\",\"showbackground\":true,\"ticks\":\"\",\"zerolinecolor\":\"white\",\"gridwidth\":2},\"zaxis\":{\"backgroundcolor\":\"#E5ECF6\",\"gridcolor\":\"white\",\"linecolor\":\"white\",\"showbackground\":true,\"ticks\":\"\",\"zerolinecolor\":\"white\",\"gridwidth\":2}},\"shapedefaults\":{\"line\":{\"color\":\"#2a3f5f\"}},\"annotationdefaults\":{\"arrowcolor\":\"#2a3f5f\",\"arrowhead\":0,\"arrowwidth\":1},\"geo\":{\"bgcolor\":\"white\",\"landcolor\":\"#E5ECF6\",\"subunitcolor\":\"white\",\"showland\":true,\"showlakes\":true,\"lakecolor\":\"white\"},\"title\":{\"x\":0.05},\"mapbox\":{\"style\":\"light\"}}},\"xaxis\":{\"anchor\":\"y\",\"domain\":[0.0,1.0],\"title\":{\"text\":\"Date\"}},\"yaxis\":{\"anchor\":\"x\",\"domain\":[0.0,1.0],\"title\":{\"text\":\"Price\"}},\"legend\":{\"tracegroupgap\":0},\"margin\":{\"t\":60},\"barmode\":\"relative\"},                        {\"responsive\": true}                    ).then(function(){\n",
              "                            \n",
              "var gd = document.getElementById('378440c1-cb4e-4f76-b682-e73431a248e1');\n",
              "var x = new MutationObserver(function (mutations, observer) {{\n",
              "        var display = window.getComputedStyle(gd).display;\n",
              "        if (!display || display === 'none') {{\n",
              "            console.log([gd, 'removed!']);\n",
              "            Plotly.purge(gd);\n",
              "            observer.disconnect();\n",
              "        }}\n",
              "}});\n",
              "\n",
              "// Listen for the removal of the full notebook cells\n",
              "var notebookContainer = gd.closest('#notebook-container');\n",
              "if (notebookContainer) {{\n",
              "    x.observe(notebookContainer, {childList: true});\n",
              "}}\n",
              "\n",
              "// Listen for the clearing of the current output cell\n",
              "var outputEl = gd.closest('.output');\n",
              "if (outputEl) {{\n",
              "    x.observe(outputEl, {childList: true});\n",
              "}}\n",
              "\n",
              "                        })                };                            </script>        </div>\n",
              "</body>\n",
              "</html>"
            ]
          },
          "metadata": {}
        }
      ]
    },
    {
      "cell_type": "markdown",
      "source": [
        "График Line\n"
      ],
      "metadata": {
        "id": "EGMmN0d7-JC2"
      }
    },
    {
      "cell_type": "code",
      "source": [
        "# Создание линейного графика максимальной и минимальной цены биржевого товара Solana по данным за два года с шагом в неделю\n",
        "fig = px.line(sol_2y,x = 'Date',y = ['High','Low'],title='Максимальная и минимальная цена')\n",
        "fig.show()"
      ],
      "metadata": {
        "id": "e9dj5GtTK3WC",
        "colab": {
          "base_uri": "https://localhost:8080/",
          "height": 542
        },
        "outputId": "a239fb00-66a5-4c69-ab49-8674bf03850c"
      },
      "execution_count": null,
      "outputs": [
        {
          "output_type": "display_data",
          "data": {
            "text/html": [
              "<html>\n",
              "<head><meta charset=\"utf-8\" /></head>\n",
              "<body>\n",
              "    <div>            <script src=\"https://cdnjs.cloudflare.com/ajax/libs/mathjax/2.7.5/MathJax.js?config=TeX-AMS-MML_SVG\"></script><script type=\"text/javascript\">if (window.MathJax && window.MathJax.Hub && window.MathJax.Hub.Config) {window.MathJax.Hub.Config({SVG: {font: \"STIX-Web\"}});}</script>                <script type=\"text/javascript\">window.PlotlyConfig = {MathJaxConfig: 'local'};</script>\n",
              "        <script src=\"https://cdn.plot.ly/plotly-2.18.2.min.js\"></script>                <div id=\"4102c598-b1c2-4bd0-bb28-492ac363f8a1\" class=\"plotly-graph-div\" style=\"height:525px; width:100%;\"></div>            <script type=\"text/javascript\">                                    window.PLOTLYENV=window.PLOTLYENV || {};                                    if (document.getElementById(\"4102c598-b1c2-4bd0-bb28-492ac363f8a1\")) {                    Plotly.newPlot(                        \"4102c598-b1c2-4bd0-bb28-492ac363f8a1\",                        [{\"hovertemplate\":\"variable=High<br>Date=%{x}<br>value=%{y}<extra></extra>\",\"legendgroup\":\"High\",\"line\":{\"color\":\"#636efa\",\"dash\":\"solid\"},\"marker\":{\"symbol\":\"circle\"},\"mode\":\"lines\",\"name\":\"High\",\"orientation\":\"v\",\"showlegend\":true,\"x\":[\"May 14, 2023\",\"May 07, 2023\",\"Apr 30, 2023\",\"Apr 23, 2023\",\"Apr 16, 2023\",\"Apr 09, 2023\",\"Apr 02, 2023\",\"Mar 26, 2023\",\"Mar 19, 2023\",\"Mar 12, 2023\",\"Mar 05, 2023\",\"Feb 26, 2023\",\"Feb 19, 2023\",\"Feb 12, 2023\",\"Feb 05, 2023\",\"Jan 29, 2023\",\"Jan 22, 2023\",\"Jan 15, 2023\",\"Jan 08, 2023\",\"Jan 01, 2023\",\"Dec 25, 2022\",\"Dec 18, 2022\",\"Dec 11, 2022\",\"Dec 04, 2022\",\"Nov 27, 2022\",\"Nov 20, 2022\",\"Nov 13, 2022\",\"Nov 06, 2022\",\"Oct 30, 2022\",\"Oct 23, 2022\",\"Oct 16, 2022\",\"Oct 09, 2022\",\"Oct 02, 2022\",\"Sep 25, 2022\",\"Sep 18, 2022\",\"Sep 11, 2022\",\"Sep 04, 2022\",\"Aug 28, 2022\",\"Aug 21, 2022\",\"Aug 14, 2022\",\"Aug 07, 2022\",\"Jul 31, 2022\",\"Jul 24, 2022\",\"Jul 17, 2022\",\"Jul 10, 2022\",\"Jul 03, 2022\",\"Jun 26, 2022\",\"Jun 19, 2022\",\"Jun 12, 2022\",\"Jun 05, 2022\",\"May 29, 2022\",\"May 22, 2022\",\"May 15, 2022\",\"May 08, 2022\",\"May 01, 2022\",\"Apr 24, 2022\",\"Apr 17, 2022\",\"Apr 10, 2022\",\"Apr 03, 2022\",\"Mar 27, 2022\",\"Mar 20, 2022\",\"Mar 13, 2022\",\"Mar 06, 2022\",\"Feb 27, 2022\",\"Feb 20, 2022\",\"Feb 13, 2022\",\"Feb 06, 2022\",\"Jan 30, 2022\",\"Jan 23, 2022\",\"Jan 16, 2022\",\"Jan 09, 2022\",\"Jan 02, 2022\",\"Dec 26, 2021\",\"Dec 19, 2021\",\"Dec 12, 2021\",\"Dec 05, 2021\",\"Nov 28, 2021\",\"Nov 21, 2021\",\"Nov 14, 2021\",\"Nov 07, 2021\",\"Oct 31, 2021\",\"Oct 24, 2021\",\"Oct 17, 2021\",\"Oct 10, 2021\",\"Oct 03, 2021\",\"Sep 26, 2021\",\"Sep 19, 2021\",\"Sep 12, 2021\",\"Sep 05, 2021\",\"Aug 29, 2021\",\"Aug 22, 2021\",\"Aug 15, 2021\",\"Aug 08, 2021\",\"Aug 01, 2021\",\"Jul 25, 2021\",\"Jul 18, 2021\",\"Jul 11, 2021\",\"Jul 04, 2021\",\"Jun 27, 2021\",\"Jun 20, 2021\",\"Jun 13, 2021\",\"Jun 06, 2021\",\"May 30, 2021\",\"May 23, 2021\"],\"xaxis\":\"x\",\"y\":[21.192,22.734,23.902,23.778,25.96,25.463,21.333,21.648,23.893,22.85,21.663,23.514,27.043,24.133,24.452,26.748,25.413,26.424,24.641,14.166,11.55,12.599,14.936,14.351,14.44,14.92,15.05,37.035,38.729,33.83,31.47,33.433,34.494,35.352,34.744,38.916,35.889,33.123,37.013,48.019,48.341,45.15,46.562,47.255,40.372,39.531,42.46,42.846,35.763,44.606,48.217,54.629,59.243,79.337,95.139,102.248,110.868,115.99,141.046,143.488,104.885,94.538,89.894,106.335,95.988,105.606,121.836,118.52,104.673,151.918,157.712,179.496,204.712,197.422,189.008,204.309,243.069,235.389,246.211,258.581,259.861,218.939,214.972,165.347,177.359,174.889,170.852,174.974,215.511,150.67,97.71,100.0,44.821,40.405,36.796,29.4,32.6,37.904,36.115,35.799,41.339,43.91,42.252,36.311],\"yaxis\":\"y\",\"type\":\"scatter\"},{\"hovertemplate\":\"variable=Low<br>Date=%{x}<br>value=%{y}<extra></extra>\",\"legendgroup\":\"Low\",\"line\":{\"color\":\"#EF553B\",\"dash\":\"solid\"},\"marker\":{\"symbol\":\"circle\"},\"mode\":\"lines\",\"name\":\"Low\",\"orientation\":\"v\",\"showlegend\":true,\"x\":[\"May 14, 2023\",\"May 07, 2023\",\"Apr 30, 2023\",\"Apr 23, 2023\",\"Apr 16, 2023\",\"Apr 09, 2023\",\"Apr 02, 2023\",\"Mar 26, 2023\",\"Mar 19, 2023\",\"Mar 12, 2023\",\"Mar 05, 2023\",\"Feb 26, 2023\",\"Feb 19, 2023\",\"Feb 12, 2023\",\"Feb 05, 2023\",\"Jan 29, 2023\",\"Jan 22, 2023\",\"Jan 15, 2023\",\"Jan 08, 2023\",\"Jan 01, 2023\",\"Dec 25, 2022\",\"Dec 18, 2022\",\"Dec 11, 2022\",\"Dec 04, 2022\",\"Nov 27, 2022\",\"Nov 20, 2022\",\"Nov 13, 2022\",\"Nov 06, 2022\",\"Oct 30, 2022\",\"Oct 23, 2022\",\"Oct 16, 2022\",\"Oct 09, 2022\",\"Oct 02, 2022\",\"Sep 25, 2022\",\"Sep 18, 2022\",\"Sep 11, 2022\",\"Sep 04, 2022\",\"Aug 28, 2022\",\"Aug 21, 2022\",\"Aug 14, 2022\",\"Aug 07, 2022\",\"Jul 31, 2022\",\"Jul 24, 2022\",\"Jul 17, 2022\",\"Jul 10, 2022\",\"Jul 03, 2022\",\"Jun 26, 2022\",\"Jun 19, 2022\",\"Jun 12, 2022\",\"Jun 05, 2022\",\"May 29, 2022\",\"May 22, 2022\",\"May 15, 2022\",\"May 08, 2022\",\"May 01, 2022\",\"Apr 24, 2022\",\"Apr 17, 2022\",\"Apr 10, 2022\",\"Apr 03, 2022\",\"Mar 27, 2022\",\"Mar 20, 2022\",\"Mar 13, 2022\",\"Mar 06, 2022\",\"Feb 27, 2022\",\"Feb 20, 2022\",\"Feb 13, 2022\",\"Feb 06, 2022\",\"Jan 30, 2022\",\"Jan 23, 2022\",\"Jan 16, 2022\",\"Jan 09, 2022\",\"Jan 02, 2022\",\"Dec 26, 2021\",\"Dec 19, 2021\",\"Dec 12, 2021\",\"Dec 05, 2021\",\"Nov 28, 2021\",\"Nov 21, 2021\",\"Nov 14, 2021\",\"Nov 07, 2021\",\"Oct 31, 2021\",\"Oct 24, 2021\",\"Oct 17, 2021\",\"Oct 10, 2021\",\"Oct 03, 2021\",\"Sep 26, 2021\",\"Sep 19, 2021\",\"Sep 12, 2021\",\"Sep 05, 2021\",\"Aug 29, 2021\",\"Aug 22, 2021\",\"Aug 15, 2021\",\"Aug 08, 2021\",\"Aug 01, 2021\",\"Jul 25, 2021\",\"Jul 18, 2021\",\"Jul 11, 2021\",\"Jul 04, 2021\",\"Jun 27, 2021\",\"Jun 20, 2021\",\"Jun 13, 2021\",\"Jun 06, 2021\",\"May 30, 2021\",\"May 23, 2021\"],\"xaxis\":\"x\",\"y\":[20.632,19.797,21.254,20.476,21.067,19.9,19.9,19.448,20.129,17.757,16.06,20.33,21.508,19.78,19.699,22.54,22.32,20.44,12.86,9.705,8.085,11.205,11.94,13.272,12.786,10.96,12.163,12.445,30.24,27.843,26.864,27.983,31.797,31.677,30.11,31.541,30.38,30.03,30.89,34.294,39.167,37.571,34.707,38.336,31.942,32.178,30.991,28.929,25.966,33.24,35.818,40.053,47.879,37.342,77.227,81.888,94.834,98.289,108.168,98.85,86.834,77.774,80.054,84.19,75.693,88.76,93.254,89.264,80.919,88.48,130.147,133.283,167.773,168.5,148.384,161.587,175.186,183.084,187.176,217.998,185.688,178.226,153.148,137.73,150.266,124.982,116.135,134.717,130.0,90.623,66.35,43.462,36.304,32.2,26.595,22.23,26.035,31.1,29.428,20.472,35.097,33.824,25.825,19.8],\"yaxis\":\"y\",\"type\":\"scatter\"}],                        {\"template\":{\"data\":{\"histogram2dcontour\":[{\"type\":\"histogram2dcontour\",\"colorbar\":{\"outlinewidth\":0,\"ticks\":\"\"},\"colorscale\":[[0.0,\"#0d0887\"],[0.1111111111111111,\"#46039f\"],[0.2222222222222222,\"#7201a8\"],[0.3333333333333333,\"#9c179e\"],[0.4444444444444444,\"#bd3786\"],[0.5555555555555556,\"#d8576b\"],[0.6666666666666666,\"#ed7953\"],[0.7777777777777778,\"#fb9f3a\"],[0.8888888888888888,\"#fdca26\"],[1.0,\"#f0f921\"]]}],\"choropleth\":[{\"type\":\"choropleth\",\"colorbar\":{\"outlinewidth\":0,\"ticks\":\"\"}}],\"histogram2d\":[{\"type\":\"histogram2d\",\"colorbar\":{\"outlinewidth\":0,\"ticks\":\"\"},\"colorscale\":[[0.0,\"#0d0887\"],[0.1111111111111111,\"#46039f\"],[0.2222222222222222,\"#7201a8\"],[0.3333333333333333,\"#9c179e\"],[0.4444444444444444,\"#bd3786\"],[0.5555555555555556,\"#d8576b\"],[0.6666666666666666,\"#ed7953\"],[0.7777777777777778,\"#fb9f3a\"],[0.8888888888888888,\"#fdca26\"],[1.0,\"#f0f921\"]]}],\"heatmap\":[{\"type\":\"heatmap\",\"colorbar\":{\"outlinewidth\":0,\"ticks\":\"\"},\"colorscale\":[[0.0,\"#0d0887\"],[0.1111111111111111,\"#46039f\"],[0.2222222222222222,\"#7201a8\"],[0.3333333333333333,\"#9c179e\"],[0.4444444444444444,\"#bd3786\"],[0.5555555555555556,\"#d8576b\"],[0.6666666666666666,\"#ed7953\"],[0.7777777777777778,\"#fb9f3a\"],[0.8888888888888888,\"#fdca26\"],[1.0,\"#f0f921\"]]}],\"heatmapgl\":[{\"type\":\"heatmapgl\",\"colorbar\":{\"outlinewidth\":0,\"ticks\":\"\"},\"colorscale\":[[0.0,\"#0d0887\"],[0.1111111111111111,\"#46039f\"],[0.2222222222222222,\"#7201a8\"],[0.3333333333333333,\"#9c179e\"],[0.4444444444444444,\"#bd3786\"],[0.5555555555555556,\"#d8576b\"],[0.6666666666666666,\"#ed7953\"],[0.7777777777777778,\"#fb9f3a\"],[0.8888888888888888,\"#fdca26\"],[1.0,\"#f0f921\"]]}],\"contourcarpet\":[{\"type\":\"contourcarpet\",\"colorbar\":{\"outlinewidth\":0,\"ticks\":\"\"}}],\"contour\":[{\"type\":\"contour\",\"colorbar\":{\"outlinewidth\":0,\"ticks\":\"\"},\"colorscale\":[[0.0,\"#0d0887\"],[0.1111111111111111,\"#46039f\"],[0.2222222222222222,\"#7201a8\"],[0.3333333333333333,\"#9c179e\"],[0.4444444444444444,\"#bd3786\"],[0.5555555555555556,\"#d8576b\"],[0.6666666666666666,\"#ed7953\"],[0.7777777777777778,\"#fb9f3a\"],[0.8888888888888888,\"#fdca26\"],[1.0,\"#f0f921\"]]}],\"surface\":[{\"type\":\"surface\",\"colorbar\":{\"outlinewidth\":0,\"ticks\":\"\"},\"colorscale\":[[0.0,\"#0d0887\"],[0.1111111111111111,\"#46039f\"],[0.2222222222222222,\"#7201a8\"],[0.3333333333333333,\"#9c179e\"],[0.4444444444444444,\"#bd3786\"],[0.5555555555555556,\"#d8576b\"],[0.6666666666666666,\"#ed7953\"],[0.7777777777777778,\"#fb9f3a\"],[0.8888888888888888,\"#fdca26\"],[1.0,\"#f0f921\"]]}],\"mesh3d\":[{\"type\":\"mesh3d\",\"colorbar\":{\"outlinewidth\":0,\"ticks\":\"\"}}],\"scatter\":[{\"fillpattern\":{\"fillmode\":\"overlay\",\"size\":10,\"solidity\":0.2},\"type\":\"scatter\"}],\"parcoords\":[{\"type\":\"parcoords\",\"line\":{\"colorbar\":{\"outlinewidth\":0,\"ticks\":\"\"}}}],\"scatterpolargl\":[{\"type\":\"scatterpolargl\",\"marker\":{\"colorbar\":{\"outlinewidth\":0,\"ticks\":\"\"}}}],\"bar\":[{\"error_x\":{\"color\":\"#2a3f5f\"},\"error_y\":{\"color\":\"#2a3f5f\"},\"marker\":{\"line\":{\"color\":\"#E5ECF6\",\"width\":0.5},\"pattern\":{\"fillmode\":\"overlay\",\"size\":10,\"solidity\":0.2}},\"type\":\"bar\"}],\"scattergeo\":[{\"type\":\"scattergeo\",\"marker\":{\"colorbar\":{\"outlinewidth\":0,\"ticks\":\"\"}}}],\"scatterpolar\":[{\"type\":\"scatterpolar\",\"marker\":{\"colorbar\":{\"outlinewidth\":0,\"ticks\":\"\"}}}],\"histogram\":[{\"marker\":{\"pattern\":{\"fillmode\":\"overlay\",\"size\":10,\"solidity\":0.2}},\"type\":\"histogram\"}],\"scattergl\":[{\"type\":\"scattergl\",\"marker\":{\"colorbar\":{\"outlinewidth\":0,\"ticks\":\"\"}}}],\"scatter3d\":[{\"type\":\"scatter3d\",\"line\":{\"colorbar\":{\"outlinewidth\":0,\"ticks\":\"\"}},\"marker\":{\"colorbar\":{\"outlinewidth\":0,\"ticks\":\"\"}}}],\"scattermapbox\":[{\"type\":\"scattermapbox\",\"marker\":{\"colorbar\":{\"outlinewidth\":0,\"ticks\":\"\"}}}],\"scatterternary\":[{\"type\":\"scatterternary\",\"marker\":{\"colorbar\":{\"outlinewidth\":0,\"ticks\":\"\"}}}],\"scattercarpet\":[{\"type\":\"scattercarpet\",\"marker\":{\"colorbar\":{\"outlinewidth\":0,\"ticks\":\"\"}}}],\"carpet\":[{\"aaxis\":{\"endlinecolor\":\"#2a3f5f\",\"gridcolor\":\"white\",\"linecolor\":\"white\",\"minorgridcolor\":\"white\",\"startlinecolor\":\"#2a3f5f\"},\"baxis\":{\"endlinecolor\":\"#2a3f5f\",\"gridcolor\":\"white\",\"linecolor\":\"white\",\"minorgridcolor\":\"white\",\"startlinecolor\":\"#2a3f5f\"},\"type\":\"carpet\"}],\"table\":[{\"cells\":{\"fill\":{\"color\":\"#EBF0F8\"},\"line\":{\"color\":\"white\"}},\"header\":{\"fill\":{\"color\":\"#C8D4E3\"},\"line\":{\"color\":\"white\"}},\"type\":\"table\"}],\"barpolar\":[{\"marker\":{\"line\":{\"color\":\"#E5ECF6\",\"width\":0.5},\"pattern\":{\"fillmode\":\"overlay\",\"size\":10,\"solidity\":0.2}},\"type\":\"barpolar\"}],\"pie\":[{\"automargin\":true,\"type\":\"pie\"}]},\"layout\":{\"autotypenumbers\":\"strict\",\"colorway\":[\"#636efa\",\"#EF553B\",\"#00cc96\",\"#ab63fa\",\"#FFA15A\",\"#19d3f3\",\"#FF6692\",\"#B6E880\",\"#FF97FF\",\"#FECB52\"],\"font\":{\"color\":\"#2a3f5f\"},\"hovermode\":\"closest\",\"hoverlabel\":{\"align\":\"left\"},\"paper_bgcolor\":\"white\",\"plot_bgcolor\":\"#E5ECF6\",\"polar\":{\"bgcolor\":\"#E5ECF6\",\"angularaxis\":{\"gridcolor\":\"white\",\"linecolor\":\"white\",\"ticks\":\"\"},\"radialaxis\":{\"gridcolor\":\"white\",\"linecolor\":\"white\",\"ticks\":\"\"}},\"ternary\":{\"bgcolor\":\"#E5ECF6\",\"aaxis\":{\"gridcolor\":\"white\",\"linecolor\":\"white\",\"ticks\":\"\"},\"baxis\":{\"gridcolor\":\"white\",\"linecolor\":\"white\",\"ticks\":\"\"},\"caxis\":{\"gridcolor\":\"white\",\"linecolor\":\"white\",\"ticks\":\"\"}},\"coloraxis\":{\"colorbar\":{\"outlinewidth\":0,\"ticks\":\"\"}},\"colorscale\":{\"sequential\":[[0.0,\"#0d0887\"],[0.1111111111111111,\"#46039f\"],[0.2222222222222222,\"#7201a8\"],[0.3333333333333333,\"#9c179e\"],[0.4444444444444444,\"#bd3786\"],[0.5555555555555556,\"#d8576b\"],[0.6666666666666666,\"#ed7953\"],[0.7777777777777778,\"#fb9f3a\"],[0.8888888888888888,\"#fdca26\"],[1.0,\"#f0f921\"]],\"sequentialminus\":[[0.0,\"#0d0887\"],[0.1111111111111111,\"#46039f\"],[0.2222222222222222,\"#7201a8\"],[0.3333333333333333,\"#9c179e\"],[0.4444444444444444,\"#bd3786\"],[0.5555555555555556,\"#d8576b\"],[0.6666666666666666,\"#ed7953\"],[0.7777777777777778,\"#fb9f3a\"],[0.8888888888888888,\"#fdca26\"],[1.0,\"#f0f921\"]],\"diverging\":[[0,\"#8e0152\"],[0.1,\"#c51b7d\"],[0.2,\"#de77ae\"],[0.3,\"#f1b6da\"],[0.4,\"#fde0ef\"],[0.5,\"#f7f7f7\"],[0.6,\"#e6f5d0\"],[0.7,\"#b8e186\"],[0.8,\"#7fbc41\"],[0.9,\"#4d9221\"],[1,\"#276419\"]]},\"xaxis\":{\"gridcolor\":\"white\",\"linecolor\":\"white\",\"ticks\":\"\",\"title\":{\"standoff\":15},\"zerolinecolor\":\"white\",\"automargin\":true,\"zerolinewidth\":2},\"yaxis\":{\"gridcolor\":\"white\",\"linecolor\":\"white\",\"ticks\":\"\",\"title\":{\"standoff\":15},\"zerolinecolor\":\"white\",\"automargin\":true,\"zerolinewidth\":2},\"scene\":{\"xaxis\":{\"backgroundcolor\":\"#E5ECF6\",\"gridcolor\":\"white\",\"linecolor\":\"white\",\"showbackground\":true,\"ticks\":\"\",\"zerolinecolor\":\"white\",\"gridwidth\":2},\"yaxis\":{\"backgroundcolor\":\"#E5ECF6\",\"gridcolor\":\"white\",\"linecolor\":\"white\",\"showbackground\":true,\"ticks\":\"\",\"zerolinecolor\":\"white\",\"gridwidth\":2},\"zaxis\":{\"backgroundcolor\":\"#E5ECF6\",\"gridcolor\":\"white\",\"linecolor\":\"white\",\"showbackground\":true,\"ticks\":\"\",\"zerolinecolor\":\"white\",\"gridwidth\":2}},\"shapedefaults\":{\"line\":{\"color\":\"#2a3f5f\"}},\"annotationdefaults\":{\"arrowcolor\":\"#2a3f5f\",\"arrowhead\":0,\"arrowwidth\":1},\"geo\":{\"bgcolor\":\"white\",\"landcolor\":\"#E5ECF6\",\"subunitcolor\":\"white\",\"showland\":true,\"showlakes\":true,\"lakecolor\":\"white\"},\"title\":{\"x\":0.05},\"mapbox\":{\"style\":\"light\"}}},\"xaxis\":{\"anchor\":\"y\",\"domain\":[0.0,1.0],\"title\":{\"text\":\"Date\"}},\"yaxis\":{\"anchor\":\"x\",\"domain\":[0.0,1.0],\"title\":{\"text\":\"value\"}},\"legend\":{\"title\":{\"text\":\"variable\"},\"tracegroupgap\":0},\"title\":{\"text\":\"\\u041c\\u0430\\u043a\\u0441\\u0438\\u043c\\u0430\\u043b\\u044c\\u043d\\u0430\\u044f \\u0438 \\u043c\\u0438\\u043d\\u0438\\u043c\\u0430\\u043b\\u044c\\u043d\\u0430\\u044f \\u0446\\u0435\\u043d\\u0430\"}},                        {\"responsive\": true}                    ).then(function(){\n",
              "                            \n",
              "var gd = document.getElementById('4102c598-b1c2-4bd0-bb28-492ac363f8a1');\n",
              "var x = new MutationObserver(function (mutations, observer) {{\n",
              "        var display = window.getComputedStyle(gd).display;\n",
              "        if (!display || display === 'none') {{\n",
              "            console.log([gd, 'removed!']);\n",
              "            Plotly.purge(gd);\n",
              "            observer.disconnect();\n",
              "        }}\n",
              "}});\n",
              "\n",
              "// Listen for the removal of the full notebook cells\n",
              "var notebookContainer = gd.closest('#notebook-container');\n",
              "if (notebookContainer) {{\n",
              "    x.observe(notebookContainer, {childList: true});\n",
              "}}\n",
              "\n",
              "// Listen for the clearing of the current output cell\n",
              "var outputEl = gd.closest('.output');\n",
              "if (outputEl) {{\n",
              "    x.observe(outputEl, {childList: true});\n",
              "}}\n",
              "\n",
              "                        })                };                            </script>        </div>\n",
              "</body>\n",
              "</html>"
            ]
          },
          "metadata": {}
        }
      ]
    },
    {
      "cell_type": "markdown",
      "source": [
        "График Area"
      ],
      "metadata": {
        "id": "IdJClA7_O0A_"
      }
    },
    {
      "cell_type": "code",
      "source": [
        "# Создание совместной базы биржевых товаров Solana и PancakeSwap по значению цен по данным за год с шагом в день\n",
        "data1 = {'date':list(sol_1y['Date']),\n",
        "        'Solana': list(sol_1y['Price']),\n",
        "        'PancakeSwap': list(ps_1y['Price'])}\n",
        "df1 = pd.DataFrame(data1)\n",
        "df1"
      ],
      "metadata": {
        "id": "y6DZHLYyO37B",
        "colab": {
          "base_uri": "https://localhost:8080/",
          "height": 1000
        },
        "outputId": "84e31a9a-720d-4a73-c5d4-77bb39c9a96e"
      },
      "execution_count": null,
      "outputs": [
        {
          "output_type": "execute_result",
          "data": {
            "text/plain": [
              "            date  Solana  PancakeSwap\n",
              "0   May 14, 2023  21.062        1.853\n",
              "1   May 13, 2023  20.832        1.845\n",
              "2   May 12, 2023  20.906        1.814\n",
              "3   May 11, 2023  20.184        1.857\n",
              "4   May 10, 2023  20.932        1.921\n",
              "5   May 09, 2023  20.673        1.886\n",
              "6   May 08, 2023  20.632        1.847\n",
              "7   May 07, 2023  21.655        2.035\n",
              "8   May 06, 2023  21.928        2.201\n",
              "9   May 05, 2023  22.825        2.431\n",
              "10  May 04, 2023  21.740        2.511\n",
              "11  May 03, 2023  22.220        2.539\n",
              "12  May 02, 2023  22.252        2.533\n",
              "13  May 01, 2023  21.975        2.548\n",
              "14  Apr 30, 2023  22.739        2.673\n",
              "15  Apr 29, 2023  23.186        2.690\n",
              "16  Apr 28, 2023  23.348        2.755\n",
              "17  Apr 27, 2023  22.332        2.636\n",
              "18  Apr 26, 2023  21.284        2.612\n",
              "19  Apr 25, 2023  21.920        2.770\n",
              "20  Apr 24, 2023  21.380        2.880\n",
              "21  Apr 23, 2023  21.470        3.348\n",
              "22  Apr 22, 2023  21.795        3.400\n",
              "23  Apr 21, 2023  21.267        3.348\n",
              "24  Apr 20, 2023  22.183        3.358\n",
              "25  Apr 19, 2023  22.683        3.424\n",
              "26  Apr 18, 2023  24.823        3.630\n",
              "27  Apr 17, 2023  24.569        3.586\n",
              "28  Apr 16, 2023  25.360        3.670\n",
              "29  Apr 15, 2023  24.047        3.641\n",
              "30  Apr 14, 2023  24.723        3.624"
            ],
            "text/html": [
              "\n",
              "  <div id=\"df-da2944eb-824b-459c-b02e-efaa08dd866f\">\n",
              "    <div class=\"colab-df-container\">\n",
              "      <div>\n",
              "<style scoped>\n",
              "    .dataframe tbody tr th:only-of-type {\n",
              "        vertical-align: middle;\n",
              "    }\n",
              "\n",
              "    .dataframe tbody tr th {\n",
              "        vertical-align: top;\n",
              "    }\n",
              "\n",
              "    .dataframe thead th {\n",
              "        text-align: right;\n",
              "    }\n",
              "</style>\n",
              "<table border=\"1\" class=\"dataframe\">\n",
              "  <thead>\n",
              "    <tr style=\"text-align: right;\">\n",
              "      <th></th>\n",
              "      <th>date</th>\n",
              "      <th>Solana</th>\n",
              "      <th>PancakeSwap</th>\n",
              "    </tr>\n",
              "  </thead>\n",
              "  <tbody>\n",
              "    <tr>\n",
              "      <th>0</th>\n",
              "      <td>May 14, 2023</td>\n",
              "      <td>21.062</td>\n",
              "      <td>1.853</td>\n",
              "    </tr>\n",
              "    <tr>\n",
              "      <th>1</th>\n",
              "      <td>May 13, 2023</td>\n",
              "      <td>20.832</td>\n",
              "      <td>1.845</td>\n",
              "    </tr>\n",
              "    <tr>\n",
              "      <th>2</th>\n",
              "      <td>May 12, 2023</td>\n",
              "      <td>20.906</td>\n",
              "      <td>1.814</td>\n",
              "    </tr>\n",
              "    <tr>\n",
              "      <th>3</th>\n",
              "      <td>May 11, 2023</td>\n",
              "      <td>20.184</td>\n",
              "      <td>1.857</td>\n",
              "    </tr>\n",
              "    <tr>\n",
              "      <th>4</th>\n",
              "      <td>May 10, 2023</td>\n",
              "      <td>20.932</td>\n",
              "      <td>1.921</td>\n",
              "    </tr>\n",
              "    <tr>\n",
              "      <th>5</th>\n",
              "      <td>May 09, 2023</td>\n",
              "      <td>20.673</td>\n",
              "      <td>1.886</td>\n",
              "    </tr>\n",
              "    <tr>\n",
              "      <th>6</th>\n",
              "      <td>May 08, 2023</td>\n",
              "      <td>20.632</td>\n",
              "      <td>1.847</td>\n",
              "    </tr>\n",
              "    <tr>\n",
              "      <th>7</th>\n",
              "      <td>May 07, 2023</td>\n",
              "      <td>21.655</td>\n",
              "      <td>2.035</td>\n",
              "    </tr>\n",
              "    <tr>\n",
              "      <th>8</th>\n",
              "      <td>May 06, 2023</td>\n",
              "      <td>21.928</td>\n",
              "      <td>2.201</td>\n",
              "    </tr>\n",
              "    <tr>\n",
              "      <th>9</th>\n",
              "      <td>May 05, 2023</td>\n",
              "      <td>22.825</td>\n",
              "      <td>2.431</td>\n",
              "    </tr>\n",
              "    <tr>\n",
              "      <th>10</th>\n",
              "      <td>May 04, 2023</td>\n",
              "      <td>21.740</td>\n",
              "      <td>2.511</td>\n",
              "    </tr>\n",
              "    <tr>\n",
              "      <th>11</th>\n",
              "      <td>May 03, 2023</td>\n",
              "      <td>22.220</td>\n",
              "      <td>2.539</td>\n",
              "    </tr>\n",
              "    <tr>\n",
              "      <th>12</th>\n",
              "      <td>May 02, 2023</td>\n",
              "      <td>22.252</td>\n",
              "      <td>2.533</td>\n",
              "    </tr>\n",
              "    <tr>\n",
              "      <th>13</th>\n",
              "      <td>May 01, 2023</td>\n",
              "      <td>21.975</td>\n",
              "      <td>2.548</td>\n",
              "    </tr>\n",
              "    <tr>\n",
              "      <th>14</th>\n",
              "      <td>Apr 30, 2023</td>\n",
              "      <td>22.739</td>\n",
              "      <td>2.673</td>\n",
              "    </tr>\n",
              "    <tr>\n",
              "      <th>15</th>\n",
              "      <td>Apr 29, 2023</td>\n",
              "      <td>23.186</td>\n",
              "      <td>2.690</td>\n",
              "    </tr>\n",
              "    <tr>\n",
              "      <th>16</th>\n",
              "      <td>Apr 28, 2023</td>\n",
              "      <td>23.348</td>\n",
              "      <td>2.755</td>\n",
              "    </tr>\n",
              "    <tr>\n",
              "      <th>17</th>\n",
              "      <td>Apr 27, 2023</td>\n",
              "      <td>22.332</td>\n",
              "      <td>2.636</td>\n",
              "    </tr>\n",
              "    <tr>\n",
              "      <th>18</th>\n",
              "      <td>Apr 26, 2023</td>\n",
              "      <td>21.284</td>\n",
              "      <td>2.612</td>\n",
              "    </tr>\n",
              "    <tr>\n",
              "      <th>19</th>\n",
              "      <td>Apr 25, 2023</td>\n",
              "      <td>21.920</td>\n",
              "      <td>2.770</td>\n",
              "    </tr>\n",
              "    <tr>\n",
              "      <th>20</th>\n",
              "      <td>Apr 24, 2023</td>\n",
              "      <td>21.380</td>\n",
              "      <td>2.880</td>\n",
              "    </tr>\n",
              "    <tr>\n",
              "      <th>21</th>\n",
              "      <td>Apr 23, 2023</td>\n",
              "      <td>21.470</td>\n",
              "      <td>3.348</td>\n",
              "    </tr>\n",
              "    <tr>\n",
              "      <th>22</th>\n",
              "      <td>Apr 22, 2023</td>\n",
              "      <td>21.795</td>\n",
              "      <td>3.400</td>\n",
              "    </tr>\n",
              "    <tr>\n",
              "      <th>23</th>\n",
              "      <td>Apr 21, 2023</td>\n",
              "      <td>21.267</td>\n",
              "      <td>3.348</td>\n",
              "    </tr>\n",
              "    <tr>\n",
              "      <th>24</th>\n",
              "      <td>Apr 20, 2023</td>\n",
              "      <td>22.183</td>\n",
              "      <td>3.358</td>\n",
              "    </tr>\n",
              "    <tr>\n",
              "      <th>25</th>\n",
              "      <td>Apr 19, 2023</td>\n",
              "      <td>22.683</td>\n",
              "      <td>3.424</td>\n",
              "    </tr>\n",
              "    <tr>\n",
              "      <th>26</th>\n",
              "      <td>Apr 18, 2023</td>\n",
              "      <td>24.823</td>\n",
              "      <td>3.630</td>\n",
              "    </tr>\n",
              "    <tr>\n",
              "      <th>27</th>\n",
              "      <td>Apr 17, 2023</td>\n",
              "      <td>24.569</td>\n",
              "      <td>3.586</td>\n",
              "    </tr>\n",
              "    <tr>\n",
              "      <th>28</th>\n",
              "      <td>Apr 16, 2023</td>\n",
              "      <td>25.360</td>\n",
              "      <td>3.670</td>\n",
              "    </tr>\n",
              "    <tr>\n",
              "      <th>29</th>\n",
              "      <td>Apr 15, 2023</td>\n",
              "      <td>24.047</td>\n",
              "      <td>3.641</td>\n",
              "    </tr>\n",
              "    <tr>\n",
              "      <th>30</th>\n",
              "      <td>Apr 14, 2023</td>\n",
              "      <td>24.723</td>\n",
              "      <td>3.624</td>\n",
              "    </tr>\n",
              "  </tbody>\n",
              "</table>\n",
              "</div>\n",
              "      <button class=\"colab-df-convert\" onclick=\"convertToInteractive('df-da2944eb-824b-459c-b02e-efaa08dd866f')\"\n",
              "              title=\"Convert this dataframe to an interactive table.\"\n",
              "              style=\"display:none;\">\n",
              "        \n",
              "  <svg xmlns=\"http://www.w3.org/2000/svg\" height=\"24px\"viewBox=\"0 0 24 24\"\n",
              "       width=\"24px\">\n",
              "    <path d=\"M0 0h24v24H0V0z\" fill=\"none\"/>\n",
              "    <path d=\"M18.56 5.44l.94 2.06.94-2.06 2.06-.94-2.06-.94-.94-2.06-.94 2.06-2.06.94zm-11 1L8.5 8.5l.94-2.06 2.06-.94-2.06-.94L8.5 2.5l-.94 2.06-2.06.94zm10 10l.94 2.06.94-2.06 2.06-.94-2.06-.94-.94-2.06-.94 2.06-2.06.94z\"/><path d=\"M17.41 7.96l-1.37-1.37c-.4-.4-.92-.59-1.43-.59-.52 0-1.04.2-1.43.59L10.3 9.45l-7.72 7.72c-.78.78-.78 2.05 0 2.83L4 21.41c.39.39.9.59 1.41.59.51 0 1.02-.2 1.41-.59l7.78-7.78 2.81-2.81c.8-.78.8-2.07 0-2.86zM5.41 20L4 18.59l7.72-7.72 1.47 1.35L5.41 20z\"/>\n",
              "  </svg>\n",
              "      </button>\n",
              "      \n",
              "  <style>\n",
              "    .colab-df-container {\n",
              "      display:flex;\n",
              "      flex-wrap:wrap;\n",
              "      gap: 12px;\n",
              "    }\n",
              "\n",
              "    .colab-df-convert {\n",
              "      background-color: #E8F0FE;\n",
              "      border: none;\n",
              "      border-radius: 50%;\n",
              "      cursor: pointer;\n",
              "      display: none;\n",
              "      fill: #1967D2;\n",
              "      height: 32px;\n",
              "      padding: 0 0 0 0;\n",
              "      width: 32px;\n",
              "    }\n",
              "\n",
              "    .colab-df-convert:hover {\n",
              "      background-color: #E2EBFA;\n",
              "      box-shadow: 0px 1px 2px rgba(60, 64, 67, 0.3), 0px 1px 3px 1px rgba(60, 64, 67, 0.15);\n",
              "      fill: #174EA6;\n",
              "    }\n",
              "\n",
              "    [theme=dark] .colab-df-convert {\n",
              "      background-color: #3B4455;\n",
              "      fill: #D2E3FC;\n",
              "    }\n",
              "\n",
              "    [theme=dark] .colab-df-convert:hover {\n",
              "      background-color: #434B5C;\n",
              "      box-shadow: 0px 1px 3px 1px rgba(0, 0, 0, 0.15);\n",
              "      filter: drop-shadow(0px 1px 2px rgba(0, 0, 0, 0.3));\n",
              "      fill: #FFFFFF;\n",
              "    }\n",
              "  </style>\n",
              "\n",
              "      <script>\n",
              "        const buttonEl =\n",
              "          document.querySelector('#df-da2944eb-824b-459c-b02e-efaa08dd866f button.colab-df-convert');\n",
              "        buttonEl.style.display =\n",
              "          google.colab.kernel.accessAllowed ? 'block' : 'none';\n",
              "\n",
              "        async function convertToInteractive(key) {\n",
              "          const element = document.querySelector('#df-da2944eb-824b-459c-b02e-efaa08dd866f');\n",
              "          const dataTable =\n",
              "            await google.colab.kernel.invokeFunction('convertToInteractive',\n",
              "                                                     [key], {});\n",
              "          if (!dataTable) return;\n",
              "\n",
              "          const docLinkHtml = 'Like what you see? Visit the ' +\n",
              "            '<a target=\"_blank\" href=https://colab.research.google.com/notebooks/data_table.ipynb>data table notebook</a>'\n",
              "            + ' to learn more about interactive tables.';\n",
              "          element.innerHTML = '';\n",
              "          dataTable['output_type'] = 'display_data';\n",
              "          await google.colab.output.renderOutput(dataTable, element);\n",
              "          const docLink = document.createElement('div');\n",
              "          docLink.innerHTML = docLinkHtml;\n",
              "          element.appendChild(docLink);\n",
              "        }\n",
              "      </script>\n",
              "    </div>\n",
              "  </div>\n",
              "  "
            ]
          },
          "metadata": {},
          "execution_count": 28
        }
      ]
    },
    {
      "cell_type": "code",
      "source": [
        "# Создание совместного графика изменения цены биржевых товаров Solana и PancakeSwap по данным за год с шагом в день\n",
        "fig = px.area(df1,x= 'date',y = ['Solana','PancakeSwap'],title = 'Изменение цены')\n",
        "fig.show()"
      ],
      "metadata": {
        "id": "Vpl5J-EFPcWd",
        "colab": {
          "base_uri": "https://localhost:8080/",
          "height": 542
        },
        "outputId": "759dc290-1b42-4598-bb5f-63153f2dc047"
      },
      "execution_count": null,
      "outputs": [
        {
          "output_type": "display_data",
          "data": {
            "text/html": [
              "<html>\n",
              "<head><meta charset=\"utf-8\" /></head>\n",
              "<body>\n",
              "    <div>            <script src=\"https://cdnjs.cloudflare.com/ajax/libs/mathjax/2.7.5/MathJax.js?config=TeX-AMS-MML_SVG\"></script><script type=\"text/javascript\">if (window.MathJax && window.MathJax.Hub && window.MathJax.Hub.Config) {window.MathJax.Hub.Config({SVG: {font: \"STIX-Web\"}});}</script>                <script type=\"text/javascript\">window.PlotlyConfig = {MathJaxConfig: 'local'};</script>\n",
              "        <script src=\"https://cdn.plot.ly/plotly-2.18.2.min.js\"></script>                <div id=\"6744646d-0ed4-4278-86cd-5a4add7f63ae\" class=\"plotly-graph-div\" style=\"height:525px; width:100%;\"></div>            <script type=\"text/javascript\">                                    window.PLOTLYENV=window.PLOTLYENV || {};                                    if (document.getElementById(\"6744646d-0ed4-4278-86cd-5a4add7f63ae\")) {                    Plotly.newPlot(                        \"6744646d-0ed4-4278-86cd-5a4add7f63ae\",                        [{\"fillpattern\":{\"shape\":\"\"},\"hovertemplate\":\"variable=Solana<br>date=%{x}<br>value=%{y}<extra></extra>\",\"legendgroup\":\"Solana\",\"line\":{\"color\":\"#636efa\"},\"marker\":{\"symbol\":\"circle\"},\"mode\":\"lines\",\"name\":\"Solana\",\"orientation\":\"v\",\"showlegend\":true,\"stackgroup\":\"1\",\"x\":[\"May 14, 2023\",\"May 13, 2023\",\"May 12, 2023\",\"May 11, 2023\",\"May 10, 2023\",\"May 09, 2023\",\"May 08, 2023\",\"May 07, 2023\",\"May 06, 2023\",\"May 05, 2023\",\"May 04, 2023\",\"May 03, 2023\",\"May 02, 2023\",\"May 01, 2023\",\"Apr 30, 2023\",\"Apr 29, 2023\",\"Apr 28, 2023\",\"Apr 27, 2023\",\"Apr 26, 2023\",\"Apr 25, 2023\",\"Apr 24, 2023\",\"Apr 23, 2023\",\"Apr 22, 2023\",\"Apr 21, 2023\",\"Apr 20, 2023\",\"Apr 19, 2023\",\"Apr 18, 2023\",\"Apr 17, 2023\",\"Apr 16, 2023\",\"Apr 15, 2023\",\"Apr 14, 2023\"],\"xaxis\":\"x\",\"y\":[21.062,20.832,20.906,20.184,20.932,20.673,20.632,21.655,21.928,22.825,21.74,22.22,22.252,21.975,22.739,23.186,23.348,22.332,21.284,21.92,21.38,21.47,21.795,21.267,22.183,22.683,24.823,24.569,25.36,24.047,24.723],\"yaxis\":\"y\",\"type\":\"scatter\"},{\"fillpattern\":{\"shape\":\"\"},\"hovertemplate\":\"variable=PancakeSwap<br>date=%{x}<br>value=%{y}<extra></extra>\",\"legendgroup\":\"PancakeSwap\",\"line\":{\"color\":\"#EF553B\"},\"marker\":{\"symbol\":\"circle\"},\"mode\":\"lines\",\"name\":\"PancakeSwap\",\"orientation\":\"v\",\"showlegend\":true,\"stackgroup\":\"1\",\"x\":[\"May 14, 2023\",\"May 13, 2023\",\"May 12, 2023\",\"May 11, 2023\",\"May 10, 2023\",\"May 09, 2023\",\"May 08, 2023\",\"May 07, 2023\",\"May 06, 2023\",\"May 05, 2023\",\"May 04, 2023\",\"May 03, 2023\",\"May 02, 2023\",\"May 01, 2023\",\"Apr 30, 2023\",\"Apr 29, 2023\",\"Apr 28, 2023\",\"Apr 27, 2023\",\"Apr 26, 2023\",\"Apr 25, 2023\",\"Apr 24, 2023\",\"Apr 23, 2023\",\"Apr 22, 2023\",\"Apr 21, 2023\",\"Apr 20, 2023\",\"Apr 19, 2023\",\"Apr 18, 2023\",\"Apr 17, 2023\",\"Apr 16, 2023\",\"Apr 15, 2023\",\"Apr 14, 2023\"],\"xaxis\":\"x\",\"y\":[1.853,1.845,1.814,1.857,1.921,1.886,1.847,2.035,2.201,2.431,2.511,2.539,2.533,2.548,2.673,2.69,2.755,2.636,2.612,2.77,2.88,3.348,3.4,3.348,3.358,3.424,3.63,3.586,3.67,3.641,3.624],\"yaxis\":\"y\",\"type\":\"scatter\"}],                        {\"template\":{\"data\":{\"histogram2dcontour\":[{\"type\":\"histogram2dcontour\",\"colorbar\":{\"outlinewidth\":0,\"ticks\":\"\"},\"colorscale\":[[0.0,\"#0d0887\"],[0.1111111111111111,\"#46039f\"],[0.2222222222222222,\"#7201a8\"],[0.3333333333333333,\"#9c179e\"],[0.4444444444444444,\"#bd3786\"],[0.5555555555555556,\"#d8576b\"],[0.6666666666666666,\"#ed7953\"],[0.7777777777777778,\"#fb9f3a\"],[0.8888888888888888,\"#fdca26\"],[1.0,\"#f0f921\"]]}],\"choropleth\":[{\"type\":\"choropleth\",\"colorbar\":{\"outlinewidth\":0,\"ticks\":\"\"}}],\"histogram2d\":[{\"type\":\"histogram2d\",\"colorbar\":{\"outlinewidth\":0,\"ticks\":\"\"},\"colorscale\":[[0.0,\"#0d0887\"],[0.1111111111111111,\"#46039f\"],[0.2222222222222222,\"#7201a8\"],[0.3333333333333333,\"#9c179e\"],[0.4444444444444444,\"#bd3786\"],[0.5555555555555556,\"#d8576b\"],[0.6666666666666666,\"#ed7953\"],[0.7777777777777778,\"#fb9f3a\"],[0.8888888888888888,\"#fdca26\"],[1.0,\"#f0f921\"]]}],\"heatmap\":[{\"type\":\"heatmap\",\"colorbar\":{\"outlinewidth\":0,\"ticks\":\"\"},\"colorscale\":[[0.0,\"#0d0887\"],[0.1111111111111111,\"#46039f\"],[0.2222222222222222,\"#7201a8\"],[0.3333333333333333,\"#9c179e\"],[0.4444444444444444,\"#bd3786\"],[0.5555555555555556,\"#d8576b\"],[0.6666666666666666,\"#ed7953\"],[0.7777777777777778,\"#fb9f3a\"],[0.8888888888888888,\"#fdca26\"],[1.0,\"#f0f921\"]]}],\"heatmapgl\":[{\"type\":\"heatmapgl\",\"colorbar\":{\"outlinewidth\":0,\"ticks\":\"\"},\"colorscale\":[[0.0,\"#0d0887\"],[0.1111111111111111,\"#46039f\"],[0.2222222222222222,\"#7201a8\"],[0.3333333333333333,\"#9c179e\"],[0.4444444444444444,\"#bd3786\"],[0.5555555555555556,\"#d8576b\"],[0.6666666666666666,\"#ed7953\"],[0.7777777777777778,\"#fb9f3a\"],[0.8888888888888888,\"#fdca26\"],[1.0,\"#f0f921\"]]}],\"contourcarpet\":[{\"type\":\"contourcarpet\",\"colorbar\":{\"outlinewidth\":0,\"ticks\":\"\"}}],\"contour\":[{\"type\":\"contour\",\"colorbar\":{\"outlinewidth\":0,\"ticks\":\"\"},\"colorscale\":[[0.0,\"#0d0887\"],[0.1111111111111111,\"#46039f\"],[0.2222222222222222,\"#7201a8\"],[0.3333333333333333,\"#9c179e\"],[0.4444444444444444,\"#bd3786\"],[0.5555555555555556,\"#d8576b\"],[0.6666666666666666,\"#ed7953\"],[0.7777777777777778,\"#fb9f3a\"],[0.8888888888888888,\"#fdca26\"],[1.0,\"#f0f921\"]]}],\"surface\":[{\"type\":\"surface\",\"colorbar\":{\"outlinewidth\":0,\"ticks\":\"\"},\"colorscale\":[[0.0,\"#0d0887\"],[0.1111111111111111,\"#46039f\"],[0.2222222222222222,\"#7201a8\"],[0.3333333333333333,\"#9c179e\"],[0.4444444444444444,\"#bd3786\"],[0.5555555555555556,\"#d8576b\"],[0.6666666666666666,\"#ed7953\"],[0.7777777777777778,\"#fb9f3a\"],[0.8888888888888888,\"#fdca26\"],[1.0,\"#f0f921\"]]}],\"mesh3d\":[{\"type\":\"mesh3d\",\"colorbar\":{\"outlinewidth\":0,\"ticks\":\"\"}}],\"scatter\":[{\"fillpattern\":{\"fillmode\":\"overlay\",\"size\":10,\"solidity\":0.2},\"type\":\"scatter\"}],\"parcoords\":[{\"type\":\"parcoords\",\"line\":{\"colorbar\":{\"outlinewidth\":0,\"ticks\":\"\"}}}],\"scatterpolargl\":[{\"type\":\"scatterpolargl\",\"marker\":{\"colorbar\":{\"outlinewidth\":0,\"ticks\":\"\"}}}],\"bar\":[{\"error_x\":{\"color\":\"#2a3f5f\"},\"error_y\":{\"color\":\"#2a3f5f\"},\"marker\":{\"line\":{\"color\":\"#E5ECF6\",\"width\":0.5},\"pattern\":{\"fillmode\":\"overlay\",\"size\":10,\"solidity\":0.2}},\"type\":\"bar\"}],\"scattergeo\":[{\"type\":\"scattergeo\",\"marker\":{\"colorbar\":{\"outlinewidth\":0,\"ticks\":\"\"}}}],\"scatterpolar\":[{\"type\":\"scatterpolar\",\"marker\":{\"colorbar\":{\"outlinewidth\":0,\"ticks\":\"\"}}}],\"histogram\":[{\"marker\":{\"pattern\":{\"fillmode\":\"overlay\",\"size\":10,\"solidity\":0.2}},\"type\":\"histogram\"}],\"scattergl\":[{\"type\":\"scattergl\",\"marker\":{\"colorbar\":{\"outlinewidth\":0,\"ticks\":\"\"}}}],\"scatter3d\":[{\"type\":\"scatter3d\",\"line\":{\"colorbar\":{\"outlinewidth\":0,\"ticks\":\"\"}},\"marker\":{\"colorbar\":{\"outlinewidth\":0,\"ticks\":\"\"}}}],\"scattermapbox\":[{\"type\":\"scattermapbox\",\"marker\":{\"colorbar\":{\"outlinewidth\":0,\"ticks\":\"\"}}}],\"scatterternary\":[{\"type\":\"scatterternary\",\"marker\":{\"colorbar\":{\"outlinewidth\":0,\"ticks\":\"\"}}}],\"scattercarpet\":[{\"type\":\"scattercarpet\",\"marker\":{\"colorbar\":{\"outlinewidth\":0,\"ticks\":\"\"}}}],\"carpet\":[{\"aaxis\":{\"endlinecolor\":\"#2a3f5f\",\"gridcolor\":\"white\",\"linecolor\":\"white\",\"minorgridcolor\":\"white\",\"startlinecolor\":\"#2a3f5f\"},\"baxis\":{\"endlinecolor\":\"#2a3f5f\",\"gridcolor\":\"white\",\"linecolor\":\"white\",\"minorgridcolor\":\"white\",\"startlinecolor\":\"#2a3f5f\"},\"type\":\"carpet\"}],\"table\":[{\"cells\":{\"fill\":{\"color\":\"#EBF0F8\"},\"line\":{\"color\":\"white\"}},\"header\":{\"fill\":{\"color\":\"#C8D4E3\"},\"line\":{\"color\":\"white\"}},\"type\":\"table\"}],\"barpolar\":[{\"marker\":{\"line\":{\"color\":\"#E5ECF6\",\"width\":0.5},\"pattern\":{\"fillmode\":\"overlay\",\"size\":10,\"solidity\":0.2}},\"type\":\"barpolar\"}],\"pie\":[{\"automargin\":true,\"type\":\"pie\"}]},\"layout\":{\"autotypenumbers\":\"strict\",\"colorway\":[\"#636efa\",\"#EF553B\",\"#00cc96\",\"#ab63fa\",\"#FFA15A\",\"#19d3f3\",\"#FF6692\",\"#B6E880\",\"#FF97FF\",\"#FECB52\"],\"font\":{\"color\":\"#2a3f5f\"},\"hovermode\":\"closest\",\"hoverlabel\":{\"align\":\"left\"},\"paper_bgcolor\":\"white\",\"plot_bgcolor\":\"#E5ECF6\",\"polar\":{\"bgcolor\":\"#E5ECF6\",\"angularaxis\":{\"gridcolor\":\"white\",\"linecolor\":\"white\",\"ticks\":\"\"},\"radialaxis\":{\"gridcolor\":\"white\",\"linecolor\":\"white\",\"ticks\":\"\"}},\"ternary\":{\"bgcolor\":\"#E5ECF6\",\"aaxis\":{\"gridcolor\":\"white\",\"linecolor\":\"white\",\"ticks\":\"\"},\"baxis\":{\"gridcolor\":\"white\",\"linecolor\":\"white\",\"ticks\":\"\"},\"caxis\":{\"gridcolor\":\"white\",\"linecolor\":\"white\",\"ticks\":\"\"}},\"coloraxis\":{\"colorbar\":{\"outlinewidth\":0,\"ticks\":\"\"}},\"colorscale\":{\"sequential\":[[0.0,\"#0d0887\"],[0.1111111111111111,\"#46039f\"],[0.2222222222222222,\"#7201a8\"],[0.3333333333333333,\"#9c179e\"],[0.4444444444444444,\"#bd3786\"],[0.5555555555555556,\"#d8576b\"],[0.6666666666666666,\"#ed7953\"],[0.7777777777777778,\"#fb9f3a\"],[0.8888888888888888,\"#fdca26\"],[1.0,\"#f0f921\"]],\"sequentialminus\":[[0.0,\"#0d0887\"],[0.1111111111111111,\"#46039f\"],[0.2222222222222222,\"#7201a8\"],[0.3333333333333333,\"#9c179e\"],[0.4444444444444444,\"#bd3786\"],[0.5555555555555556,\"#d8576b\"],[0.6666666666666666,\"#ed7953\"],[0.7777777777777778,\"#fb9f3a\"],[0.8888888888888888,\"#fdca26\"],[1.0,\"#f0f921\"]],\"diverging\":[[0,\"#8e0152\"],[0.1,\"#c51b7d\"],[0.2,\"#de77ae\"],[0.3,\"#f1b6da\"],[0.4,\"#fde0ef\"],[0.5,\"#f7f7f7\"],[0.6,\"#e6f5d0\"],[0.7,\"#b8e186\"],[0.8,\"#7fbc41\"],[0.9,\"#4d9221\"],[1,\"#276419\"]]},\"xaxis\":{\"gridcolor\":\"white\",\"linecolor\":\"white\",\"ticks\":\"\",\"title\":{\"standoff\":15},\"zerolinecolor\":\"white\",\"automargin\":true,\"zerolinewidth\":2},\"yaxis\":{\"gridcolor\":\"white\",\"linecolor\":\"white\",\"ticks\":\"\",\"title\":{\"standoff\":15},\"zerolinecolor\":\"white\",\"automargin\":true,\"zerolinewidth\":2},\"scene\":{\"xaxis\":{\"backgroundcolor\":\"#E5ECF6\",\"gridcolor\":\"white\",\"linecolor\":\"white\",\"showbackground\":true,\"ticks\":\"\",\"zerolinecolor\":\"white\",\"gridwidth\":2},\"yaxis\":{\"backgroundcolor\":\"#E5ECF6\",\"gridcolor\":\"white\",\"linecolor\":\"white\",\"showbackground\":true,\"ticks\":\"\",\"zerolinecolor\":\"white\",\"gridwidth\":2},\"zaxis\":{\"backgroundcolor\":\"#E5ECF6\",\"gridcolor\":\"white\",\"linecolor\":\"white\",\"showbackground\":true,\"ticks\":\"\",\"zerolinecolor\":\"white\",\"gridwidth\":2}},\"shapedefaults\":{\"line\":{\"color\":\"#2a3f5f\"}},\"annotationdefaults\":{\"arrowcolor\":\"#2a3f5f\",\"arrowhead\":0,\"arrowwidth\":1},\"geo\":{\"bgcolor\":\"white\",\"landcolor\":\"#E5ECF6\",\"subunitcolor\":\"white\",\"showland\":true,\"showlakes\":true,\"lakecolor\":\"white\"},\"title\":{\"x\":0.05},\"mapbox\":{\"style\":\"light\"}}},\"xaxis\":{\"anchor\":\"y\",\"domain\":[0.0,1.0],\"title\":{\"text\":\"date\"}},\"yaxis\":{\"anchor\":\"x\",\"domain\":[0.0,1.0],\"title\":{\"text\":\"value\"}},\"legend\":{\"title\":{\"text\":\"variable\"},\"tracegroupgap\":0},\"title\":{\"text\":\"\\u0418\\u0437\\u043c\\u0435\\u043d\\u0435\\u043d\\u0438\\u0435 \\u0446\\u0435\\u043d\\u044b\"}},                        {\"responsive\": true}                    ).then(function(){\n",
              "                            \n",
              "var gd = document.getElementById('6744646d-0ed4-4278-86cd-5a4add7f63ae');\n",
              "var x = new MutationObserver(function (mutations, observer) {{\n",
              "        var display = window.getComputedStyle(gd).display;\n",
              "        if (!display || display === 'none') {{\n",
              "            console.log([gd, 'removed!']);\n",
              "            Plotly.purge(gd);\n",
              "            observer.disconnect();\n",
              "        }}\n",
              "}});\n",
              "\n",
              "// Listen for the removal of the full notebook cells\n",
              "var notebookContainer = gd.closest('#notebook-container');\n",
              "if (notebookContainer) {{\n",
              "    x.observe(notebookContainer, {childList: true});\n",
              "}}\n",
              "\n",
              "// Listen for the clearing of the current output cell\n",
              "var outputEl = gd.closest('.output');\n",
              "if (outputEl) {{\n",
              "    x.observe(outputEl, {childList: true});\n",
              "}}\n",
              "\n",
              "                        })                };                            </script>        </div>\n",
              "</body>\n",
              "</html>"
            ]
          },
          "metadata": {}
        }
      ]
    },
    {
      "cell_type": "markdown",
      "source": [
        "#Объединение нескольких графиков YFinance"
      ],
      "metadata": {
        "id": "QdTRLvwmRDLc"
      }
    },
    {
      "cell_type": "code",
      "source": [
        "from plotly.subplots import make_subplots\n",
        "fig = make_subplots(rows = 3, cols=1)\n",
        "\n",
        "#Добавление свечного графика различных значений цен компании Enphase Energy, Inc. (ENPH) по данным за год с шагом в неделю\n",
        "fig.add_trace(go.Candlestick(x=enph_y['Date'],\n",
        "                open=enph_y['Open'],\n",
        "                high=enph_y['High'],\n",
        "                low=enph_y['Low'],\n",
        "                close=enph_y['Close'],name = 'Свечной график'),row=3, col=1)\n",
        "\n",
        "#Добавление линейных графиков изменения цен открытия и закрытия акции компании Enphase Energy, Inc. (ENPH) по данным за год с шагом в неделю\n",
        "fig.add_trace(go.Line(x = enph_y['Date'], y = enph_y['Close'],name = 'Цена закрытия'),row=1, col=1)\n",
        "fig.add_trace(go.Line(x = enph_y['Date'], y = enph_y['Open'],name = 'Цена Открытия'),row=1, col=1)\n",
        "\n",
        "#Добавление столбчатого графика максимальной цены акции компании Enphase Energy, Inc. (ENPH) по данным за год с шагом в неделю\n",
        "fig.add_trace(go.Bar(x = enph_y['Date'], y = enph_y['High'],name = 'Максимальные значения цен'),row=2, col=1)\n",
        "\n",
        "fig.update_layout(height=1000,\n",
        "                  width=1000)\n",
        "fig.update_layout(title=\"Enphase Energy, Inc. (ENPH)\")\n",
        "fig.show()"
      ],
      "metadata": {
        "id": "uHdy5GnrOzXz",
        "colab": {
          "base_uri": "https://localhost:8080/",
          "height": 1000
        },
        "outputId": "3997c885-a2ae-4046-c8c5-805d2c8bc3b4"
      },
      "execution_count": null,
      "outputs": [
        {
          "output_type": "stream",
          "name": "stderr",
          "text": [
            "/usr/local/lib/python3.10/dist-packages/plotly/graph_objs/_deprecations.py:378: DeprecationWarning:\n",
            "\n",
            "plotly.graph_objs.Line is deprecated.\n",
            "Please replace it with one of the following more specific types\n",
            "  - plotly.graph_objs.scatter.Line\n",
            "  - plotly.graph_objs.layout.shape.Line\n",
            "  - etc.\n",
            "\n",
            "\n"
          ]
        },
        {
          "output_type": "display_data",
          "data": {
            "text/html": [
              "<html>\n",
              "<head><meta charset=\"utf-8\" /></head>\n",
              "<body>\n",
              "    <div>            <script src=\"https://cdnjs.cloudflare.com/ajax/libs/mathjax/2.7.5/MathJax.js?config=TeX-AMS-MML_SVG\"></script><script type=\"text/javascript\">if (window.MathJax && window.MathJax.Hub && window.MathJax.Hub.Config) {window.MathJax.Hub.Config({SVG: {font: \"STIX-Web\"}});}</script>                <script type=\"text/javascript\">window.PlotlyConfig = {MathJaxConfig: 'local'};</script>\n",
              "        <script src=\"https://cdn.plot.ly/plotly-2.18.2.min.js\"></script>                <div id=\"f6f2ffcc-7e42-4865-ab7a-e6896a0dc434\" class=\"plotly-graph-div\" style=\"height:1000px; width:1000px;\"></div>            <script type=\"text/javascript\">                                    window.PLOTLYENV=window.PLOTLYENV || {};                                    if (document.getElementById(\"f6f2ffcc-7e42-4865-ab7a-e6896a0dc434\")) {                    Plotly.newPlot(                        \"f6f2ffcc-7e42-4865-ab7a-e6896a0dc434\",                        [{\"close\":[168.25,188.9499969482422,196.33999633789062,196.19000244140625,184.75,198.38999938964844,195.72000122070312,216.4499969482422,194.91000366210938,211.5399932861328,284.17999267578125,300.9100036621094,299.260009765625,283.70001220703125,288.5899963378906,279.07000732421875,305.70001220703125,318.010009765625,279.489990234375,277.4700012207031,255.14999389648438,237.8699951171875,252.0,305.25,282.44000244140625,292.010009765625,311.94000244140625,319.4200134277344,336.0,319.54998779296875,303.3900146484375,293.95001220703125,264.9599914550781,233.64999389648438,245.8300018310547,222.5399932861328,210.08999633789062,222.92999267578125,212.07000732421875,204.99000549316406,198.9600067138672,217.16000366210938,210.22000122070312,183.63999938964844,195.99000549316406,210.27999877929688,191.0,208.89999389648438,223.61000061035156,164.1999969482422,159.64999389648438,167.5500030517578],\"high\":[173.97999572753906,190.1999969482422,203.75,217.22999572753906,191.22000122070312,204.4199981689453,210.10000610351562,219.08999633789062,214.8699951171875,225.60000610351562,287.3800048828125,305.8800048828125,308.8800048828125,306.5,305.6600036621094,296.82000732421875,324.8399963378906,322.95001220703125,319.6499938964844,294.79998779296875,297.7099914550781,260.0,254.19000244140625,312.7699890136719,316.8699951171875,319.489990234375,322.6499938964844,324.4599914550781,338.1600036621094,339.9200134277344,338.1000061035156,317.8299865722656,293.0299987792969,271.7200012207031,251.64999389648438,260.9800109863281,234.3300018310547,235.89999389648438,247.0,218.6199951171875,208.82000732421875,219.17999267578125,230.44000244140625,221.49000549316406,214.85000610351562,214.19000244140625,215.88999938964844,214.64999389648438,231.4199981689453,228.36000061035156,166.63999938964844,172.60000610351562],\"low\":[150.4499969482422,159.60000610351562,180.35000610351562,191.60000610351562,167.22999572753906,185.52000427246094,178.5,179.1999969482422,175.0,199.61000061035156,207.16000366210938,273.29998779296875,280.3500061035156,280.7799987792969,272.7099914550781,271.75,278.9200134277344,293.0400085449219,270.57000732421875,273.3999938964844,248.1300048828125,234.5800018310547,234.0,243.00999450683594,271.70001220703125,262.6000061035156,285.010009765625,297.04998779296875,303.05999755859375,300.3399963378906,299.010009765625,288.2699890136719,258.4700012207031,230.10000610351562,224.4499969482422,219.8300018310547,201.67999267578125,206.25,202.75999450683594,199.02999877929688,196.25,203.36000061035156,207.5399932861328,181.5500030517578,185.1999969482422,190.6199951171875,187.14999389648438,188.50999450683594,214.77999877929688,156.30999755859375,152.14999389648438,156.30999755859375],\"name\":\"\\u0421\\u0432\\u0435\\u0447\\u043d\\u043e\\u0439 \\u0433\\u0440\\u0430\\u0444\\u0438\\u043a\",\"open\":[154.1999969482422,168.5800018310547,188.97000122070312,211.0,182.5800018310547,187.91000366210938,201.9199981689453,190.07000732421875,214.61000061035156,199.61000061035156,213.49000549316406,282.9100036621094,305.1199951171875,295.75,276.04998779296875,284.25,282.9100036621094,304.2699890136719,313.0,277.8599853515625,279.5400085449219,252.5399932861328,244.89999389648438,253.10000610351562,301.1099853515625,282.30999755859375,299.07000732421875,308.29998779296875,316.5799865722656,334.010009765625,315.4599914550781,308.1099853515625,292.4200134277344,269.1700134277344,236.36000061035156,249.0800018310547,223.5800018310547,208.42999267578125,224.1300048828125,212.8800048828125,203.69000244140625,205.47000122070312,218.57000732421875,209.1699981689453,189.58999633789062,199.36000061035156,213.97999572753906,189.08999633789062,215.0,223.61000061035156,164.0,161.6999969482422],\"x\":[\"2022-05-16T00:00:00-04:00\",\"2022-05-23T00:00:00-04:00\",\"2022-05-30T00:00:00-04:00\",\"2022-06-06T00:00:00-04:00\",\"2022-06-13T00:00:00-04:00\",\"2022-06-20T00:00:00-04:00\",\"2022-06-27T00:00:00-04:00\",\"2022-07-04T00:00:00-04:00\",\"2022-07-11T00:00:00-04:00\",\"2022-07-18T00:00:00-04:00\",\"2022-07-25T00:00:00-04:00\",\"2022-08-01T00:00:00-04:00\",\"2022-08-08T00:00:00-04:00\",\"2022-08-15T00:00:00-04:00\",\"2022-08-22T00:00:00-04:00\",\"2022-08-29T00:00:00-04:00\",\"2022-09-05T00:00:00-04:00\",\"2022-09-12T00:00:00-04:00\",\"2022-09-19T00:00:00-04:00\",\"2022-09-26T00:00:00-04:00\",\"2022-10-03T00:00:00-04:00\",\"2022-10-10T00:00:00-04:00\",\"2022-10-17T00:00:00-04:00\",\"2022-10-24T00:00:00-04:00\",\"2022-10-31T00:00:00-04:00\",\"2022-11-07T00:00:00-05:00\",\"2022-11-14T00:00:00-05:00\",\"2022-11-21T00:00:00-05:00\",\"2022-11-28T00:00:00-05:00\",\"2022-12-05T00:00:00-05:00\",\"2022-12-12T00:00:00-05:00\",\"2022-12-19T00:00:00-05:00\",\"2022-12-26T00:00:00-05:00\",\"2023-01-02T00:00:00-05:00\",\"2023-01-09T00:00:00-05:00\",\"2023-01-16T00:00:00-05:00\",\"2023-01-23T00:00:00-05:00\",\"2023-01-30T00:00:00-05:00\",\"2023-02-06T00:00:00-05:00\",\"2023-02-13T00:00:00-05:00\",\"2023-02-20T00:00:00-05:00\",\"2023-02-27T00:00:00-05:00\",\"2023-03-06T00:00:00-05:00\",\"2023-03-13T00:00:00-04:00\",\"2023-03-20T00:00:00-04:00\",\"2023-03-27T00:00:00-04:00\",\"2023-04-03T00:00:00-04:00\",\"2023-04-10T00:00:00-04:00\",\"2023-04-17T00:00:00-04:00\",\"2023-04-24T00:00:00-04:00\",\"2023-05-01T00:00:00-04:00\",\"2023-05-08T00:00:00-04:00\"],\"type\":\"candlestick\",\"xaxis\":\"x3\",\"yaxis\":\"y3\"},{\"name\":\"\\u0426\\u0435\\u043d\\u0430 \\u0437\\u0430\\u043a\\u0440\\u044b\\u0442\\u0438\\u044f\",\"x\":[\"2022-05-16T00:00:00-04:00\",\"2022-05-23T00:00:00-04:00\",\"2022-05-30T00:00:00-04:00\",\"2022-06-06T00:00:00-04:00\",\"2022-06-13T00:00:00-04:00\",\"2022-06-20T00:00:00-04:00\",\"2022-06-27T00:00:00-04:00\",\"2022-07-04T00:00:00-04:00\",\"2022-07-11T00:00:00-04:00\",\"2022-07-18T00:00:00-04:00\",\"2022-07-25T00:00:00-04:00\",\"2022-08-01T00:00:00-04:00\",\"2022-08-08T00:00:00-04:00\",\"2022-08-15T00:00:00-04:00\",\"2022-08-22T00:00:00-04:00\",\"2022-08-29T00:00:00-04:00\",\"2022-09-05T00:00:00-04:00\",\"2022-09-12T00:00:00-04:00\",\"2022-09-19T00:00:00-04:00\",\"2022-09-26T00:00:00-04:00\",\"2022-10-03T00:00:00-04:00\",\"2022-10-10T00:00:00-04:00\",\"2022-10-17T00:00:00-04:00\",\"2022-10-24T00:00:00-04:00\",\"2022-10-31T00:00:00-04:00\",\"2022-11-07T00:00:00-05:00\",\"2022-11-14T00:00:00-05:00\",\"2022-11-21T00:00:00-05:00\",\"2022-11-28T00:00:00-05:00\",\"2022-12-05T00:00:00-05:00\",\"2022-12-12T00:00:00-05:00\",\"2022-12-19T00:00:00-05:00\",\"2022-12-26T00:00:00-05:00\",\"2023-01-02T00:00:00-05:00\",\"2023-01-09T00:00:00-05:00\",\"2023-01-16T00:00:00-05:00\",\"2023-01-23T00:00:00-05:00\",\"2023-01-30T00:00:00-05:00\",\"2023-02-06T00:00:00-05:00\",\"2023-02-13T00:00:00-05:00\",\"2023-02-20T00:00:00-05:00\",\"2023-02-27T00:00:00-05:00\",\"2023-03-06T00:00:00-05:00\",\"2023-03-13T00:00:00-04:00\",\"2023-03-20T00:00:00-04:00\",\"2023-03-27T00:00:00-04:00\",\"2023-04-03T00:00:00-04:00\",\"2023-04-10T00:00:00-04:00\",\"2023-04-17T00:00:00-04:00\",\"2023-04-24T00:00:00-04:00\",\"2023-05-01T00:00:00-04:00\",\"2023-05-08T00:00:00-04:00\"],\"y\":[168.25,188.9499969482422,196.33999633789062,196.19000244140625,184.75,198.38999938964844,195.72000122070312,216.4499969482422,194.91000366210938,211.5399932861328,284.17999267578125,300.9100036621094,299.260009765625,283.70001220703125,288.5899963378906,279.07000732421875,305.70001220703125,318.010009765625,279.489990234375,277.4700012207031,255.14999389648438,237.8699951171875,252.0,305.25,282.44000244140625,292.010009765625,311.94000244140625,319.4200134277344,336.0,319.54998779296875,303.3900146484375,293.95001220703125,264.9599914550781,233.64999389648438,245.8300018310547,222.5399932861328,210.08999633789062,222.92999267578125,212.07000732421875,204.99000549316406,198.9600067138672,217.16000366210938,210.22000122070312,183.63999938964844,195.99000549316406,210.27999877929688,191.0,208.89999389648438,223.61000061035156,164.1999969482422,159.64999389648438,167.5500030517578],\"type\":\"scatter\",\"xaxis\":\"x\",\"yaxis\":\"y\"},{\"name\":\"\\u0426\\u0435\\u043d\\u0430 \\u041e\\u0442\\u043a\\u0440\\u044b\\u0442\\u0438\\u044f\",\"x\":[\"2022-05-16T00:00:00-04:00\",\"2022-05-23T00:00:00-04:00\",\"2022-05-30T00:00:00-04:00\",\"2022-06-06T00:00:00-04:00\",\"2022-06-13T00:00:00-04:00\",\"2022-06-20T00:00:00-04:00\",\"2022-06-27T00:00:00-04:00\",\"2022-07-04T00:00:00-04:00\",\"2022-07-11T00:00:00-04:00\",\"2022-07-18T00:00:00-04:00\",\"2022-07-25T00:00:00-04:00\",\"2022-08-01T00:00:00-04:00\",\"2022-08-08T00:00:00-04:00\",\"2022-08-15T00:00:00-04:00\",\"2022-08-22T00:00:00-04:00\",\"2022-08-29T00:00:00-04:00\",\"2022-09-05T00:00:00-04:00\",\"2022-09-12T00:00:00-04:00\",\"2022-09-19T00:00:00-04:00\",\"2022-09-26T00:00:00-04:00\",\"2022-10-03T00:00:00-04:00\",\"2022-10-10T00:00:00-04:00\",\"2022-10-17T00:00:00-04:00\",\"2022-10-24T00:00:00-04:00\",\"2022-10-31T00:00:00-04:00\",\"2022-11-07T00:00:00-05:00\",\"2022-11-14T00:00:00-05:00\",\"2022-11-21T00:00:00-05:00\",\"2022-11-28T00:00:00-05:00\",\"2022-12-05T00:00:00-05:00\",\"2022-12-12T00:00:00-05:00\",\"2022-12-19T00:00:00-05:00\",\"2022-12-26T00:00:00-05:00\",\"2023-01-02T00:00:00-05:00\",\"2023-01-09T00:00:00-05:00\",\"2023-01-16T00:00:00-05:00\",\"2023-01-23T00:00:00-05:00\",\"2023-01-30T00:00:00-05:00\",\"2023-02-06T00:00:00-05:00\",\"2023-02-13T00:00:00-05:00\",\"2023-02-20T00:00:00-05:00\",\"2023-02-27T00:00:00-05:00\",\"2023-03-06T00:00:00-05:00\",\"2023-03-13T00:00:00-04:00\",\"2023-03-20T00:00:00-04:00\",\"2023-03-27T00:00:00-04:00\",\"2023-04-03T00:00:00-04:00\",\"2023-04-10T00:00:00-04:00\",\"2023-04-17T00:00:00-04:00\",\"2023-04-24T00:00:00-04:00\",\"2023-05-01T00:00:00-04:00\",\"2023-05-08T00:00:00-04:00\"],\"y\":[154.1999969482422,168.5800018310547,188.97000122070312,211.0,182.5800018310547,187.91000366210938,201.9199981689453,190.07000732421875,214.61000061035156,199.61000061035156,213.49000549316406,282.9100036621094,305.1199951171875,295.75,276.04998779296875,284.25,282.9100036621094,304.2699890136719,313.0,277.8599853515625,279.5400085449219,252.5399932861328,244.89999389648438,253.10000610351562,301.1099853515625,282.30999755859375,299.07000732421875,308.29998779296875,316.5799865722656,334.010009765625,315.4599914550781,308.1099853515625,292.4200134277344,269.1700134277344,236.36000061035156,249.0800018310547,223.5800018310547,208.42999267578125,224.1300048828125,212.8800048828125,203.69000244140625,205.47000122070312,218.57000732421875,209.1699981689453,189.58999633789062,199.36000061035156,213.97999572753906,189.08999633789062,215.0,223.61000061035156,164.0,161.6999969482422],\"type\":\"scatter\",\"xaxis\":\"x\",\"yaxis\":\"y\"},{\"name\":\"\\u041c\\u0430\\u043a\\u0441\\u0438\\u043c\\u0430\\u043b\\u044c\\u043d\\u044b\\u0435 \\u0437\\u043d\\u0430\\u0447\\u0435\\u043d\\u0438\\u044f \\u0446\\u0435\\u043d\",\"x\":[\"2022-05-16T00:00:00-04:00\",\"2022-05-23T00:00:00-04:00\",\"2022-05-30T00:00:00-04:00\",\"2022-06-06T00:00:00-04:00\",\"2022-06-13T00:00:00-04:00\",\"2022-06-20T00:00:00-04:00\",\"2022-06-27T00:00:00-04:00\",\"2022-07-04T00:00:00-04:00\",\"2022-07-11T00:00:00-04:00\",\"2022-07-18T00:00:00-04:00\",\"2022-07-25T00:00:00-04:00\",\"2022-08-01T00:00:00-04:00\",\"2022-08-08T00:00:00-04:00\",\"2022-08-15T00:00:00-04:00\",\"2022-08-22T00:00:00-04:00\",\"2022-08-29T00:00:00-04:00\",\"2022-09-05T00:00:00-04:00\",\"2022-09-12T00:00:00-04:00\",\"2022-09-19T00:00:00-04:00\",\"2022-09-26T00:00:00-04:00\",\"2022-10-03T00:00:00-04:00\",\"2022-10-10T00:00:00-04:00\",\"2022-10-17T00:00:00-04:00\",\"2022-10-24T00:00:00-04:00\",\"2022-10-31T00:00:00-04:00\",\"2022-11-07T00:00:00-05:00\",\"2022-11-14T00:00:00-05:00\",\"2022-11-21T00:00:00-05:00\",\"2022-11-28T00:00:00-05:00\",\"2022-12-05T00:00:00-05:00\",\"2022-12-12T00:00:00-05:00\",\"2022-12-19T00:00:00-05:00\",\"2022-12-26T00:00:00-05:00\",\"2023-01-02T00:00:00-05:00\",\"2023-01-09T00:00:00-05:00\",\"2023-01-16T00:00:00-05:00\",\"2023-01-23T00:00:00-05:00\",\"2023-01-30T00:00:00-05:00\",\"2023-02-06T00:00:00-05:00\",\"2023-02-13T00:00:00-05:00\",\"2023-02-20T00:00:00-05:00\",\"2023-02-27T00:00:00-05:00\",\"2023-03-06T00:00:00-05:00\",\"2023-03-13T00:00:00-04:00\",\"2023-03-20T00:00:00-04:00\",\"2023-03-27T00:00:00-04:00\",\"2023-04-03T00:00:00-04:00\",\"2023-04-10T00:00:00-04:00\",\"2023-04-17T00:00:00-04:00\",\"2023-04-24T00:00:00-04:00\",\"2023-05-01T00:00:00-04:00\",\"2023-05-08T00:00:00-04:00\"],\"y\":[173.97999572753906,190.1999969482422,203.75,217.22999572753906,191.22000122070312,204.4199981689453,210.10000610351562,219.08999633789062,214.8699951171875,225.60000610351562,287.3800048828125,305.8800048828125,308.8800048828125,306.5,305.6600036621094,296.82000732421875,324.8399963378906,322.95001220703125,319.6499938964844,294.79998779296875,297.7099914550781,260.0,254.19000244140625,312.7699890136719,316.8699951171875,319.489990234375,322.6499938964844,324.4599914550781,338.1600036621094,339.9200134277344,338.1000061035156,317.8299865722656,293.0299987792969,271.7200012207031,251.64999389648438,260.9800109863281,234.3300018310547,235.89999389648438,247.0,218.6199951171875,208.82000732421875,219.17999267578125,230.44000244140625,221.49000549316406,214.85000610351562,214.19000244140625,215.88999938964844,214.64999389648438,231.4199981689453,228.36000061035156,166.63999938964844,172.60000610351562],\"type\":\"bar\",\"xaxis\":\"x2\",\"yaxis\":\"y2\"}],                        {\"template\":{\"data\":{\"histogram2dcontour\":[{\"type\":\"histogram2dcontour\",\"colorbar\":{\"outlinewidth\":0,\"ticks\":\"\"},\"colorscale\":[[0.0,\"#0d0887\"],[0.1111111111111111,\"#46039f\"],[0.2222222222222222,\"#7201a8\"],[0.3333333333333333,\"#9c179e\"],[0.4444444444444444,\"#bd3786\"],[0.5555555555555556,\"#d8576b\"],[0.6666666666666666,\"#ed7953\"],[0.7777777777777778,\"#fb9f3a\"],[0.8888888888888888,\"#fdca26\"],[1.0,\"#f0f921\"]]}],\"choropleth\":[{\"type\":\"choropleth\",\"colorbar\":{\"outlinewidth\":0,\"ticks\":\"\"}}],\"histogram2d\":[{\"type\":\"histogram2d\",\"colorbar\":{\"outlinewidth\":0,\"ticks\":\"\"},\"colorscale\":[[0.0,\"#0d0887\"],[0.1111111111111111,\"#46039f\"],[0.2222222222222222,\"#7201a8\"],[0.3333333333333333,\"#9c179e\"],[0.4444444444444444,\"#bd3786\"],[0.5555555555555556,\"#d8576b\"],[0.6666666666666666,\"#ed7953\"],[0.7777777777777778,\"#fb9f3a\"],[0.8888888888888888,\"#fdca26\"],[1.0,\"#f0f921\"]]}],\"heatmap\":[{\"type\":\"heatmap\",\"colorbar\":{\"outlinewidth\":0,\"ticks\":\"\"},\"colorscale\":[[0.0,\"#0d0887\"],[0.1111111111111111,\"#46039f\"],[0.2222222222222222,\"#7201a8\"],[0.3333333333333333,\"#9c179e\"],[0.4444444444444444,\"#bd3786\"],[0.5555555555555556,\"#d8576b\"],[0.6666666666666666,\"#ed7953\"],[0.7777777777777778,\"#fb9f3a\"],[0.8888888888888888,\"#fdca26\"],[1.0,\"#f0f921\"]]}],\"heatmapgl\":[{\"type\":\"heatmapgl\",\"colorbar\":{\"outlinewidth\":0,\"ticks\":\"\"},\"colorscale\":[[0.0,\"#0d0887\"],[0.1111111111111111,\"#46039f\"],[0.2222222222222222,\"#7201a8\"],[0.3333333333333333,\"#9c179e\"],[0.4444444444444444,\"#bd3786\"],[0.5555555555555556,\"#d8576b\"],[0.6666666666666666,\"#ed7953\"],[0.7777777777777778,\"#fb9f3a\"],[0.8888888888888888,\"#fdca26\"],[1.0,\"#f0f921\"]]}],\"contourcarpet\":[{\"type\":\"contourcarpet\",\"colorbar\":{\"outlinewidth\":0,\"ticks\":\"\"}}],\"contour\":[{\"type\":\"contour\",\"colorbar\":{\"outlinewidth\":0,\"ticks\":\"\"},\"colorscale\":[[0.0,\"#0d0887\"],[0.1111111111111111,\"#46039f\"],[0.2222222222222222,\"#7201a8\"],[0.3333333333333333,\"#9c179e\"],[0.4444444444444444,\"#bd3786\"],[0.5555555555555556,\"#d8576b\"],[0.6666666666666666,\"#ed7953\"],[0.7777777777777778,\"#fb9f3a\"],[0.8888888888888888,\"#fdca26\"],[1.0,\"#f0f921\"]]}],\"surface\":[{\"type\":\"surface\",\"colorbar\":{\"outlinewidth\":0,\"ticks\":\"\"},\"colorscale\":[[0.0,\"#0d0887\"],[0.1111111111111111,\"#46039f\"],[0.2222222222222222,\"#7201a8\"],[0.3333333333333333,\"#9c179e\"],[0.4444444444444444,\"#bd3786\"],[0.5555555555555556,\"#d8576b\"],[0.6666666666666666,\"#ed7953\"],[0.7777777777777778,\"#fb9f3a\"],[0.8888888888888888,\"#fdca26\"],[1.0,\"#f0f921\"]]}],\"mesh3d\":[{\"type\":\"mesh3d\",\"colorbar\":{\"outlinewidth\":0,\"ticks\":\"\"}}],\"scatter\":[{\"fillpattern\":{\"fillmode\":\"overlay\",\"size\":10,\"solidity\":0.2},\"type\":\"scatter\"}],\"parcoords\":[{\"type\":\"parcoords\",\"line\":{\"colorbar\":{\"outlinewidth\":0,\"ticks\":\"\"}}}],\"scatterpolargl\":[{\"type\":\"scatterpolargl\",\"marker\":{\"colorbar\":{\"outlinewidth\":0,\"ticks\":\"\"}}}],\"bar\":[{\"error_x\":{\"color\":\"#2a3f5f\"},\"error_y\":{\"color\":\"#2a3f5f\"},\"marker\":{\"line\":{\"color\":\"#E5ECF6\",\"width\":0.5},\"pattern\":{\"fillmode\":\"overlay\",\"size\":10,\"solidity\":0.2}},\"type\":\"bar\"}],\"scattergeo\":[{\"type\":\"scattergeo\",\"marker\":{\"colorbar\":{\"outlinewidth\":0,\"ticks\":\"\"}}}],\"scatterpolar\":[{\"type\":\"scatterpolar\",\"marker\":{\"colorbar\":{\"outlinewidth\":0,\"ticks\":\"\"}}}],\"histogram\":[{\"marker\":{\"pattern\":{\"fillmode\":\"overlay\",\"size\":10,\"solidity\":0.2}},\"type\":\"histogram\"}],\"scattergl\":[{\"type\":\"scattergl\",\"marker\":{\"colorbar\":{\"outlinewidth\":0,\"ticks\":\"\"}}}],\"scatter3d\":[{\"type\":\"scatter3d\",\"line\":{\"colorbar\":{\"outlinewidth\":0,\"ticks\":\"\"}},\"marker\":{\"colorbar\":{\"outlinewidth\":0,\"ticks\":\"\"}}}],\"scattermapbox\":[{\"type\":\"scattermapbox\",\"marker\":{\"colorbar\":{\"outlinewidth\":0,\"ticks\":\"\"}}}],\"scatterternary\":[{\"type\":\"scatterternary\",\"marker\":{\"colorbar\":{\"outlinewidth\":0,\"ticks\":\"\"}}}],\"scattercarpet\":[{\"type\":\"scattercarpet\",\"marker\":{\"colorbar\":{\"outlinewidth\":0,\"ticks\":\"\"}}}],\"carpet\":[{\"aaxis\":{\"endlinecolor\":\"#2a3f5f\",\"gridcolor\":\"white\",\"linecolor\":\"white\",\"minorgridcolor\":\"white\",\"startlinecolor\":\"#2a3f5f\"},\"baxis\":{\"endlinecolor\":\"#2a3f5f\",\"gridcolor\":\"white\",\"linecolor\":\"white\",\"minorgridcolor\":\"white\",\"startlinecolor\":\"#2a3f5f\"},\"type\":\"carpet\"}],\"table\":[{\"cells\":{\"fill\":{\"color\":\"#EBF0F8\"},\"line\":{\"color\":\"white\"}},\"header\":{\"fill\":{\"color\":\"#C8D4E3\"},\"line\":{\"color\":\"white\"}},\"type\":\"table\"}],\"barpolar\":[{\"marker\":{\"line\":{\"color\":\"#E5ECF6\",\"width\":0.5},\"pattern\":{\"fillmode\":\"overlay\",\"size\":10,\"solidity\":0.2}},\"type\":\"barpolar\"}],\"pie\":[{\"automargin\":true,\"type\":\"pie\"}]},\"layout\":{\"autotypenumbers\":\"strict\",\"colorway\":[\"#636efa\",\"#EF553B\",\"#00cc96\",\"#ab63fa\",\"#FFA15A\",\"#19d3f3\",\"#FF6692\",\"#B6E880\",\"#FF97FF\",\"#FECB52\"],\"font\":{\"color\":\"#2a3f5f\"},\"hovermode\":\"closest\",\"hoverlabel\":{\"align\":\"left\"},\"paper_bgcolor\":\"white\",\"plot_bgcolor\":\"#E5ECF6\",\"polar\":{\"bgcolor\":\"#E5ECF6\",\"angularaxis\":{\"gridcolor\":\"white\",\"linecolor\":\"white\",\"ticks\":\"\"},\"radialaxis\":{\"gridcolor\":\"white\",\"linecolor\":\"white\",\"ticks\":\"\"}},\"ternary\":{\"bgcolor\":\"#E5ECF6\",\"aaxis\":{\"gridcolor\":\"white\",\"linecolor\":\"white\",\"ticks\":\"\"},\"baxis\":{\"gridcolor\":\"white\",\"linecolor\":\"white\",\"ticks\":\"\"},\"caxis\":{\"gridcolor\":\"white\",\"linecolor\":\"white\",\"ticks\":\"\"}},\"coloraxis\":{\"colorbar\":{\"outlinewidth\":0,\"ticks\":\"\"}},\"colorscale\":{\"sequential\":[[0.0,\"#0d0887\"],[0.1111111111111111,\"#46039f\"],[0.2222222222222222,\"#7201a8\"],[0.3333333333333333,\"#9c179e\"],[0.4444444444444444,\"#bd3786\"],[0.5555555555555556,\"#d8576b\"],[0.6666666666666666,\"#ed7953\"],[0.7777777777777778,\"#fb9f3a\"],[0.8888888888888888,\"#fdca26\"],[1.0,\"#f0f921\"]],\"sequentialminus\":[[0.0,\"#0d0887\"],[0.1111111111111111,\"#46039f\"],[0.2222222222222222,\"#7201a8\"],[0.3333333333333333,\"#9c179e\"],[0.4444444444444444,\"#bd3786\"],[0.5555555555555556,\"#d8576b\"],[0.6666666666666666,\"#ed7953\"],[0.7777777777777778,\"#fb9f3a\"],[0.8888888888888888,\"#fdca26\"],[1.0,\"#f0f921\"]],\"diverging\":[[0,\"#8e0152\"],[0.1,\"#c51b7d\"],[0.2,\"#de77ae\"],[0.3,\"#f1b6da\"],[0.4,\"#fde0ef\"],[0.5,\"#f7f7f7\"],[0.6,\"#e6f5d0\"],[0.7,\"#b8e186\"],[0.8,\"#7fbc41\"],[0.9,\"#4d9221\"],[1,\"#276419\"]]},\"xaxis\":{\"gridcolor\":\"white\",\"linecolor\":\"white\",\"ticks\":\"\",\"title\":{\"standoff\":15},\"zerolinecolor\":\"white\",\"automargin\":true,\"zerolinewidth\":2},\"yaxis\":{\"gridcolor\":\"white\",\"linecolor\":\"white\",\"ticks\":\"\",\"title\":{\"standoff\":15},\"zerolinecolor\":\"white\",\"automargin\":true,\"zerolinewidth\":2},\"scene\":{\"xaxis\":{\"backgroundcolor\":\"#E5ECF6\",\"gridcolor\":\"white\",\"linecolor\":\"white\",\"showbackground\":true,\"ticks\":\"\",\"zerolinecolor\":\"white\",\"gridwidth\":2},\"yaxis\":{\"backgroundcolor\":\"#E5ECF6\",\"gridcolor\":\"white\",\"linecolor\":\"white\",\"showbackground\":true,\"ticks\":\"\",\"zerolinecolor\":\"white\",\"gridwidth\":2},\"zaxis\":{\"backgroundcolor\":\"#E5ECF6\",\"gridcolor\":\"white\",\"linecolor\":\"white\",\"showbackground\":true,\"ticks\":\"\",\"zerolinecolor\":\"white\",\"gridwidth\":2}},\"shapedefaults\":{\"line\":{\"color\":\"#2a3f5f\"}},\"annotationdefaults\":{\"arrowcolor\":\"#2a3f5f\",\"arrowhead\":0,\"arrowwidth\":1},\"geo\":{\"bgcolor\":\"white\",\"landcolor\":\"#E5ECF6\",\"subunitcolor\":\"white\",\"showland\":true,\"showlakes\":true,\"lakecolor\":\"white\"},\"title\":{\"x\":0.05},\"mapbox\":{\"style\":\"light\"}}},\"xaxis\":{\"anchor\":\"y\",\"domain\":[0.0,1.0]},\"yaxis\":{\"anchor\":\"x\",\"domain\":[0.7333333333333333,1.0]},\"xaxis2\":{\"anchor\":\"y2\",\"domain\":[0.0,1.0]},\"yaxis2\":{\"anchor\":\"x2\",\"domain\":[0.36666666666666664,0.6333333333333333]},\"xaxis3\":{\"anchor\":\"y3\",\"domain\":[0.0,1.0]},\"yaxis3\":{\"anchor\":\"x3\",\"domain\":[0.0,0.26666666666666666]},\"height\":1000,\"width\":1000,\"title\":{\"text\":\"Enphase Energy, Inc. (ENPH)\"}},                        {\"responsive\": true}                    ).then(function(){\n",
              "                            \n",
              "var gd = document.getElementById('f6f2ffcc-7e42-4865-ab7a-e6896a0dc434');\n",
              "var x = new MutationObserver(function (mutations, observer) {{\n",
              "        var display = window.getComputedStyle(gd).display;\n",
              "        if (!display || display === 'none') {{\n",
              "            console.log([gd, 'removed!']);\n",
              "            Plotly.purge(gd);\n",
              "            observer.disconnect();\n",
              "        }}\n",
              "}});\n",
              "\n",
              "// Listen for the removal of the full notebook cells\n",
              "var notebookContainer = gd.closest('#notebook-container');\n",
              "if (notebookContainer) {{\n",
              "    x.observe(notebookContainer, {childList: true});\n",
              "}}\n",
              "\n",
              "// Listen for the clearing of the current output cell\n",
              "var outputEl = gd.closest('.output');\n",
              "if (outputEl) {{\n",
              "    x.observe(outputEl, {childList: true});\n",
              "}}\n",
              "\n",
              "                        })                };                            </script>        </div>\n",
              "</body>\n",
              "</html>"
            ]
          },
          "metadata": {}
        }
      ]
    },
    {
      "cell_type": "markdown",
      "source": [
        "#Объединение нескольких графиков Investing.com"
      ],
      "metadata": {
        "id": "D6ng-YwET7Ni"
      }
    },
    {
      "cell_type": "code",
      "source": [
        "from plotly.subplots import make_subplots\n",
        "fig = make_subplots(rows = 2, cols=1)\n",
        "\n",
        "# Создание линейного графика процентного изменения цены биржевого товара PancakeSwap по данным за год с шагом в день\n",
        "fig.add_trace(go.Line(x = ps_1y['Date'], y = ps_1y['Change %'],name = 'Процент изменения'),row=2, col=1)\n",
        "\n",
        "# Создание линейного графика изменения цены биржевого товара PancakeSwap по данным за год с шагом в день\n",
        "fig.add_trace(go.Line(x = ps_1y['Date'], y = ps_1y['Price'],name = 'Цена'),row=2, col=1)\n",
        "\n",
        "# Создание столбчатого графика наименьшего значения цены биржевого товара PancakeSwap по данным за год с шагом в день\n",
        "fig.add_trace(go.Bar(x = ps_1y['Date'], y = ps_1y['Low'],name = 'Наименьшая цена'),row=1, col=1)\n",
        "\n",
        "# Создание столбчатого графика изменения цены на момент открытия биржевого товара PancakeSwap по данным за год с шагом в день\n",
        "fig.add_trace(go.Bar(x = ps_1y['Date'], y = ps_1y['Open'],name = 'Цена Открытия'),row=1, col=1)\n",
        "\n",
        "fig.update_layout(height=1000,\n",
        "                  width=1000)\n",
        "fig.update_layout(title=\"PancakeSwap\")\n",
        "fig.show()"
      ],
      "metadata": {
        "id": "kkY8pjvIRuO-",
        "colab": {
          "base_uri": "https://localhost:8080/",
          "height": 1000
        },
        "outputId": "9c741856-d24b-4ffd-dcdd-9d57b50d61bf"
      },
      "execution_count": null,
      "outputs": [
        {
          "output_type": "display_data",
          "data": {
            "text/html": [
              "<html>\n",
              "<head><meta charset=\"utf-8\" /></head>\n",
              "<body>\n",
              "    <div>            <script src=\"https://cdnjs.cloudflare.com/ajax/libs/mathjax/2.7.5/MathJax.js?config=TeX-AMS-MML_SVG\"></script><script type=\"text/javascript\">if (window.MathJax && window.MathJax.Hub && window.MathJax.Hub.Config) {window.MathJax.Hub.Config({SVG: {font: \"STIX-Web\"}});}</script>                <script type=\"text/javascript\">window.PlotlyConfig = {MathJaxConfig: 'local'};</script>\n",
              "        <script src=\"https://cdn.plot.ly/plotly-2.18.2.min.js\"></script>                <div id=\"4d9d9e6f-2f63-4a8d-a5d2-680077fb856c\" class=\"plotly-graph-div\" style=\"height:1000px; width:1000px;\"></div>            <script type=\"text/javascript\">                                    window.PLOTLYENV=window.PLOTLYENV || {};                                    if (document.getElementById(\"4d9d9e6f-2f63-4a8d-a5d2-680077fb856c\")) {                    Plotly.newPlot(                        \"4d9d9e6f-2f63-4a8d-a5d2-680077fb856c\",                        [{\"name\":\"\\u041f\\u0440\\u043e\\u0446\\u0435\\u043d\\u0442 \\u0438\\u0437\\u043c\\u0435\\u043d\\u0435\\u043d\\u0438\\u044f\",\"x\":[\"May 14, 2023\",\"May 13, 2023\",\"May 12, 2023\",\"May 11, 2023\",\"May 10, 2023\",\"May 09, 2023\",\"May 08, 2023\",\"May 07, 2023\",\"May 06, 2023\",\"May 05, 2023\",\"May 04, 2023\",\"May 03, 2023\",\"May 02, 2023\",\"May 01, 2023\",\"Apr 30, 2023\",\"Apr 29, 2023\",\"Apr 28, 2023\",\"Apr 27, 2023\",\"Apr 26, 2023\",\"Apr 25, 2023\",\"Apr 24, 2023\",\"Apr 23, 2023\",\"Apr 22, 2023\",\"Apr 21, 2023\",\"Apr 20, 2023\",\"Apr 19, 2023\",\"Apr 18, 2023\",\"Apr 17, 2023\",\"Apr 16, 2023\",\"Apr 15, 2023\",\"Apr 14, 2023\"],\"y\":[\"0.43%\",\"1.70%\",\"-2.31%\",\"-3.33%\",\"1.85%\",\"2.11%\",\"-9.24%\",\"-7.54%\",\"-9.47%\",\"-3.18%\",\"-1.10%\",\"0.24%\",\"-0.59%\",\"-4.68%\",\"-0.63%\",\"-2.36%\",\"4.51%\",\"0.92%\",\"-5.70%\",\"-3.82%\",\"-13.98%\",\"-1.53%\",\"1.55%\",\"-0.30%\",\"-1.93%\",\"-5.68%\",\"1.23%\",\"-2.29%\",\"0.79%\",\"0.47%\",\"-0.25%\"],\"type\":\"scatter\",\"xaxis\":\"x2\",\"yaxis\":\"y2\"},{\"name\":\"\\u0426\\u0435\\u043d\\u0430\",\"x\":[\"May 14, 2023\",\"May 13, 2023\",\"May 12, 2023\",\"May 11, 2023\",\"May 10, 2023\",\"May 09, 2023\",\"May 08, 2023\",\"May 07, 2023\",\"May 06, 2023\",\"May 05, 2023\",\"May 04, 2023\",\"May 03, 2023\",\"May 02, 2023\",\"May 01, 2023\",\"Apr 30, 2023\",\"Apr 29, 2023\",\"Apr 28, 2023\",\"Apr 27, 2023\",\"Apr 26, 2023\",\"Apr 25, 2023\",\"Apr 24, 2023\",\"Apr 23, 2023\",\"Apr 22, 2023\",\"Apr 21, 2023\",\"Apr 20, 2023\",\"Apr 19, 2023\",\"Apr 18, 2023\",\"Apr 17, 2023\",\"Apr 16, 2023\",\"Apr 15, 2023\",\"Apr 14, 2023\"],\"y\":[1.853,1.845,1.814,1.857,1.921,1.886,1.847,2.035,2.201,2.431,2.511,2.539,2.533,2.548,2.673,2.69,2.755,2.636,2.612,2.77,2.88,3.348,3.4,3.348,3.358,3.424,3.63,3.586,3.67,3.641,3.624],\"type\":\"scatter\",\"xaxis\":\"x2\",\"yaxis\":\"y2\"},{\"name\":\"\\u041d\\u0430\\u0438\\u043c\\u0435\\u043d\\u044c\\u0448\\u0430\\u044f \\u0446\\u0435\\u043d\\u0430\",\"x\":[\"May 14, 2023\",\"May 13, 2023\",\"May 12, 2023\",\"May 11, 2023\",\"May 10, 2023\",\"May 09, 2023\",\"May 08, 2023\",\"May 07, 2023\",\"May 06, 2023\",\"May 05, 2023\",\"May 04, 2023\",\"May 03, 2023\",\"May 02, 2023\",\"May 01, 2023\",\"Apr 30, 2023\",\"Apr 29, 2023\",\"Apr 28, 2023\",\"Apr 27, 2023\",\"Apr 26, 2023\",\"Apr 25, 2023\",\"Apr 24, 2023\",\"Apr 23, 2023\",\"Apr 22, 2023\",\"Apr 21, 2023\",\"Apr 20, 2023\",\"Apr 19, 2023\",\"Apr 18, 2023\",\"Apr 17, 2023\",\"Apr 16, 2023\",\"Apr 15, 2023\",\"Apr 14, 2023\"],\"y\":[1.837,1.804,1.772,1.848,1.883,1.838,1.837,2.034,2.189,2.431,2.51,2.502,2.501,2.53,2.669,2.687,2.605,2.567,2.554,2.587,2.819,3.323,3.343,3.316,3.343,3.408,3.569,3.568,3.624,3.602,3.562],\"type\":\"bar\",\"xaxis\":\"x\",\"yaxis\":\"y\"},{\"name\":\"\\u0426\\u0435\\u043d\\u0430 \\u041e\\u0442\\u043a\\u0440\\u044b\\u0442\\u0438\\u044f\",\"x\":[\"May 14, 2023\",\"May 13, 2023\",\"May 12, 2023\",\"May 11, 2023\",\"May 10, 2023\",\"May 09, 2023\",\"May 08, 2023\",\"May 07, 2023\",\"May 06, 2023\",\"May 05, 2023\",\"May 04, 2023\",\"May 03, 2023\",\"May 02, 2023\",\"May 01, 2023\",\"Apr 30, 2023\",\"Apr 29, 2023\",\"Apr 28, 2023\",\"Apr 27, 2023\",\"Apr 26, 2023\",\"Apr 25, 2023\",\"Apr 24, 2023\",\"Apr 23, 2023\",\"Apr 22, 2023\",\"Apr 21, 2023\",\"Apr 20, 2023\",\"Apr 19, 2023\",\"Apr 18, 2023\",\"Apr 17, 2023\",\"Apr 16, 2023\",\"Apr 15, 2023\",\"Apr 14, 2023\"],\"y\":[1.845,1.814,1.857,1.921,1.886,1.847,2.035,2.201,2.431,2.511,2.539,2.533,2.548,2.672,2.69,2.755,2.636,2.612,2.77,2.88,3.348,3.4,3.348,3.358,3.424,3.63,3.586,3.67,3.64,3.624,3.633],\"type\":\"bar\",\"xaxis\":\"x\",\"yaxis\":\"y\"}],                        {\"template\":{\"data\":{\"histogram2dcontour\":[{\"type\":\"histogram2dcontour\",\"colorbar\":{\"outlinewidth\":0,\"ticks\":\"\"},\"colorscale\":[[0.0,\"#0d0887\"],[0.1111111111111111,\"#46039f\"],[0.2222222222222222,\"#7201a8\"],[0.3333333333333333,\"#9c179e\"],[0.4444444444444444,\"#bd3786\"],[0.5555555555555556,\"#d8576b\"],[0.6666666666666666,\"#ed7953\"],[0.7777777777777778,\"#fb9f3a\"],[0.8888888888888888,\"#fdca26\"],[1.0,\"#f0f921\"]]}],\"choropleth\":[{\"type\":\"choropleth\",\"colorbar\":{\"outlinewidth\":0,\"ticks\":\"\"}}],\"histogram2d\":[{\"type\":\"histogram2d\",\"colorbar\":{\"outlinewidth\":0,\"ticks\":\"\"},\"colorscale\":[[0.0,\"#0d0887\"],[0.1111111111111111,\"#46039f\"],[0.2222222222222222,\"#7201a8\"],[0.3333333333333333,\"#9c179e\"],[0.4444444444444444,\"#bd3786\"],[0.5555555555555556,\"#d8576b\"],[0.6666666666666666,\"#ed7953\"],[0.7777777777777778,\"#fb9f3a\"],[0.8888888888888888,\"#fdca26\"],[1.0,\"#f0f921\"]]}],\"heatmap\":[{\"type\":\"heatmap\",\"colorbar\":{\"outlinewidth\":0,\"ticks\":\"\"},\"colorscale\":[[0.0,\"#0d0887\"],[0.1111111111111111,\"#46039f\"],[0.2222222222222222,\"#7201a8\"],[0.3333333333333333,\"#9c179e\"],[0.4444444444444444,\"#bd3786\"],[0.5555555555555556,\"#d8576b\"],[0.6666666666666666,\"#ed7953\"],[0.7777777777777778,\"#fb9f3a\"],[0.8888888888888888,\"#fdca26\"],[1.0,\"#f0f921\"]]}],\"heatmapgl\":[{\"type\":\"heatmapgl\",\"colorbar\":{\"outlinewidth\":0,\"ticks\":\"\"},\"colorscale\":[[0.0,\"#0d0887\"],[0.1111111111111111,\"#46039f\"],[0.2222222222222222,\"#7201a8\"],[0.3333333333333333,\"#9c179e\"],[0.4444444444444444,\"#bd3786\"],[0.5555555555555556,\"#d8576b\"],[0.6666666666666666,\"#ed7953\"],[0.7777777777777778,\"#fb9f3a\"],[0.8888888888888888,\"#fdca26\"],[1.0,\"#f0f921\"]]}],\"contourcarpet\":[{\"type\":\"contourcarpet\",\"colorbar\":{\"outlinewidth\":0,\"ticks\":\"\"}}],\"contour\":[{\"type\":\"contour\",\"colorbar\":{\"outlinewidth\":0,\"ticks\":\"\"},\"colorscale\":[[0.0,\"#0d0887\"],[0.1111111111111111,\"#46039f\"],[0.2222222222222222,\"#7201a8\"],[0.3333333333333333,\"#9c179e\"],[0.4444444444444444,\"#bd3786\"],[0.5555555555555556,\"#d8576b\"],[0.6666666666666666,\"#ed7953\"],[0.7777777777777778,\"#fb9f3a\"],[0.8888888888888888,\"#fdca26\"],[1.0,\"#f0f921\"]]}],\"surface\":[{\"type\":\"surface\",\"colorbar\":{\"outlinewidth\":0,\"ticks\":\"\"},\"colorscale\":[[0.0,\"#0d0887\"],[0.1111111111111111,\"#46039f\"],[0.2222222222222222,\"#7201a8\"],[0.3333333333333333,\"#9c179e\"],[0.4444444444444444,\"#bd3786\"],[0.5555555555555556,\"#d8576b\"],[0.6666666666666666,\"#ed7953\"],[0.7777777777777778,\"#fb9f3a\"],[0.8888888888888888,\"#fdca26\"],[1.0,\"#f0f921\"]]}],\"mesh3d\":[{\"type\":\"mesh3d\",\"colorbar\":{\"outlinewidth\":0,\"ticks\":\"\"}}],\"scatter\":[{\"fillpattern\":{\"fillmode\":\"overlay\",\"size\":10,\"solidity\":0.2},\"type\":\"scatter\"}],\"parcoords\":[{\"type\":\"parcoords\",\"line\":{\"colorbar\":{\"outlinewidth\":0,\"ticks\":\"\"}}}],\"scatterpolargl\":[{\"type\":\"scatterpolargl\",\"marker\":{\"colorbar\":{\"outlinewidth\":0,\"ticks\":\"\"}}}],\"bar\":[{\"error_x\":{\"color\":\"#2a3f5f\"},\"error_y\":{\"color\":\"#2a3f5f\"},\"marker\":{\"line\":{\"color\":\"#E5ECF6\",\"width\":0.5},\"pattern\":{\"fillmode\":\"overlay\",\"size\":10,\"solidity\":0.2}},\"type\":\"bar\"}],\"scattergeo\":[{\"type\":\"scattergeo\",\"marker\":{\"colorbar\":{\"outlinewidth\":0,\"ticks\":\"\"}}}],\"scatterpolar\":[{\"type\":\"scatterpolar\",\"marker\":{\"colorbar\":{\"outlinewidth\":0,\"ticks\":\"\"}}}],\"histogram\":[{\"marker\":{\"pattern\":{\"fillmode\":\"overlay\",\"size\":10,\"solidity\":0.2}},\"type\":\"histogram\"}],\"scattergl\":[{\"type\":\"scattergl\",\"marker\":{\"colorbar\":{\"outlinewidth\":0,\"ticks\":\"\"}}}],\"scatter3d\":[{\"type\":\"scatter3d\",\"line\":{\"colorbar\":{\"outlinewidth\":0,\"ticks\":\"\"}},\"marker\":{\"colorbar\":{\"outlinewidth\":0,\"ticks\":\"\"}}}],\"scattermapbox\":[{\"type\":\"scattermapbox\",\"marker\":{\"colorbar\":{\"outlinewidth\":0,\"ticks\":\"\"}}}],\"scatterternary\":[{\"type\":\"scatterternary\",\"marker\":{\"colorbar\":{\"outlinewidth\":0,\"ticks\":\"\"}}}],\"scattercarpet\":[{\"type\":\"scattercarpet\",\"marker\":{\"colorbar\":{\"outlinewidth\":0,\"ticks\":\"\"}}}],\"carpet\":[{\"aaxis\":{\"endlinecolor\":\"#2a3f5f\",\"gridcolor\":\"white\",\"linecolor\":\"white\",\"minorgridcolor\":\"white\",\"startlinecolor\":\"#2a3f5f\"},\"baxis\":{\"endlinecolor\":\"#2a3f5f\",\"gridcolor\":\"white\",\"linecolor\":\"white\",\"minorgridcolor\":\"white\",\"startlinecolor\":\"#2a3f5f\"},\"type\":\"carpet\"}],\"table\":[{\"cells\":{\"fill\":{\"color\":\"#EBF0F8\"},\"line\":{\"color\":\"white\"}},\"header\":{\"fill\":{\"color\":\"#C8D4E3\"},\"line\":{\"color\":\"white\"}},\"type\":\"table\"}],\"barpolar\":[{\"marker\":{\"line\":{\"color\":\"#E5ECF6\",\"width\":0.5},\"pattern\":{\"fillmode\":\"overlay\",\"size\":10,\"solidity\":0.2}},\"type\":\"barpolar\"}],\"pie\":[{\"automargin\":true,\"type\":\"pie\"}]},\"layout\":{\"autotypenumbers\":\"strict\",\"colorway\":[\"#636efa\",\"#EF553B\",\"#00cc96\",\"#ab63fa\",\"#FFA15A\",\"#19d3f3\",\"#FF6692\",\"#B6E880\",\"#FF97FF\",\"#FECB52\"],\"font\":{\"color\":\"#2a3f5f\"},\"hovermode\":\"closest\",\"hoverlabel\":{\"align\":\"left\"},\"paper_bgcolor\":\"white\",\"plot_bgcolor\":\"#E5ECF6\",\"polar\":{\"bgcolor\":\"#E5ECF6\",\"angularaxis\":{\"gridcolor\":\"white\",\"linecolor\":\"white\",\"ticks\":\"\"},\"radialaxis\":{\"gridcolor\":\"white\",\"linecolor\":\"white\",\"ticks\":\"\"}},\"ternary\":{\"bgcolor\":\"#E5ECF6\",\"aaxis\":{\"gridcolor\":\"white\",\"linecolor\":\"white\",\"ticks\":\"\"},\"baxis\":{\"gridcolor\":\"white\",\"linecolor\":\"white\",\"ticks\":\"\"},\"caxis\":{\"gridcolor\":\"white\",\"linecolor\":\"white\",\"ticks\":\"\"}},\"coloraxis\":{\"colorbar\":{\"outlinewidth\":0,\"ticks\":\"\"}},\"colorscale\":{\"sequential\":[[0.0,\"#0d0887\"],[0.1111111111111111,\"#46039f\"],[0.2222222222222222,\"#7201a8\"],[0.3333333333333333,\"#9c179e\"],[0.4444444444444444,\"#bd3786\"],[0.5555555555555556,\"#d8576b\"],[0.6666666666666666,\"#ed7953\"],[0.7777777777777778,\"#fb9f3a\"],[0.8888888888888888,\"#fdca26\"],[1.0,\"#f0f921\"]],\"sequentialminus\":[[0.0,\"#0d0887\"],[0.1111111111111111,\"#46039f\"],[0.2222222222222222,\"#7201a8\"],[0.3333333333333333,\"#9c179e\"],[0.4444444444444444,\"#bd3786\"],[0.5555555555555556,\"#d8576b\"],[0.6666666666666666,\"#ed7953\"],[0.7777777777777778,\"#fb9f3a\"],[0.8888888888888888,\"#fdca26\"],[1.0,\"#f0f921\"]],\"diverging\":[[0,\"#8e0152\"],[0.1,\"#c51b7d\"],[0.2,\"#de77ae\"],[0.3,\"#f1b6da\"],[0.4,\"#fde0ef\"],[0.5,\"#f7f7f7\"],[0.6,\"#e6f5d0\"],[0.7,\"#b8e186\"],[0.8,\"#7fbc41\"],[0.9,\"#4d9221\"],[1,\"#276419\"]]},\"xaxis\":{\"gridcolor\":\"white\",\"linecolor\":\"white\",\"ticks\":\"\",\"title\":{\"standoff\":15},\"zerolinecolor\":\"white\",\"automargin\":true,\"zerolinewidth\":2},\"yaxis\":{\"gridcolor\":\"white\",\"linecolor\":\"white\",\"ticks\":\"\",\"title\":{\"standoff\":15},\"zerolinecolor\":\"white\",\"automargin\":true,\"zerolinewidth\":2},\"scene\":{\"xaxis\":{\"backgroundcolor\":\"#E5ECF6\",\"gridcolor\":\"white\",\"linecolor\":\"white\",\"showbackground\":true,\"ticks\":\"\",\"zerolinecolor\":\"white\",\"gridwidth\":2},\"yaxis\":{\"backgroundcolor\":\"#E5ECF6\",\"gridcolor\":\"white\",\"linecolor\":\"white\",\"showbackground\":true,\"ticks\":\"\",\"zerolinecolor\":\"white\",\"gridwidth\":2},\"zaxis\":{\"backgroundcolor\":\"#E5ECF6\",\"gridcolor\":\"white\",\"linecolor\":\"white\",\"showbackground\":true,\"ticks\":\"\",\"zerolinecolor\":\"white\",\"gridwidth\":2}},\"shapedefaults\":{\"line\":{\"color\":\"#2a3f5f\"}},\"annotationdefaults\":{\"arrowcolor\":\"#2a3f5f\",\"arrowhead\":0,\"arrowwidth\":1},\"geo\":{\"bgcolor\":\"white\",\"landcolor\":\"#E5ECF6\",\"subunitcolor\":\"white\",\"showland\":true,\"showlakes\":true,\"lakecolor\":\"white\"},\"title\":{\"x\":0.05},\"mapbox\":{\"style\":\"light\"}}},\"xaxis\":{\"anchor\":\"y\",\"domain\":[0.0,1.0]},\"yaxis\":{\"anchor\":\"x\",\"domain\":[0.575,1.0]},\"xaxis2\":{\"anchor\":\"y2\",\"domain\":[0.0,1.0]},\"yaxis2\":{\"anchor\":\"x2\",\"domain\":[0.0,0.425]},\"height\":1000,\"width\":1000,\"title\":{\"text\":\"PancakeSwap\"}},                        {\"responsive\": true}                    ).then(function(){\n",
              "                            \n",
              "var gd = document.getElementById('4d9d9e6f-2f63-4a8d-a5d2-680077fb856c');\n",
              "var x = new MutationObserver(function (mutations, observer) {{\n",
              "        var display = window.getComputedStyle(gd).display;\n",
              "        if (!display || display === 'none') {{\n",
              "            console.log([gd, 'removed!']);\n",
              "            Plotly.purge(gd);\n",
              "            observer.disconnect();\n",
              "        }}\n",
              "}});\n",
              "\n",
              "// Listen for the removal of the full notebook cells\n",
              "var notebookContainer = gd.closest('#notebook-container');\n",
              "if (notebookContainer) {{\n",
              "    x.observe(notebookContainer, {childList: true});\n",
              "}}\n",
              "\n",
              "// Listen for the clearing of the current output cell\n",
              "var outputEl = gd.closest('.output');\n",
              "if (outputEl) {{\n",
              "    x.observe(outputEl, {childList: true});\n",
              "}}\n",
              "\n",
              "                        })                };                            </script>        </div>\n",
              "</body>\n",
              "</html>"
            ]
          },
          "metadata": {}
        }
      ]
    }
  ]
}