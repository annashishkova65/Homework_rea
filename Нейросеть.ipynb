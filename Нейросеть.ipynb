{
  "nbformat": 4,
  "nbformat_minor": 0,
  "metadata": {
    "colab": {
      "provenance": [],
      "toc_visible": true
    },
    "kernelspec": {
      "name": "python3",
      "display_name": "Python 3"
    },
    "language_info": {
      "name": "python"
    }
  },
  "cells": [
    {
      "cell_type": "markdown",
      "source": [
        "## Нейросеть с обучением - классификация\n"
      ],
      "metadata": {
        "id": "FsRLtcP3V1gk"
      }
    },
    {
      "cell_type": "code",
      "execution_count": null,
      "metadata": {
        "id": "c5x20QJUQ4iQ"
      },
      "outputs": [],
      "source": [
        "import numpy as np # импорт библиотек\n",
        "import pandas as pd"
      ]
    },
    {
      "cell_type": "code",
      "source": [
        "import tensorflow as tf\n",
        "from tensorflow import keras"
      ],
      "metadata": {
        "id": "XNAIy1TpWNg-"
      },
      "execution_count": null,
      "outputs": []
    },
    {
      "cell_type": "code",
      "source": [
        "from typing import Sequence\n",
        "from keras.models import Sequential\n",
        "from keras.layers import Dense\n",
        "from keras.utils import np_utils"
      ],
      "metadata": {
        "id": "2-f_PjQVWqOj"
      },
      "execution_count": null,
      "outputs": []
    },
    {
      "cell_type": "markdown",
      "source": [
        "# Импорт файла"
      ],
      "metadata": {
        "id": "GwGBm8psXhpi"
      }
    },
    {
      "cell_type": "code",
      "source": [
        "file_data = pd.read_csv(\"/content/drive/MyDrive/water_potability.csv\") # чтение файла\n",
        "file_data"
      ],
      "metadata": {
        "colab": {
          "base_uri": "https://localhost:8080/",
          "height": 424
        },
        "id": "5w2aFI2VX72Q",
        "outputId": "cd47ca4d-2667-45cd-d2b3-1cb5b44888ac"
      },
      "execution_count": null,
      "outputs": [
        {
          "output_type": "execute_result",
          "data": {
            "text/plain": [
              "            ph    Hardness        Solids  Chloramines     Sulfate  \\\n",
              "0          NaN  204.890455  20791.318981     7.300212  368.516441   \n",
              "1     3.716080  129.422921  18630.057858     6.635246         NaN   \n",
              "2     8.099124  224.236259  19909.541732     9.275884         NaN   \n",
              "3     8.316766  214.373394  22018.417441     8.059332  356.886136   \n",
              "4     9.092223  181.101509  17978.986339     6.546600  310.135738   \n",
              "...        ...         ...           ...          ...         ...   \n",
              "3271  4.668102  193.681735  47580.991603     7.166639  359.948574   \n",
              "3272  7.808856  193.553212  17329.802160     8.061362         NaN   \n",
              "3273  9.419510  175.762646  33155.578218     7.350233         NaN   \n",
              "3274  5.126763  230.603758  11983.869376     6.303357         NaN   \n",
              "3275  7.874671  195.102299  17404.177061     7.509306         NaN   \n",
              "\n",
              "      Conductivity  Organic_carbon  Trihalomethanes  Turbidity  Potability  \n",
              "0       564.308654       10.379783        86.990970   2.963135           0  \n",
              "1       592.885359       15.180013        56.329076   4.500656           0  \n",
              "2       418.606213       16.868637        66.420093   3.055934           0  \n",
              "3       363.266516       18.436524       100.341674   4.628771           0  \n",
              "4       398.410813       11.558279        31.997993   4.075075           0  \n",
              "...            ...             ...              ...        ...         ...  \n",
              "3271    526.424171       13.894419        66.687695   4.435821           1  \n",
              "3272    392.449580       19.903225              NaN   2.798243           1  \n",
              "3273    432.044783       11.039070        69.845400   3.298875           1  \n",
              "3274    402.883113       11.168946        77.488213   4.708658           1  \n",
              "3275    327.459760       16.140368        78.698446   2.309149           1  \n",
              "\n",
              "[3276 rows x 10 columns]"
            ],
            "text/html": [
              "\n",
              "  <div id=\"df-02415419-4eeb-4fd5-9179-1ab04fbde17f\">\n",
              "    <div class=\"colab-df-container\">\n",
              "      <div>\n",
              "<style scoped>\n",
              "    .dataframe tbody tr th:only-of-type {\n",
              "        vertical-align: middle;\n",
              "    }\n",
              "\n",
              "    .dataframe tbody tr th {\n",
              "        vertical-align: top;\n",
              "    }\n",
              "\n",
              "    .dataframe thead th {\n",
              "        text-align: right;\n",
              "    }\n",
              "</style>\n",
              "<table border=\"1\" class=\"dataframe\">\n",
              "  <thead>\n",
              "    <tr style=\"text-align: right;\">\n",
              "      <th></th>\n",
              "      <th>ph</th>\n",
              "      <th>Hardness</th>\n",
              "      <th>Solids</th>\n",
              "      <th>Chloramines</th>\n",
              "      <th>Sulfate</th>\n",
              "      <th>Conductivity</th>\n",
              "      <th>Organic_carbon</th>\n",
              "      <th>Trihalomethanes</th>\n",
              "      <th>Turbidity</th>\n",
              "      <th>Potability</th>\n",
              "    </tr>\n",
              "  </thead>\n",
              "  <tbody>\n",
              "    <tr>\n",
              "      <th>0</th>\n",
              "      <td>NaN</td>\n",
              "      <td>204.890455</td>\n",
              "      <td>20791.318981</td>\n",
              "      <td>7.300212</td>\n",
              "      <td>368.516441</td>\n",
              "      <td>564.308654</td>\n",
              "      <td>10.379783</td>\n",
              "      <td>86.990970</td>\n",
              "      <td>2.963135</td>\n",
              "      <td>0</td>\n",
              "    </tr>\n",
              "    <tr>\n",
              "      <th>1</th>\n",
              "      <td>3.716080</td>\n",
              "      <td>129.422921</td>\n",
              "      <td>18630.057858</td>\n",
              "      <td>6.635246</td>\n",
              "      <td>NaN</td>\n",
              "      <td>592.885359</td>\n",
              "      <td>15.180013</td>\n",
              "      <td>56.329076</td>\n",
              "      <td>4.500656</td>\n",
              "      <td>0</td>\n",
              "    </tr>\n",
              "    <tr>\n",
              "      <th>2</th>\n",
              "      <td>8.099124</td>\n",
              "      <td>224.236259</td>\n",
              "      <td>19909.541732</td>\n",
              "      <td>9.275884</td>\n",
              "      <td>NaN</td>\n",
              "      <td>418.606213</td>\n",
              "      <td>16.868637</td>\n",
              "      <td>66.420093</td>\n",
              "      <td>3.055934</td>\n",
              "      <td>0</td>\n",
              "    </tr>\n",
              "    <tr>\n",
              "      <th>3</th>\n",
              "      <td>8.316766</td>\n",
              "      <td>214.373394</td>\n",
              "      <td>22018.417441</td>\n",
              "      <td>8.059332</td>\n",
              "      <td>356.886136</td>\n",
              "      <td>363.266516</td>\n",
              "      <td>18.436524</td>\n",
              "      <td>100.341674</td>\n",
              "      <td>4.628771</td>\n",
              "      <td>0</td>\n",
              "    </tr>\n",
              "    <tr>\n",
              "      <th>4</th>\n",
              "      <td>9.092223</td>\n",
              "      <td>181.101509</td>\n",
              "      <td>17978.986339</td>\n",
              "      <td>6.546600</td>\n",
              "      <td>310.135738</td>\n",
              "      <td>398.410813</td>\n",
              "      <td>11.558279</td>\n",
              "      <td>31.997993</td>\n",
              "      <td>4.075075</td>\n",
              "      <td>0</td>\n",
              "    </tr>\n",
              "    <tr>\n",
              "      <th>...</th>\n",
              "      <td>...</td>\n",
              "      <td>...</td>\n",
              "      <td>...</td>\n",
              "      <td>...</td>\n",
              "      <td>...</td>\n",
              "      <td>...</td>\n",
              "      <td>...</td>\n",
              "      <td>...</td>\n",
              "      <td>...</td>\n",
              "      <td>...</td>\n",
              "    </tr>\n",
              "    <tr>\n",
              "      <th>3271</th>\n",
              "      <td>4.668102</td>\n",
              "      <td>193.681735</td>\n",
              "      <td>47580.991603</td>\n",
              "      <td>7.166639</td>\n",
              "      <td>359.948574</td>\n",
              "      <td>526.424171</td>\n",
              "      <td>13.894419</td>\n",
              "      <td>66.687695</td>\n",
              "      <td>4.435821</td>\n",
              "      <td>1</td>\n",
              "    </tr>\n",
              "    <tr>\n",
              "      <th>3272</th>\n",
              "      <td>7.808856</td>\n",
              "      <td>193.553212</td>\n",
              "      <td>17329.802160</td>\n",
              "      <td>8.061362</td>\n",
              "      <td>NaN</td>\n",
              "      <td>392.449580</td>\n",
              "      <td>19.903225</td>\n",
              "      <td>NaN</td>\n",
              "      <td>2.798243</td>\n",
              "      <td>1</td>\n",
              "    </tr>\n",
              "    <tr>\n",
              "      <th>3273</th>\n",
              "      <td>9.419510</td>\n",
              "      <td>175.762646</td>\n",
              "      <td>33155.578218</td>\n",
              "      <td>7.350233</td>\n",
              "      <td>NaN</td>\n",
              "      <td>432.044783</td>\n",
              "      <td>11.039070</td>\n",
              "      <td>69.845400</td>\n",
              "      <td>3.298875</td>\n",
              "      <td>1</td>\n",
              "    </tr>\n",
              "    <tr>\n",
              "      <th>3274</th>\n",
              "      <td>5.126763</td>\n",
              "      <td>230.603758</td>\n",
              "      <td>11983.869376</td>\n",
              "      <td>6.303357</td>\n",
              "      <td>NaN</td>\n",
              "      <td>402.883113</td>\n",
              "      <td>11.168946</td>\n",
              "      <td>77.488213</td>\n",
              "      <td>4.708658</td>\n",
              "      <td>1</td>\n",
              "    </tr>\n",
              "    <tr>\n",
              "      <th>3275</th>\n",
              "      <td>7.874671</td>\n",
              "      <td>195.102299</td>\n",
              "      <td>17404.177061</td>\n",
              "      <td>7.509306</td>\n",
              "      <td>NaN</td>\n",
              "      <td>327.459760</td>\n",
              "      <td>16.140368</td>\n",
              "      <td>78.698446</td>\n",
              "      <td>2.309149</td>\n",
              "      <td>1</td>\n",
              "    </tr>\n",
              "  </tbody>\n",
              "</table>\n",
              "<p>3276 rows × 10 columns</p>\n",
              "</div>\n",
              "      <button class=\"colab-df-convert\" onclick=\"convertToInteractive('df-02415419-4eeb-4fd5-9179-1ab04fbde17f')\"\n",
              "              title=\"Convert this dataframe to an interactive table.\"\n",
              "              style=\"display:none;\">\n",
              "        \n",
              "  <svg xmlns=\"http://www.w3.org/2000/svg\" height=\"24px\"viewBox=\"0 0 24 24\"\n",
              "       width=\"24px\">\n",
              "    <path d=\"M0 0h24v24H0V0z\" fill=\"none\"/>\n",
              "    <path d=\"M18.56 5.44l.94 2.06.94-2.06 2.06-.94-2.06-.94-.94-2.06-.94 2.06-2.06.94zm-11 1L8.5 8.5l.94-2.06 2.06-.94-2.06-.94L8.5 2.5l-.94 2.06-2.06.94zm10 10l.94 2.06.94-2.06 2.06-.94-2.06-.94-.94-2.06-.94 2.06-2.06.94z\"/><path d=\"M17.41 7.96l-1.37-1.37c-.4-.4-.92-.59-1.43-.59-.52 0-1.04.2-1.43.59L10.3 9.45l-7.72 7.72c-.78.78-.78 2.05 0 2.83L4 21.41c.39.39.9.59 1.41.59.51 0 1.02-.2 1.41-.59l7.78-7.78 2.81-2.81c.8-.78.8-2.07 0-2.86zM5.41 20L4 18.59l7.72-7.72 1.47 1.35L5.41 20z\"/>\n",
              "  </svg>\n",
              "      </button>\n",
              "      \n",
              "  <style>\n",
              "    .colab-df-container {\n",
              "      display:flex;\n",
              "      flex-wrap:wrap;\n",
              "      gap: 12px;\n",
              "    }\n",
              "\n",
              "    .colab-df-convert {\n",
              "      background-color: #E8F0FE;\n",
              "      border: none;\n",
              "      border-radius: 50%;\n",
              "      cursor: pointer;\n",
              "      display: none;\n",
              "      fill: #1967D2;\n",
              "      height: 32px;\n",
              "      padding: 0 0 0 0;\n",
              "      width: 32px;\n",
              "    }\n",
              "\n",
              "    .colab-df-convert:hover {\n",
              "      background-color: #E2EBFA;\n",
              "      box-shadow: 0px 1px 2px rgba(60, 64, 67, 0.3), 0px 1px 3px 1px rgba(60, 64, 67, 0.15);\n",
              "      fill: #174EA6;\n",
              "    }\n",
              "\n",
              "    [theme=dark] .colab-df-convert {\n",
              "      background-color: #3B4455;\n",
              "      fill: #D2E3FC;\n",
              "    }\n",
              "\n",
              "    [theme=dark] .colab-df-convert:hover {\n",
              "      background-color: #434B5C;\n",
              "      box-shadow: 0px 1px 3px 1px rgba(0, 0, 0, 0.15);\n",
              "      filter: drop-shadow(0px 1px 2px rgba(0, 0, 0, 0.3));\n",
              "      fill: #FFFFFF;\n",
              "    }\n",
              "  </style>\n",
              "\n",
              "      <script>\n",
              "        const buttonEl =\n",
              "          document.querySelector('#df-02415419-4eeb-4fd5-9179-1ab04fbde17f button.colab-df-convert');\n",
              "        buttonEl.style.display =\n",
              "          google.colab.kernel.accessAllowed ? 'block' : 'none';\n",
              "\n",
              "        async function convertToInteractive(key) {\n",
              "          const element = document.querySelector('#df-02415419-4eeb-4fd5-9179-1ab04fbde17f');\n",
              "          const dataTable =\n",
              "            await google.colab.kernel.invokeFunction('convertToInteractive',\n",
              "                                                     [key], {});\n",
              "          if (!dataTable) return;\n",
              "\n",
              "          const docLinkHtml = 'Like what you see? Visit the ' +\n",
              "            '<a target=\"_blank\" href=https://colab.research.google.com/notebooks/data_table.ipynb>data table notebook</a>'\n",
              "            + ' to learn more about interactive tables.';\n",
              "          element.innerHTML = '';\n",
              "          dataTable['output_type'] = 'display_data';\n",
              "          await google.colab.output.renderOutput(dataTable, element);\n",
              "          const docLink = document.createElement('div');\n",
              "          docLink.innerHTML = docLinkHtml;\n",
              "          element.appendChild(docLink);\n",
              "        }\n",
              "      </script>\n",
              "    </div>\n",
              "  </div>\n",
              "  "
            ]
          },
          "metadata": {},
          "execution_count": 4
        }
      ]
    },
    {
      "cell_type": "code",
      "source": [
        "file_data.info() # информация о файле"
      ],
      "metadata": {
        "colab": {
          "base_uri": "https://localhost:8080/"
        },
        "id": "p82ns3Rubl1u",
        "outputId": "07c60283-47cc-43c0-9606-e4976d1ff265"
      },
      "execution_count": null,
      "outputs": [
        {
          "output_type": "stream",
          "name": "stdout",
          "text": [
            "<class 'pandas.core.frame.DataFrame'>\n",
            "RangeIndex: 3276 entries, 0 to 3275\n",
            "Data columns (total 10 columns):\n",
            " #   Column           Non-Null Count  Dtype  \n",
            "---  ------           --------------  -----  \n",
            " 0   ph               2785 non-null   float64\n",
            " 1   Hardness         3276 non-null   float64\n",
            " 2   Solids           3276 non-null   float64\n",
            " 3   Chloramines      3276 non-null   float64\n",
            " 4   Sulfate          2495 non-null   float64\n",
            " 5   Conductivity     3276 non-null   float64\n",
            " 6   Organic_carbon   3276 non-null   float64\n",
            " 7   Trihalomethanes  3114 non-null   float64\n",
            " 8   Turbidity        3276 non-null   float64\n",
            " 9   Potability       3276 non-null   int64  \n",
            "dtypes: float64(9), int64(1)\n",
            "memory usage: 256.1 KB\n"
          ]
        }
      ]
    },
    {
      "cell_type": "code",
      "source": [
        "cols = list(file_data.columns)\n",
        "cols.remove(\"Potability\") # удаление колонки\n",
        "print(\"Шишкова А. А. Параметры, которые будут использоваться в исследовании:\")\n",
        "for i,col in enumerate(cols):\n",
        "    print(f\"{i+1}. {col}\")\n"
      ],
      "metadata": {
        "colab": {
          "base_uri": "https://localhost:8080/"
        },
        "id": "vN1XohvccctO",
        "outputId": "52be0b03-2bcd-4e77-af66-ec883d43eb37"
      },
      "execution_count": null,
      "outputs": [
        {
          "output_type": "stream",
          "name": "stdout",
          "text": [
            "Шишкова А. А. Параметры, которые будут использоваться в исследовании:\n",
            "1. ph\n",
            "2. Hardness\n",
            "3. Solids\n",
            "4. Chloramines\n",
            "5. Sulfate\n",
            "6. Conductivity\n",
            "7. Organic_carbon\n",
            "8. Trihalomethanes\n",
            "9. Turbidity\n"
          ]
        }
      ]
    },
    {
      "cell_type": "code",
      "source": [
        "print(\"ОРИГИНАЛЬНЫЙ ФАЙЛ\\n\", file_data)\n",
        "print(\"________________________________________\")\n",
        "file_data = file_data.fillna(0) # удалениe NaN\n",
        "print(\"\\n МОДИФИЦИРОВАННЫЙ ФАЙЛ БЕЗ NaN\", file_data)"
      ],
      "metadata": {
        "colab": {
          "base_uri": "https://localhost:8080/"
        },
        "id": "Mwoa7CqUeIao",
        "outputId": "d1a0f335-afaf-4950-cd14-a576e5b11010"
      },
      "execution_count": null,
      "outputs": [
        {
          "output_type": "stream",
          "name": "stdout",
          "text": [
            "ОРИГИНАЛЬНЫЙ ФАЙЛ\n",
            "             ph    Hardness        Solids  Chloramines     Sulfate  \\\n",
            "0          NaN  204.890455  20791.318981     7.300212  368.516441   \n",
            "1     3.716080  129.422921  18630.057858     6.635246         NaN   \n",
            "2     8.099124  224.236259  19909.541732     9.275884         NaN   \n",
            "3     8.316766  214.373394  22018.417441     8.059332  356.886136   \n",
            "4     9.092223  181.101509  17978.986339     6.546600  310.135738   \n",
            "...        ...         ...           ...          ...         ...   \n",
            "3271  4.668102  193.681735  47580.991603     7.166639  359.948574   \n",
            "3272  7.808856  193.553212  17329.802160     8.061362         NaN   \n",
            "3273  9.419510  175.762646  33155.578218     7.350233         NaN   \n",
            "3274  5.126763  230.603758  11983.869376     6.303357         NaN   \n",
            "3275  7.874671  195.102299  17404.177061     7.509306         NaN   \n",
            "\n",
            "      Conductivity  Organic_carbon  Trihalomethanes  Turbidity  Potability  \n",
            "0       564.308654       10.379783        86.990970   2.963135           0  \n",
            "1       592.885359       15.180013        56.329076   4.500656           0  \n",
            "2       418.606213       16.868637        66.420093   3.055934           0  \n",
            "3       363.266516       18.436524       100.341674   4.628771           0  \n",
            "4       398.410813       11.558279        31.997993   4.075075           0  \n",
            "...            ...             ...              ...        ...         ...  \n",
            "3271    526.424171       13.894419        66.687695   4.435821           1  \n",
            "3272    392.449580       19.903225              NaN   2.798243           1  \n",
            "3273    432.044783       11.039070        69.845400   3.298875           1  \n",
            "3274    402.883113       11.168946        77.488213   4.708658           1  \n",
            "3275    327.459760       16.140368        78.698446   2.309149           1  \n",
            "\n",
            "[3276 rows x 10 columns]\n",
            "________________________________________\n",
            "\n",
            " МОДИФИЦИРОВАННЫЙ ФАЙЛ БЕЗ NaN             ph    Hardness        Solids  Chloramines     Sulfate  \\\n",
            "0     0.000000  204.890455  20791.318981     7.300212  368.516441   \n",
            "1     3.716080  129.422921  18630.057858     6.635246    0.000000   \n",
            "2     8.099124  224.236259  19909.541732     9.275884    0.000000   \n",
            "3     8.316766  214.373394  22018.417441     8.059332  356.886136   \n",
            "4     9.092223  181.101509  17978.986339     6.546600  310.135738   \n",
            "...        ...         ...           ...          ...         ...   \n",
            "3271  4.668102  193.681735  47580.991603     7.166639  359.948574   \n",
            "3272  7.808856  193.553212  17329.802160     8.061362    0.000000   \n",
            "3273  9.419510  175.762646  33155.578218     7.350233    0.000000   \n",
            "3274  5.126763  230.603758  11983.869376     6.303357    0.000000   \n",
            "3275  7.874671  195.102299  17404.177061     7.509306    0.000000   \n",
            "\n",
            "      Conductivity  Organic_carbon  Trihalomethanes  Turbidity  Potability  \n",
            "0       564.308654       10.379783        86.990970   2.963135           0  \n",
            "1       592.885359       15.180013        56.329076   4.500656           0  \n",
            "2       418.606213       16.868637        66.420093   3.055934           0  \n",
            "3       363.266516       18.436524       100.341674   4.628771           0  \n",
            "4       398.410813       11.558279        31.997993   4.075075           0  \n",
            "...            ...             ...              ...        ...         ...  \n",
            "3271    526.424171       13.894419        66.687695   4.435821           1  \n",
            "3272    392.449580       19.903225         0.000000   2.798243           1  \n",
            "3273    432.044783       11.039070        69.845400   3.298875           1  \n",
            "3274    402.883113       11.168946        77.488213   4.708658           1  \n",
            "3275    327.459760       16.140368        78.698446   2.309149           1  \n",
            "\n",
            "[3276 rows x 10 columns]\n"
          ]
        }
      ]
    },
    {
      "cell_type": "markdown",
      "source": [
        "## Предиктор и отклик"
      ],
      "metadata": {
        "id": "oe5hUVatfMFv"
      }
    },
    {
      "cell_type": "code",
      "source": [
        "y = file_data[\"Potability\"] # это отклик, цель вектор y\n",
        "x = file_data.drop(\"Potability\", axis = 1) # это предиктор - вся таблица Х, кроме y\n",
        "\n",
        "print(y)\n",
        "print(x)"
      ],
      "metadata": {
        "colab": {
          "base_uri": "https://localhost:8080/"
        },
        "id": "WwXWgilrfa_z",
        "outputId": "6225aa70-329d-42cc-f1f0-3ffbf0a89f7c"
      },
      "execution_count": null,
      "outputs": [
        {
          "output_type": "stream",
          "name": "stdout",
          "text": [
            "0       0\n",
            "1       0\n",
            "2       0\n",
            "3       0\n",
            "4       0\n",
            "       ..\n",
            "3271    1\n",
            "3272    1\n",
            "3273    1\n",
            "3274    1\n",
            "3275    1\n",
            "Name: Potability, Length: 3276, dtype: int64\n",
            "            ph    Hardness        Solids  Chloramines     Sulfate  \\\n",
            "0     0.000000  204.890455  20791.318981     7.300212  368.516441   \n",
            "1     3.716080  129.422921  18630.057858     6.635246    0.000000   \n",
            "2     8.099124  224.236259  19909.541732     9.275884    0.000000   \n",
            "3     8.316766  214.373394  22018.417441     8.059332  356.886136   \n",
            "4     9.092223  181.101509  17978.986339     6.546600  310.135738   \n",
            "...        ...         ...           ...          ...         ...   \n",
            "3271  4.668102  193.681735  47580.991603     7.166639  359.948574   \n",
            "3272  7.808856  193.553212  17329.802160     8.061362    0.000000   \n",
            "3273  9.419510  175.762646  33155.578218     7.350233    0.000000   \n",
            "3274  5.126763  230.603758  11983.869376     6.303357    0.000000   \n",
            "3275  7.874671  195.102299  17404.177061     7.509306    0.000000   \n",
            "\n",
            "      Conductivity  Organic_carbon  Trihalomethanes  Turbidity  \n",
            "0       564.308654       10.379783        86.990970   2.963135  \n",
            "1       592.885359       15.180013        56.329076   4.500656  \n",
            "2       418.606213       16.868637        66.420093   3.055934  \n",
            "3       363.266516       18.436524       100.341674   4.628771  \n",
            "4       398.410813       11.558279        31.997993   4.075075  \n",
            "...            ...             ...              ...        ...  \n",
            "3271    526.424171       13.894419        66.687695   4.435821  \n",
            "3272    392.449580       19.903225         0.000000   2.798243  \n",
            "3273    432.044783       11.039070        69.845400   3.298875  \n",
            "3274    402.883113       11.168946        77.488213   4.708658  \n",
            "3275    327.459760       16.140368        78.698446   2.309149  \n",
            "\n",
            "[3276 rows x 9 columns]\n"
          ]
        }
      ]
    },
    {
      "cell_type": "code",
      "source": [
        "import matplotlib.pyplot as plt\n",
        "plt.title(\"Питьевая пригодность воды Шишкова А.А., 25.04.2023\") # заголовок графика\n",
        "df = list(file_data[\"Potability\"].values)\n",
        "pot = [0, 0]\n",
        "keys = [\"Не питьевая вода\", \"Питьевая вода\"]\n",
        "for i in df:\n",
        "    pot[i] += 1\n",
        "plt.bar(range(2), pot, tick_label=keys) # отображение графика\n",
        "plt.show()"
      ],
      "metadata": {
        "id": "LpeYjEhegTMM",
        "colab": {
          "base_uri": "https://localhost:8080/",
          "height": 452
        },
        "outputId": "f2111b5a-9352-4d63-a459-4bacf7911aff"
      },
      "execution_count": null,
      "outputs": [
        {
          "output_type": "display_data",
          "data": {
            "text/plain": [
              "<Figure size 640x480 with 1 Axes>"
            ],
            "image/png": "[encoded data removed]"
          },
          "metadata": {}
        }
      ]
    },
    {
      "cell_type": "markdown",
      "source": [
        "# Тестовая и обучающая выборка"
      ],
      "metadata": {
        "id": "iklGADpXWzPv"
      }
    },
    {
      "cell_type": "code",
      "source": [
        "from sklearn.model_selection import train_test_split\n",
        "\n",
        "x_train, x_test, y_train, y_test = train_test_split(x,y,random_state = 12345,test_size = 0.25) # разбитие данных на тестовую и обучающую выборку\n",
        "\n",
        "print(x_train)"
      ],
      "metadata": {
        "colab": {
          "base_uri": "https://localhost:8080/"
        },
        "id": "f_xQU1XQW5uK",
        "outputId": "8c990de1-516a-498d-b7d6-221143a30a9b"
      },
      "execution_count": null,
      "outputs": [
        {
          "output_type": "stream",
          "name": "stdout",
          "text": [
            "             ph    Hardness        Solids  Chloramines     Sulfate  \\\n",
            "2487   9.349470  252.148499  13137.490762     6.173823  320.323984   \n",
            "302    5.667651  229.928367  16953.898736     8.774306  293.574250   \n",
            "446   10.464502  190.994848   6700.775054     6.879858    0.000000   \n",
            "829    5.527633  218.518923  22095.637164     6.436288    0.000000   \n",
            "2010   8.813505  236.392817  40684.390014     6.608775  303.529818   \n",
            "...         ...         ...           ...          ...         ...   \n",
            "2817   8.247958  195.539536  28327.167338     5.378286  281.229853   \n",
            "546    3.410360  207.397473  49074.730407     5.667433  301.975011   \n",
            "382    5.772718  213.363545  26124.931415     8.630719  273.279448   \n",
            "2177   8.026773  169.333843  19168.526773     8.081496  405.527337   \n",
            "482    7.705711  178.922858  18476.619166     8.226228  334.889911   \n",
            "\n",
            "      Conductivity  Organic_carbon  Trihalomethanes  Turbidity  \n",
            "2487    349.816084       13.109898        58.801291   3.778023  \n",
            "302     554.120536       14.254641        54.436702   3.633214  \n",
            "446     498.931911       14.562161        66.701621   4.956358  \n",
            "829     412.867610       12.640135        44.328641   4.591137  \n",
            "2010    278.355123       14.576057        72.872697   4.242460  \n",
            "...            ...             ...              ...        ...  \n",
            "2817    588.699193       18.076938        70.793036   4.723231  \n",
            "546     351.520393       15.987370        86.639186   3.721766  \n",
            "382     465.559286        8.006208        59.964334   6.494249  \n",
            "2177    350.577370       15.177534        68.003932   3.735983  \n",
            "482     518.043369       10.638798        63.157489   3.861956  \n",
            "\n",
            "[2457 rows x 9 columns]\n"
          ]
        }
      ]
    },
    {
      "cell_type": "markdown",
      "source": [
        "# Преобразование Pandas в Numpy"
      ],
      "metadata": {
        "id": "JGBW43DFZBO_"
      }
    },
    {
      "cell_type": "code",
      "source": [
        "x_train = x_train.values # преобразование Pandas в Numpy\n",
        "x_test = x_test.values\n",
        "y_train = y_train.values\n",
        "y_test = y_test.values\n",
        "print(x_test)\n"
      ],
      "metadata": {
        "colab": {
          "base_uri": "https://localhost:8080/"
        },
        "id": "3tm2Dlq7X72R",
        "outputId": "08259fc6-80eb-4a35-f093-d59aa8f54a03"
      },
      "execution_count": null,
      "outputs": [
        {
          "output_type": "stream",
          "name": "stdout",
          "text": [
            "[[8.64953495e+00 1.75426670e+02 9.89802221e+03 ... 1.00692542e+01\n",
            "  0.00000000e+00 5.22980919e+00]\n",
            " [6.82393014e+00 1.46130599e+02 1.34678798e+04 ... 1.43076867e+01\n",
            "  8.15295337e+01 4.01614408e+00]\n",
            " [8.43329082e+00 1.61195283e+02 1.59042434e+04 ... 1.53037548e+01\n",
            "  7.14785008e+01 3.63154293e+00]\n",
            " ...\n",
            " [6.23419767e+00 2.27560867e+02 2.21952104e+04 ... 1.30397640e+01\n",
            "  6.31639695e+01 3.88549232e+00]\n",
            " [5.59662785e+00 1.77213792e+02 1.79253521e+04 ... 1.03399856e+01\n",
            "  5.78206111e+01 5.23511112e+00]\n",
            " [7.14601972e+00 1.95922102e+02 2.24451733e+04 ... 1.23671092e+01\n",
            "  5.75306585e+01 5.39347636e+00]]\n"
          ]
        }
      ]
    },
    {
      "cell_type": "code",
      "source": [
        "y_train_bin = np_utils.to_categorical(y_train) # преобразование y_train\n",
        "y_test_bin = np_utils.to_categorical(y_test) # преобразование y_test\n",
        "\n",
        "y_train_bin[0:5]"
      ],
      "metadata": {
        "colab": {
          "base_uri": "https://localhost:8080/"
        },
        "id": "PKgawe-_a62V",
        "outputId": "1b81796e-4be0-4667-b6cf-0eb2589d7cdd"
      },
      "execution_count": null,
      "outputs": [
        {
          "output_type": "execute_result",
          "data": {
            "text/plain": [
              "array([[1., 0.],\n",
              "       [0., 1.],\n",
              "       [1., 0.],\n",
              "       [1., 0.],\n",
              "       [0., 1.]], dtype=float32)"
            ]
          },
          "metadata": {},
          "execution_count": 12
        }
      ]
    },
    {
      "cell_type": "markdown",
      "source": [
        "# Модель"
      ],
      "metadata": {
        "id": "Fsnj_8jmjYvl"
      }
    },
    {
      "cell_type": "code",
      "source": [
        "model=Sequential()\n",
        "\n",
        "model.add(Dense(10, input_dim=9, activation='relu')) # 10 - колическтво входных нейронов\n",
        "model.add(Dense(10,activation='relu')) # 10 - колическтво нейронов скрытого слоя\n",
        "model.add(Dense(2,activation='softmax')) # 2 - колическтво выходных нейронов"
      ],
      "metadata": {
        "id": "IqX188VTjcGJ"
      },
      "execution_count": null,
      "outputs": []
    },
    {
      "cell_type": "markdown",
      "source": [
        "# Компиляция и обучение модели"
      ],
      "metadata": {
        "id": "ICv8cv7BkuIh"
      }
    },
    {
      "cell_type": "code",
      "source": [
        "model.compile(loss=\"binary_crossentropy\", optimizer='Adam', metrics=['accuracy'])"
      ],
      "metadata": {
        "id": "QRHd5mvakymt"
      },
      "execution_count": null,
      "outputs": []
    },
    {
      "cell_type": "code",
      "source": [
        "print('Шишкова А.А. 02.05.2023 Обучение модели на train-данных')\n",
        "history = model.fit(x_train, y_train_bin, epochs=10, batch_size=3) # процесс обучения"
      ],
      "metadata": {
        "colab": {
          "base_uri": "https://localhost:8080/"
        },
        "id": "pQms1tSimkkl",
        "outputId": "b33eb218-58c4-48da-e93d-1fb2c37ee18f"
      },
      "execution_count": null,
      "outputs": [
        {
          "output_type": "stream",
          "name": "stdout",
          "text": [
            "Шишкова А.А. 02.05.2023 Обучение модели на train-данных\n",
            "Epoch 1/10\n",
            "819/819 [==============================] - 4s 3ms/step - loss: 15.4618 - accuracy: 0.5258\n",
            "Epoch 2/10\n",
            "819/819 [==============================] - 2s 3ms/step - loss: 9.0993 - accuracy: 0.5254\n",
            "Epoch 3/10\n",
            "819/819 [==============================] - 2s 3ms/step - loss: 9.2526 - accuracy: 0.5291\n",
            "Epoch 4/10\n",
            "819/819 [==============================] - 3s 4ms/step - loss: 9.0471 - accuracy: 0.5246\n",
            "Epoch 5/10\n",
            "819/819 [==============================] - 3s 4ms/step - loss: 8.5126 - accuracy: 0.5222\n",
            "Epoch 6/10\n",
            "819/819 [==============================] - 2s 3ms/step - loss: 7.8153 - accuracy: 0.5210\n",
            "Epoch 7/10\n",
            "819/819 [==============================] - 3s 3ms/step - loss: 5.7599 - accuracy: 0.5238\n",
            "Epoch 8/10\n",
            "819/819 [==============================] - 2s 3ms/step - loss: 5.8001 - accuracy: 0.5401\n",
            "Epoch 9/10\n",
            "819/819 [==============================] - 1s 2ms/step - loss: 5.2609 - accuracy: 0.5442\n",
            "Epoch 10/10\n",
            "819/819 [==============================] - 2s 2ms/step - loss: 6.3727 - accuracy: 0.5372\n"
          ]
        }
      ]
    },
    {
      "cell_type": "code",
      "source": [
        "print('Шишкова А. А., 02.05.2023')\n",
        "print('Оценка модели на тестовых данных:')\n",
        "scores = model.evaluate(x_test,y_test_bin)\n",
        "print('\\nAccuracy (Точность модели): %.2f%%' % (scores[1]*100))\n",
        "\n",
        "print('Функция потерь тестовой выборки и точность модели по тестовой выборке:')\n",
        "print('test loss, test accuracy:', scores) # оценка точности модели"
      ],
      "metadata": {
        "colab": {
          "base_uri": "https://localhost:8080/"
        },
        "id": "sI_DUaQEnqFN",
        "outputId": "94cb17f9-7c37-4804-be68-90ecd2708a93"
      },
      "execution_count": null,
      "outputs": [
        {
          "output_type": "stream",
          "name": "stdout",
          "text": [
            "Шишкова А. А., 02.05.2023\n",
            "Оценка модели на тестовых данных:\n",
            "26/26 [==============================] - 0s 2ms/step - loss: 9.9390 - accuracy: 0.6300\n",
            "\n",
            "Accuracy (Точность модели): 63.00%\n",
            "Функция потерь тестовой выборки и точность модели по тестовой выборке:\n",
            "test loss, test accuracy: [9.938957214355469, 0.6300366520881653]\n"
          ]
        }
      ]
    },
    {
      "cell_type": "code",
      "source": [
        "fig = plt.figure()\n",
        "ax = fig.add_subplot(111) # первая строка, первый столбец (первая ячейка) на сетке Figure\n",
        "\n",
        "plt.plot(history.history[\"accuracy\"], label=\"Шишкова_Средняя абсолютная точность Accuracy на обучающем наборе\")\n",
        "\n",
        "# добавление подписи к осям\n",
        "plt.xlabel(\"эпоха обучения\")\n",
        "ax.set_ylabel(\"Средняя абсолюьтная точность\")\n",
        "plt.legend()\n",
        "plt.show()\n",
        "\n",
        "# делаем отдельный график для тестовой выборки\n",
        "plt.plot(scores, label=\"Шишкова_Средняя абсолютная точность Accuracy на тестовом наборе\")\n",
        "plt.legend()\n",
        "plt.show()"
      ],
      "metadata": {
        "colab": {
          "base_uri": "https://localhost:8080/",
          "height": 863
        },
        "id": "IuXkg3gZZul3",
        "outputId": "86e8ec21-fafa-4d90-aeab-8246d403a80c"
      },
      "execution_count": null,
      "outputs": [
        {
          "output_type": "display_data",
          "data": {
            "text/plain": [
              "<Figure size 640x480 with 1 Axes>"
            ],
            "image/png": "[encoded data removed]"
          },
          "metadata": {}
        },
        {
          "output_type": "display_data",
          "data": {
            "text/plain": [
              "<Figure size 640x480 with 1 Axes>"
            ],
            "image/png": "[encoded data removed]"
          },
          "metadata": {}
        }
      ]
    }
  ]
}